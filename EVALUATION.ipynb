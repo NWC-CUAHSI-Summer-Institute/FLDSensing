{
 "cells": [
  {
   "cell_type": "code",
   "execution_count": null,
   "id": "1be167bf-1fb0-40c3-99fc-80641ae7e77b",
   "metadata": {},
   "outputs": [],
   "source": [
    "import rioxarray as rxr\n",
    "import gval\n",
    "import xarray as xr\n",
    "import numpy as np\n",
    "import geopandas as gpd\n",
    "from shapely.geometry import mapping\n",
    "import matplotlib.pyplot as plt\n",
    "import matplotlib\n",
    "import matplotlib.cm as cm\n",
    "import rasterio\n",
    "from rasterio.warp import calculate_default_transform, reproject, Resampling\n",
    "from mpl_toolkits.axes_grid1.inset_locator import inset_axes\n",
    "from matplotlib import cm, colors"
   ]
  },
  {
   "cell_type": "code",
   "execution_count": null,
   "id": "0f417e2c-7016-4c6b-a862-94c5f4014135",
   "metadata": {},
   "outputs": [],
   "source": [
    "\n",
    "benchmark = rxr.open_rasterio(\n",
    "    'C:/.../.tif',\n",
    ")\n",
    "benchmark = benchmark.dropna(dim=\"y\", how=\"all\").dropna(dim=\"x\", how=\"all\")\n",
    "candidate = rxr.open_rasterio(\n",
    "    'C:/.../.tif',\n",
    ")"
   ]
  },
  {
   "cell_type": "code",
   "execution_count": null,
   "id": "f2396ad2-a9c5-4ba6-9c87-56585057518e",
   "metadata": {},
   "outputs": [],
   "source": [
    "candidate = xr.where(candidate > 0, 1, 0).rio.write_nodata(0, inplace=True)\n",
    "benchmark = xr.where(benchmark > 0, 1, 0).rio.write_nodata(0, inplace=True)"
   ]
  },
  {
   "cell_type": "code",
   "execution_count": null,
   "id": "b300f7ea-15eb-4c37-b33d-dedb29db7df6",
   "metadata": {},
   "outputs": [],
   "source": [
    "candidate, benchmark = candidate.gval.homogenize(\n",
    "    benchmark_map=benchmark,\n",
    ")\n",
    "candidate = candidate.sel( x = benchmark['x'], y = benchmark['y'],)\n",
    "candidate.plot()"
   ]
  },
  {
   "cell_type": "code",
   "execution_count": null,
   "id": "1783c3cc-efb9-4995-9068-4a37875649ae",
   "metadata": {},
   "outputs": [],
   "source": [
    "# riv =  gpd.read_file('examples/verdigris_10m_v8/segs/fldsensing_segments.shp' ,)\n",
    "# riv = riv.to_crs(candidate.rio.crs)\n",
    "# riv.geometry = riv.geometry.buffer(90)"
   ]
  },
  {
   "cell_type": "code",
   "execution_count": null,
   "id": "429a5664-1151-40d3-aa21-cffcc87f53d4",
   "metadata": {},
   "outputs": [],
   "source": [
    "# mask = candidate.rio.clip(riv.geometry.apply(mapping), riv.crs, drop=True)\n",
    "# mask = xr.where(~np.isnan(mask), 1, np.nan)\n",
    "# candidate = xr.where(mask == 1, np.nan, candidate)\n",
    "# benchmark = xr.where(mask == 1, np.nan, benchmark)"
   ]
  },
  {
   "cell_type": "code",
   "execution_count": null,
   "id": "c77a17fc-7679-426f-81d8-50c22facd12d",
   "metadata": {},
   "outputs": [],
   "source": [
    "agreement_map, crosstab_table, metric_table = candidate.gval.categorical_compare(\n",
    "    benchmark, positive_categories=[1], average = 'micro'\n",
    ")\n",
    "metric_table.transpose()"
   ]
  },
  {
   "cell_type": "code",
   "execution_count": null,
   "id": "6d0131a3-6812-4069-93c5-04227e39a25e",
   "metadata": {},
   "outputs": [],
   "source": [
    "agreement_map.gval.cat_plot(figsize = (5,8), legend_labels = ['TN','FN','FP','TP'], \n",
    "                            basemap = None, colormap = 'jet', title = 'RS-FLDPLN FIM')"
   ]
  },
  {
   "cell_type": "markdown",
   "id": "c8227823-2e54-4d39-a5f0-ef39cb98e43d",
   "metadata": {
    "jp-MarkdownHeadingCollapsed": true
   },
   "source": [
    "# Plot"
   ]
  },
  {
   "cell_type": "code",
   "execution_count": null,
   "id": "1966f3cf",
   "metadata": {},
   "outputs": [],
   "source": [
    "def replace_values(data_array):\n",
    "    # Replace values in the data array with corresponding indices\n",
    "    replaced_data = xr.where(data_array == 0, 0,\n",
    "                             xr.where(data_array == 4, 1,\n",
    "                                      xr.where(data_array == 6, 2,\n",
    "                                               xr.where(data_array == 8, 3, data_array))))\n",
    "    return replaced_data\n",
    "\n",
    "agreement_map1 = replace_values(agreement_map)"
   ]
  },
  {
   "cell_type": "code",
   "execution_count": null,
   "id": "c2cc10a3",
   "metadata": {},
   "outputs": [],
   "source": [
    "import xarray as xr\n",
    "import numpy as np\n",
    "import matplotlib.pyplot as plt\n",
    "from matplotlib.colors import ListedColormap, BoundaryNorm\n",
    "\n",
    "levels = [0, 1, 2, 3, 4]\n",
    "labels = [\"TN\", \"FN\", \"FP\", \"TP\"]\n",
    "cmap = ListedColormap(['grey', 'red', 'orange', 'green'])\n",
    "norm = BoundaryNorm(levels, cmap.N)\n",
    "\n",
    "fig, ax = plt.subplots(figsize=(20, 10))\n",
    "plot = agreement_map1.plot(ax=ax, cmap=cmap, norm=norm, add_colorbar=False, add_labels=False)\n",
    "\n",
    "ax.axis('off')\n",
    "ax.set_aspect('equal')\n",
    "ax.set_xlim(float(agreement_map1.x.min()), float(agreement_map1.x.max()))\n",
    "ax.set_ylim(float(agreement_map1.y.min()), float(agreement_map1.y.max()))\n",
    "fig.subplots_adjust(left=0, right=1, top=1, bottom=0)\n",
    "\n",
    "ax.text(0.03, 0.03,\n",
    "        \"CSI = {:.2f}\\nPOD = {:.2f}\\nFAR = {:.2f}\\nF-1 = {:.2f}\".format(\n",
    "            metric_table['critical_success_index'][0],\n",
    "            metric_table['true_positive_rate'][0],\n",
    "            metric_table['false_discovery_rate'][0],\n",
    "            metric_table['f_score'][0]),\n",
    "        transform=ax.transAxes, fontsize=15, va='bottom', ha='left', color ='white')\n",
    "\n",
    "ax.text(0.01, 0.99, \"(b.)\", transform=ax.transAxes, fontsize=16,\n",
    "        verticalalignment='top', horizontalalignment='left', color='white')\n",
    "\n",
    "plt.show()"
   ]
  },
  {
   "cell_type": "code",
   "execution_count": null,
   "id": "2f4a09f4",
   "metadata": {},
   "outputs": [],
   "source": [
    "tif_path = r\"C:/.../.tif\"\n",
    "with rasterio.open(tif_path) as src:\n",
    "    img = src.read(1)\n",
    "    nodata = src.nodata\n",
    "    extent = [src.bounds.left, src.bounds.right, src.bounds.bottom, src.bounds.top]\n",
    "\n",
    "if nodata is not None:\n",
    "    img = np.where(img == nodata, np.nan, img)\n",
    "img = np.where(img == 0, np.nan, img)\n",
    "\n",
    "vmin = 0\n",
    "vmax = np.ceil(np.nanmax(img) * 100) / 100  \n",
    "\n",
    "cmap = cm.get_cmap('Blues').copy()\n",
    "cmap.set_bad(color='grey') \n",
    "\n",
    "fig, ax = plt.subplots(figsize=(20, 10))\n",
    "im = ax.imshow(img, extent=extent, cmap=cmap, origin='upper',\n",
    "               vmin=vmin, vmax=vmax)\n",
    "\n",
    "ax.set_xlim(float(agreement_map1.x.min()), float(agreement_map1.x.max()))\n",
    "ax.set_ylim(float(agreement_map1.y.min()), float(agreement_map1.y.max()))\n",
    "\n",
    "ax.axis('off')\n",
    "ax.set_aspect('equal')\n",
    "fig.subplots_adjust(left=0, right=1, top=1, bottom=0)\n",
    "\n",
    "cax = inset_axes(ax, width=\"3%\", height=\"30%\", loc='lower left', borderpad=2)\n",
    "cbar = fig.colorbar(im, cax=cax)\n",
    "cbar.set_label('Depth (feet)', fontsize=12, color='white') \n",
    "cbar.ax.tick_params(labelsize=10, colors='white')   \n",
    "\n",
    "ax.text(0.01, 0.99, \"(a.)\", transform=ax.transAxes, fontsize=16,\n",
    "        verticalalignment='top', horizontalalignment='left', color='white')\n",
    "\n",
    "plt.show()"
   ]
  },
  {
   "cell_type": "code",
   "execution_count": null,
   "id": "a3b1af44",
   "metadata": {},
   "outputs": [],
   "source": [
    "agreement_map = agreement_map.rio.write_crs(\"EPSG:4326\")"
   ]
  },
  {
   "cell_type": "code",
   "execution_count": null,
   "id": "5a8aea96",
   "metadata": {},
   "outputs": [],
   "source": [
    "regions = [-95.7348872270929, -95.50682323623167, 36.991503881271214, 37.24254955524226]"
   ]
  },
  {
   "cell_type": "code",
   "execution_count": null,
   "id": "452cbad5-2692-4b9a-8da3-521908c1e42d",
   "metadata": {},
   "outputs": [],
   "source": [
    "agreement_map.gval.cat_plot(figsize = (5,8), legend_labels = ['TN','FN','FP','TP'], \n",
    "                            basemap = None, colormap = 'jet', title = 'RS-FLDPLN FIM')"
   ]
  },
  {
   "cell_type": "markdown",
   "id": "09c028c2-bae4-40cf-9b98-68a1624350fc",
   "metadata": {},
   "source": [
    "# RMSE"
   ]
  },
  {
   "cell_type": "code",
   "execution_count": null,
   "id": "971d4191-3402-400f-b9d5-8a7d41e24bcd",
   "metadata": {},
   "outputs": [],
   "source": [
    "import rioxarray as rxr\n",
    "import gval\n",
    "import xarray as xr\n",
    "import numpy as np\n",
    "import geopandas as gpd\n",
    "from shapely.geometry import mapping\n",
    "import matplotlib.pyplot as plt\n",
    "import matplotlib"
   ]
  },
  {
   "cell_type": "code",
   "execution_count": null,
   "id": "57b0e6a4-4a92-481d-a5b3-9064e8e4eb9a",
   "metadata": {},
   "outputs": [],
   "source": [
    "benchmark = rxr.open_rasterio(\n",
    "    'C:/.../.tif',\n",
    ")\n",
    "benchmark = benchmark.dropna(dim=\"y\", how=\"all\").dropna(dim=\"x\", how=\"all\")\n",
    "\n",
    "candidate = rxr.open_rasterio(\n",
    "     'C:/.../.tif',\n",
    ")\n",
    "\n",
    "candidate.rio.write_nodata(-9999, inplace=True)\n",
    "benchmark.rio.write_nodata(-9999, inplace=True)\n",
    "\n",
    "candidate, benchmark = candidate.gval.homogenize(\n",
    "    benchmark_map=benchmark,\n",
    ")\n",
    "candidate = candidate.sel( x = benchmark['x'], y = benchmark['y'], method='nearest')\n",
    "candidate.plot()"
   ]
  },
  {
   "cell_type": "code",
   "execution_count": null,
   "id": "cdcb643a-1236-4daf-accf-b0b89dde2cc4",
   "metadata": {},
   "outputs": [],
   "source": [
    "benchmark.plot()"
   ]
  },
  {
   "cell_type": "code",
   "execution_count": null,
   "id": "fd4ef133-f5df-4607-a60b-5a1981ea6ac8",
   "metadata": {},
   "outputs": [],
   "source": [
    "sim = candidate.values[0]\n",
    "bench = benchmark.values[0]\n",
    "res = agreement_map.values[0]\n",
    "\n",
    "res"
   ]
  },
  {
   "cell_type": "code",
   "execution_count": null,
   "id": "e9bd1c22-f2a7-4de4-bc91-a9c319a80214",
   "metadata": {},
   "outputs": [],
   "source": [
    "sim[res != 8] = np.nan\n",
    "bench[res != 8] = np.nan"
   ]
  },
  {
   "cell_type": "code",
   "execution_count": null,
   "id": "9532407f",
   "metadata": {},
   "outputs": [],
   "source": [
    "benchmark_flat = bench.flatten()\n",
    "benchmark_flat = benchmark_flat[~np.isnan(benchmark_flat)]\n",
    "\n",
    "plt.hist(benchmark_flat, bins=20, edgecolor='black')\n",
    "plt.title(\"HEC-RAS Depth\")\n",
    "plt.xlabel(\"Depth\")\n",
    "plt.ylabel(\"Frequency\")\n",
    "plt.show()"
   ]
  },
  {
   "cell_type": "code",
   "execution_count": null,
   "id": "09037281",
   "metadata": {},
   "outputs": [],
   "source": [
    "\n",
    "candidate_flat = sim.flatten()\n",
    "candidate_flat = candidate_flat[~np.isnan(candidate_flat)]\n",
    "\n",
    "plt.hist(candidate_flat, bins=20, edgecolor='black')\n",
    "plt.title(\"FLDSensing Depth\")\n",
    "plt.xlabel(\"Depth\")\n",
    "plt.ylabel(\"Frequency\")\n",
    "plt.show()"
   ]
  },
  {
   "cell_type": "code",
   "execution_count": null,
   "id": "70fc5195-8dea-4213-949c-2e1b71468810",
   "metadata": {},
   "outputs": [],
   "source": [
    "diff = sim - bench\n",
    "diff"
   ]
  },
  {
   "cell_type": "code",
   "execution_count": null,
   "id": "0dba2b1d-e4ba-4eed-873d-dfa610a86404",
   "metadata": {},
   "outputs": [],
   "source": [
    "np.nanmax(diff) , np.nanmin(diff)"
   ]
  },
  {
   "cell_type": "code",
   "execution_count": null,
   "id": "254859e5-6cf5-4856-987f-416c055d42c9",
   "metadata": {},
   "outputs": [],
   "source": [
    "def pbias(observed, simulated):\n",
    "\n",
    "    observed_flat = observed.flatten()\n",
    "    simulated_flat = simulated.flatten()\n",
    "    \n",
    "    mask = ~np.isnan(observed_flat) & ~np.isnan(simulated_flat)\n",
    "    \n",
    "    observed_valid = observed_flat[mask]\n",
    "    simulated_valid = simulated_flat[mask]\n",
    "    \n",
    "    bias = np.sum(simulated_valid-observed_valid)\n",
    "    total = np.sum(observed_valid)\n",
    "\n",
    "    pbias_value = (bias / total) * 100\n",
    "    return pbias_value\n",
    "\n",
    "def rmse(simulated, observed):\n",
    "    simulated = simulated.flatten()\n",
    "    observed = observed.flatten()\n",
    "    \n",
    "    mask = ~np.isnan(simulated) & ~np.isnan(observed)\n",
    "    sim_valid = simulated[mask]\n",
    "    obs_valid = observed[mask]\n",
    "    \n",
    "    return np.sqrt(np.mean((sim_valid - obs_valid) ** 2))"
   ]
  },
  {
   "cell_type": "code",
   "execution_count": null,
   "id": "fc66cd93-252c-4ff0-a574-b980f8b49683",
   "metadata": {
    "scrolled": true
   },
   "outputs": [],
   "source": [
    "rmse(sim, bench).round(2)"
   ]
  },
  {
   "cell_type": "code",
   "execution_count": null,
   "id": "03112738-afc3-4559-82df-67dda0cf6a99",
   "metadata": {
    "scrolled": true
   },
   "outputs": [],
   "source": [
    "pbias(bench,sim).round(2)"
   ]
  },
  {
   "cell_type": "code",
   "execution_count": null,
   "id": "afa2c9bc-9268-4ed2-a6a4-686910c0df8e",
   "metadata": {},
   "outputs": [],
   "source": [
    "np.nanmax(diff) , np.nanmin(diff)"
   ]
  },
  {
   "cell_type": "code",
   "execution_count": null,
   "id": "7a8680fd-58cd-4b52-9751-2dc4a4853202",
   "metadata": {},
   "outputs": [],
   "source": [
    "cmap = matplotlib.cm.seismic.copy()\n",
    "cmap.set_bad('grey', 1.)\n",
    "\n",
    "diff = sim - bench\n",
    "vmax = np.nanmax(np.abs(diff))\n",
    "\n",
    "fig, ax = plt.subplots(figsize=(20, 10))\n",
    "\n",
    "im = ax.imshow(diff, cmap=cmap, vmin=-vmax, vmax=vmax)\n",
    "\n",
    "cax = inset_axes(ax, width=\"3%\", height=\"30%\", loc='lower left', borderpad=2)\n",
    "cbar = fig.colorbar(im, cax=cax)\n",
    "cbar.set_label(\"Flood depth difference (Feet)\", fontsize=12, color='white')\n",
    "cbar.ax.tick_params(labelsize=10, colors='white')\n",
    "\n",
    "ax.text(0.99, 0.90, f\"RMSE = {rmse(sim, bench):.2f}\",\n",
    "        transform=ax.transAxes, fontsize=15, va='top', ha='right', color='white')\n",
    "ax.text(0.99, 0.96, f\"PBIAS = {pbias(bench, sim):.2f}%\",\n",
    "        transform=ax.transAxes, fontsize=15, va='top', ha='right', color='white')\n",
    "\n",
    "ax.text(0.01, 0.99, \"(c.)\", transform=ax.transAxes, fontsize=16,\n",
    "        verticalalignment='top', horizontalalignment='left', color='white')\n",
    "\n",
    "ax.axis('off')\n",
    "ax.set_aspect('equal')\n",
    "fig.subplots_adjust(left=0, right=1, top=1, bottom=0)\n",
    "\n",
    "plt.show()"
   ]
  }
 ],
 "metadata": {
  "kernelspec": {
   "display_name": "base",
   "language": "python",
   "name": "python3"
  },
  "language_info": {
   "codemirror_mode": {
    "name": "ipython",
    "version": 3
   },
   "file_extension": ".py",
   "mimetype": "text/x-python",
   "name": "python",
   "nbconvert_exporter": "python",
   "pygments_lexer": "ipython3",
   "version": "3.11.9"
  }
 },
 "nbformat": 4,
 "nbformat_minor": 5
}
