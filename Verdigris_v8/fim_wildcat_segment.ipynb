{
 "cells": [
  {
   "attachments": {},
   "cell_type": "markdown",
   "metadata": {},
   "source": [
    "# Wildcat Creek Flood Inundation Mapping Segment-by-Segment\n",
    "\n",
    "This notebook uses the Wildcat Creek (near Manhattan, KS) to demonstarte how to create segment-by-segment inundation map for developing FLDPLN-based synthetic rating curve (SRC) for converting the NWM discharge into stage."
   ]
  },
  {
   "attachments": {},
   "cell_type": "markdown",
   "metadata": {},
   "source": [
    "## Import Modules\n",
    "\n",
    "Import necessary modules."
   ]
  },
  {
   "cell_type": "code",
   "execution_count": null,
   "metadata": {},
   "outputs": [],
   "source": [
    "import sys\n",
    "import time\n",
    "from dask.distributed import Client, LocalCluster\n",
    "from dask import visualize"
   ]
  },
  {
   "cell_type": "markdown",
   "metadata": {},
   "source": [
    "### Import FLDPLN Modules"
   ]
  },
  {
   "cell_type": "code",
   "execution_count": null,
   "metadata": {},
   "outputs": [],
   "source": [
    "# Tool/script folder\n",
    "fldplnToolFolder = r'Z:\\FLDPLN\\tools_os' # tool development folder, has the latest version\n",
    "\n",
    "# Add the tool/script folder to sys.path to access fldpln modules\n",
    "sys.path.append(fldplnToolFolder) \n",
    "# fldpln module\n",
    "from fldpln import *\n",
    "from fldpln_library import *\n",
    "# from fldpln_gauge import *"
   ]
  },
  {
   "cell_type": "markdown",
   "metadata": {},
   "source": [
    "## Setup Input Tiled Library and Output Folders\n",
    "\n",
    "Here we setup the folder under which tiled libraries (organized as folders) are located. We also setup the output folder (i.e., outputFolder) under which a map folder and a 'scratch' folder are created. The map folder, which is specified later, comtains all inundation depth maps. The scratch folder stores temporary files."
   ]
  },
  {
   "cell_type": "code",
   "execution_count": null,
   "metadata": {},
   "outputs": [],
   "source": [
    "# tiled library folder\n",
    "# libFolder =  r'E:\\fldpln\\sites\\wildcat_10m_3dep\\tiled_snz_library' # Wildcat\n",
    "libFolder =  r'E:\\fldpln\\sites\\verdigris_10m\\tiled_snz_library' # Cerdigris\n",
    "# library to map inundation\n",
    "libName = 'lib'\n",
    "\n",
    "# Set output folder\n",
    "outputFolder = r'E:\\fldpln\\sites\\verdigris_10m\\maps'"
   ]
  },
  {
   "cell_type": "markdown",
   "metadata": {},
   "source": [
    "## Specify Segment and Stage/DOF\n",
    "\n",
    "Based on the segment ID provided, we retrieve the FSPs on the segment and assign the FSPs with a constant stage as specified."
   ]
  },
  {
   "cell_type": "code",
   "execution_count": 12,
   "metadata": {},
   "outputs": [
    {
     "name": "stdout",
     "output_type": "stream",
     "text": [
      "    LibName  FspId  Dof\n",
      "0       lib      1   25\n",
      "1       lib      2   25\n",
      "2       lib      3   25\n",
      "3       lib      4   25\n",
      "4       lib      5   25\n",
      "..      ...    ...  ...\n",
      "317     lib    318   25\n",
      "318     lib    319   25\n",
      "319     lib    320   25\n",
      "320     lib    321   25\n",
      "321     lib    322   25\n",
      "\n",
      "[322 rows x 3 columns]\n"
     ]
    },
    {
     "name": "stderr",
     "output_type": "stream",
     "text": [
      "C:\\Users\\lixi\\AppData\\Local\\Temp\\ipykernel_10380\\3950496016.py:14: SettingWithCopyWarning: \n",
      "A value is trying to be set on a copy of a slice from a DataFrame.\n",
      "Try using .loc[row_indexer,col_indexer] = value instead\n",
      "\n",
      "See the caveats in the documentation: https://pandas.pydata.org/pandas-docs/stable/user_guide/indexing.html#returning-a-view-versus-a-copy\n",
      "  segFsps.loc[:,'LibName'] = libName\n",
      "C:\\Users\\lixi\\AppData\\Local\\Temp\\ipykernel_10380\\3950496016.py:15: SettingWithCopyWarning: \n",
      "A value is trying to be set on a copy of a slice from a DataFrame.\n",
      "Try using .loc[row_indexer,col_indexer] = value instead\n",
      "\n",
      "See the caveats in the documentation: https://pandas.pydata.org/pandas-docs/stable/user_guide/indexing.html#returning-a-view-versus-a-copy\n",
      "  segFsps.loc[:,'Dof'] = dof\n"
     ]
    }
   ],
   "source": [
    "# specify segment ID and the stage/DOF\n",
    "segId=337; dof=25\n",
    "\n",
    "# Read in library FSP info CSV file\n",
    "fspFile = os.path.join(libFolder, libName, fspInfoFileName)\n",
    "fspDf = pd.read_csv(fspFile) \n",
    "# print(fspDf)\n",
    "\n",
    "# select the FSPs on the segment\n",
    "segFsps = fspDf[fspDf['SegId']==segId]\n",
    "# print(segFsps)\n",
    "\n",
    "# prepare the FSPs for mapping\n",
    "segFsps.loc[:,'LibName'] = libName\n",
    "segFsps.loc[:,'Dof'] = dof\n",
    "fspDof = segFsps[['LibName','FspId','Dof']]\n",
    "print(fspDof)"
   ]
  },
  {
   "attachments": {},
   "cell_type": "markdown",
   "metadata": {},
   "source": [
    "## Map Flood Inundation Depth\n"
   ]
  },
  {
   "cell_type": "markdown",
   "metadata": {},
   "source": [
    "### Set Mapping Parameters\n",
    "\n",
    "Setup the map folder (i.e., outMapFolderName) which is under the output folder and comtains all inundation depth maps. Additional settings include whether to mosaic tiles as single COG file and whether use a Dask local cluster to speed up the mapping."
   ]
  },
  {
   "cell_type": "code",
   "execution_count": 13,
   "metadata": {},
   "outputs": [
    {
     "name": "stdout",
     "output_type": "stream",
     "text": [
      "Number of workers: 6\n"
     ]
    }
   ],
   "source": [
    "# set up map folder\n",
    "outMapFolderName = 'segment_'+str(segId)+'_dof_'+str(dof)\n",
    "\n",
    "# Create folders for storing temp and output map files\n",
    "outMapFolder,scratchFolder = CreateFolders(outputFolder,'scratch',outMapFolderName)\n",
    "\n",
    "# whether mosaci tiles as a single COG\n",
    "mosaicTiles = True #True #False\n",
    "\n",
    "# Using LocalCluster by default\n",
    "useLocalCluster = False # This doesn't work on my office desktop though it works fine on KBS server\n",
    "numOfWorkers = round(0.8*os.cpu_count())\n",
    "numOfWorkers = 6\n",
    "print(f'Number of workers: {numOfWorkers}')"
   ]
  },
  {
   "cell_type": "markdown",
   "metadata": {},
   "source": [
    "### Map Inundation Depth\n",
    "\n",
    "The process of generating inundation depth map happens here."
   ]
  },
  {
   "cell_type": "code",
   "execution_count": 14,
   "metadata": {},
   "outputs": [
    {
     "name": "stdout",
     "output_type": "stream",
     "text": [
      "Tiled FLDPLN library folder: E:\\fldpln\\sites\\verdigris_10m\\tiled_snz_library\n",
      "Map folder: E:\\fldpln\\sites\\verdigris_10m\\maps\\segment_337_dof_25\n",
      "Libraries to map: ['lib']\n",
      "Map lib ...\n",
      "Tiles need to be mapped: [3]\n",
      "Actual mapped tiles: ['E:\\\\fldpln\\\\sites\\\\verdigris_10m\\\\maps\\\\segment_337_dof_25\\\\lib_tile_3.tif']\n",
      "Mosaic tile maps ...\n",
      "Individual library mapping time: {'lib': 0.008}\n",
      "Total processing time (minutes): 0.008\n"
     ]
    }
   ],
   "source": [
    "# show mapping info\n",
    "print(f'Tiled FLDPLN library folder: {libFolder}')\n",
    "print(f'Map folder: {outMapFolder}')\n",
    "# Find libs needs mapping\n",
    "libs2Map = fspDof['LibName'].drop_duplicates().tolist()\n",
    "print(f'Libraries to map: {libs2Map}')\n",
    "\n",
    "# check running time\n",
    "startTimeAllLibs = time.time()\n",
    "\n",
    "# create a local cluster to speed up the mapping. Must be run inside \"if __name__ == '__main__'\"!!!\n",
    "if useLocalCluster:\n",
    "    # cluster = LocalCluster(n_workers=4,processes=False)\n",
    "    try:\n",
    "        print('Start a LocalCluster ...')\n",
    "        # NOTE: set worker space (i.e., local_dir) to a folder that the LocalCluster can access. When run the script through a scheduled task, \n",
    "        # the system uses C:\\Windows\\system32 by default, which a typical user doesn't have the access!\n",
    "        # cluster = LocalCluster(n_workers=numOfWorkers,memory_limit='32GB',local_dir=\"D:/projects_new/fldpln/tools\") # for KARS production server (192G RAM & 8 cores)\n",
    "        # cluster = LocalCluster(n_workers=numOfWorkers,processes=False) # for KARS production server (192G RAM & 8 cores)\n",
    "        cluster = LocalCluster(n_workers=numOfWorkers,memory_limit='8GB',local_dir=\"E:\\temp\") # for office desktop (64G RAM & 8 cores)\n",
    "        # print('Watch workers at: ',cluster.dashboard_link)\n",
    "        print(f'Number of workers: {numOfWorkers}')\n",
    "        client = Client(cluster)\n",
    "        # print scheduler info\n",
    "        # print(client.scheduler_info())\n",
    "    except:\n",
    "        print('Cannot create a LocalCLuster!')\n",
    "        useLocalCluster = False\n",
    "\n",
    "# dict to store lib processing time\n",
    "libTime={}\n",
    "\n",
    "# map each library\n",
    "for libName in libs2Map:\n",
    "    # check running time\n",
    "    startTime = time.time()\n",
    "    \n",
    "    # select the FSPs within the lib\n",
    "    fspIdDof = fspDof[fspDof['LibName']==libName][['FspId','Dof']]\n",
    "\n",
    "    # mapping flood depth\n",
    "    if useLocalCluster:\n",
    "        print(f'Map [{libName}] using LocalCLuster ...')\n",
    "        # generate a DAG\n",
    "        dag,dagRoot=MapFloodDepthWithTilesAsDag(libFolder,libName,'snappy',outMapFolder,fspIdDof,aoiExtent=None)\n",
    "        if dag is None:\n",
    "            tileTifs = None\n",
    "        else:\n",
    "            # visualize DAG\n",
    "            # visualize(dag)\n",
    "            # Compute DAG\n",
    "            tileTifs = client.get(dag, dagRoot)\n",
    "            if not tileTifs: # list is empty\n",
    "                tileTifs =  None\n",
    "    else:\n",
    "        print(f'Map {libName} ...')\n",
    "        tileTifs = MapFloodDepthWithTiles(libFolder,libName,'snappy',outMapFolder,fspIdDof,aoiExtent=None)\n",
    "    print(f'Actual mapped tiles: {tileTifs}')\n",
    "\n",
    "    # Mosaic all the tiles from a library into one tif file\n",
    "    if mosaicTiles and not(tileTifs is None):\n",
    "        print('Mosaic tile maps ...')\n",
    "        mosaicTifName = libName+'_'+outMapFolderName+'.tif'\n",
    "        # Simplest implementation, may crash with very large raster\n",
    "        MosaicGtifs(outMapFolder,tileTifs,mosaicTifName,keepTifs=False)\n",
    "    \n",
    "    # check time\n",
    "    endTime = time.time()\n",
    "    usedTime = round((endTime-startTime)/60,3)\n",
    "    libTime[libName] = usedTime\n",
    "    # print(f'{libName} processing time (minutes):', usedTime)\n",
    "\n",
    "# Show processing time\n",
    "# Individual lib processing time\n",
    "print('Individual library mapping time:', libTime)\n",
    "# total time\n",
    "endTimeAllLibs = time.time()\n",
    "print('Total processing time (minutes):', round((endTimeAllLibs-startTimeAllLibs)/60,3))\n",
    "\n",
    "#\n",
    "# Shutdown local clusters\n",
    "#\n",
    "if useLocalCluster:\n",
    "    print('Shutdown LocalCluster ...')\n",
    "    cluster.close()\n",
    "    client.shutdown()\n",
    "    client.close()\n",
    "    useLocalCluster = False"
   ]
  }
 ],
 "metadata": {
  "kernelspec": {
   "display_name": "fldpln",
   "language": "python",
   "name": "python3"
  },
  "language_info": {
   "codemirror_mode": {
    "name": "ipython",
    "version": 3
   },
   "file_extension": ".py",
   "mimetype": "text/x-python",
   "name": "python",
   "nbconvert_exporter": "python",
   "pygments_lexer": "ipython3",
   "version": "3.11.9"
  },
  "vscode": {
   "interpreter": {
    "hash": "acfdeded818a4df3f46e9c2992917120b0a663a2d6c4f04d9d79d65bad4d3fed"
   }
  }
 },
 "nbformat": 4,
 "nbformat_minor": 4
}
