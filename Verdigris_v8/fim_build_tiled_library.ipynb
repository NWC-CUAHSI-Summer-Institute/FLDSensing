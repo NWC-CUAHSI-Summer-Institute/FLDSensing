{
 "cells": [
  {
   "cell_type": "markdown",
   "metadata": {},
   "source": [
    "# Build Tiled Library\n",
    "\n",
    "This task includes the following main steps:\n",
    "\n",
    "* Tile library\n",
    "* Calculate FSP and segment downstream distance\n",
    "* Assign stream order to segments"
   ]
  },
  {
   "cell_type": "markdown",
   "metadata": {},
   "source": [
    "## Import python packages"
   ]
  },
  {
   "cell_type": "code",
   "execution_count": 1,
   "metadata": {},
   "outputs": [],
   "source": [
    "import sys\n",
    "import time\n",
    "\n",
    "# Set tools/scripts folder (YOU NEED TO CHANGE THIS)\n",
    "fldplnToolFolder = r'Z:\\FLDPLN\\tools_os' #r'C:\\Users\\lixi\\OneDrive - The University of Kansas\\FLDPLN\\tools_os'\n",
    "\n",
    "# add the tools folder to sys.path to access the fldpln module\n",
    "sys.path.append(fldplnToolFolder) \n",
    "# fldpln modules\n",
    "from fldpln_library import *\n",
    "from fldpln import *"
   ]
  },
  {
   "cell_type": "markdown",
   "metadata": {},
   "source": [
    "## Tile Library\n",
    "\n",
    "With segment-based library as input, we spatially divide it into tiles based on the tile size provided. Note that tile size is the number of cells to avoid partial cells within a tile and can be used for both PCS and GCS. \n",
    "\n",
    "This process also copies the FSP and segment info CSV files to the tiled library and creates a metadata file (TileCellSizeSpatialReference.json) which stores library tile and cell sizes and spatial reference in a JSON file.\n",
    "\n",
    "**Note that this is the most time consuming process and may take hours for large libraries.**"
   ]
  },
  {
   "cell_type": "code",
   "execution_count": 2,
   "metadata": {},
   "outputs": [
    {
     "name": "stdout",
     "output_type": "stream",
     "text": [
      "Tile library: lib_dam ...\n",
      "Calculate library extent ...\n"
     ]
    },
    {
     "name": "stderr",
     "output_type": "stream",
     "text": [
      "z:\\FLDPLN\\tools_os\\fldpln_library.py:313: FutureWarning: The behavior of DataFrame concatenation with empty or all-NA entries is deprecated. In a future version, this will no longer exclude empty or all-NA columns when determining the result dtypes. To retain the old behavior, exclude the relevant entries before the concat operation.\n",
      "  segExts = pd.concat([segExts,segExt])\n"
     ]
    },
    {
     "name": "stdout",
     "output_type": "stream",
     "text": [
      "Library external border extent (minX, maxX, minY, maxY) : (752270.0, 800820.0, 4125460.0, 4180150.0)\n",
      "Total number of FSP-FPP relations: 21258483\n",
      "Number of (possible) tiles: 9\n",
      "Tile extents:\n",
      " [(752270.0, 772270.0, 4125460.0, 4145460.0), (752270.0, 772270.0, 4145460.0, 4165460.0), (752270.0, 772270.0, 4165460.0, 4185460.0), (772270.0, 792270.0, 4125460.0, 4145460.0), (772270.0, 792270.0, 4145460.0, 4165460.0), (772270.0, 792270.0, 4165460.0, 4185460.0), (792270.0, 812270.0, 4125460.0, 4145460.0), (792270.0, 812270.0, 4145460.0, 4165460.0), (792270.0, 812270.0, 4165460.0, 4185460.0)] \n",
      "\n",
      "Build tiles (tiling FSP-FPP relations) ...\n",
      "Processing tile:  1\n",
      "Tile extent (minX, maxX, minY, maxY) : (752270.0, 772270.0, 4125460.0, 4145460.0)\n",
      "Number of segments interseting with the tile:  10\n",
      "Total number of FSP-FPP relations in the tile: 2310\n",
      "Saving FSP-FPP relations in a file...\n"
     ]
    },
    {
     "name": "stderr",
     "output_type": "stream",
     "text": [
      "z:\\FLDPLN\\tools_os\\fldpln_library.py:198: FutureWarning: The provided callable <built-in function min> is currently using SeriesGroupBy.min. In a future version of pandas, the provided callable will be used directly. To keep current behavior pass the string \"min\" instead.\n",
      "  fspDf = tdf.groupby(['FspId'], as_index=False).agg(MinDtf = ('Dtf', min),MaxDtf = ('Dtf', max))\n",
      "z:\\FLDPLN\\tools_os\\fldpln_library.py:198: FutureWarning: The provided callable <built-in function max> is currently using SeriesGroupBy.max. In a future version of pandas, the provided callable will be used directly. To keep current behavior pass the string \"max\" instead.\n",
      "  fspDf = tdf.groupby(['FspId'], as_index=False).agg(MinDtf = ('Dtf', min),MaxDtf = ('Dtf', max))\n",
      "z:\\FLDPLN\\tools_os\\fldpln_library.py:208: FutureWarning: The behavior of DataFrame concatenation with empty or all-NA entries is deprecated. In a future version, this will no longer exclude empty or all-NA columns when determining the result dtypes. To retain the old behavior, exclude the relevant entries before the concat operation.\n",
      "  fspIdxDf = pd.concat([fspIdxDf, fspDf], ignore_index=True)\n",
      "z:\\FLDPLN\\tools_os\\fldpln_library.py:230: FutureWarning: The behavior of DataFrame concatenation with empty or all-NA entries is deprecated. In a future version, this will no longer exclude empty or all-NA columns when determining the result dtypes. To retain the old behavior, exclude the relevant entries before the concat operation.\n",
      "  tileIdxDf = pd.concat([tileIdxDf, tileIdx],ignore_index=True)\n"
     ]
    },
    {
     "name": "stdout",
     "output_type": "stream",
     "text": [
      "Number of unique FSPs in the tile: 3\n",
      "Tile FSP extent (fspMinX,fspMaxX,fspMinY,fspMaxY):  (777340.0, 778240.0, 4156140.0, 4156930.0)\n",
      "Tile FPP extent (fppMinX,fppMaxX,fppMinY,fppMaxY):  (768900.0, 772270.0, 4132170.0, 4134180.0)\n",
      "Processing tile:  2\n",
      "Tile extent (minX, maxX, minY, maxY) : (752270.0, 772270.0, 4145460.0, 4165460.0)\n",
      "Number of segments interseting with the tile:  13\n",
      "Total number of FSP-FPP relations in the tile: 4400452\n",
      "Saving FSP-FPP relations in a file...\n"
     ]
    },
    {
     "name": "stderr",
     "output_type": "stream",
     "text": [
      "z:\\FLDPLN\\tools_os\\fldpln_library.py:198: FutureWarning: The provided callable <built-in function min> is currently using SeriesGroupBy.min. In a future version of pandas, the provided callable will be used directly. To keep current behavior pass the string \"min\" instead.\n",
      "  fspDf = tdf.groupby(['FspId'], as_index=False).agg(MinDtf = ('Dtf', min),MaxDtf = ('Dtf', max))\n",
      "z:\\FLDPLN\\tools_os\\fldpln_library.py:198: FutureWarning: The provided callable <built-in function max> is currently using SeriesGroupBy.max. In a future version of pandas, the provided callable will be used directly. To keep current behavior pass the string \"max\" instead.\n",
      "  fspDf = tdf.groupby(['FspId'], as_index=False).agg(MinDtf = ('Dtf', min),MaxDtf = ('Dtf', max))\n"
     ]
    },
    {
     "name": "stdout",
     "output_type": "stream",
     "text": [
      "Number of unique FSPs in the tile: 1780\n",
      "Tile FSP extent (fspMinX,fspMaxX,fspMinY,fspMaxY):  (765200.0, 780610.0, 4155000.0, 4166910.0)\n",
      "Tile FPP extent (fppMinX,fppMaxX,fppMinY,fppMaxY):  (759240.0, 772270.0, 4151790.0, 4165460.0)\n",
      "Processing tile:  3\n",
      "Tile extent (minX, maxX, minY, maxY) : (752270.0, 772270.0, 4165460.0, 4185460.0)\n",
      "Number of segments interseting with the tile:  14\n",
      "Total number of FSP-FPP relations in the tile: 2663961\n",
      "Saving FSP-FPP relations in a file...\n",
      "Number of unique FSPs in the tile: 1431\n",
      "Tile FSP extent (fspMinX,fspMaxX,fspMinY,fspMaxY):  (758470.0, 780610.0, 4155000.0, 4170610.0)\n",
      "Tile FPP extent (fppMinX,fppMaxX,fppMinY,fppMaxY):  (752270.0, 772270.0, 4165460.0, 4180150.0)\n"
     ]
    },
    {
     "name": "stderr",
     "output_type": "stream",
     "text": [
      "z:\\FLDPLN\\tools_os\\fldpln_library.py:198: FutureWarning: The provided callable <built-in function min> is currently using SeriesGroupBy.min. In a future version of pandas, the provided callable will be used directly. To keep current behavior pass the string \"min\" instead.\n",
      "  fspDf = tdf.groupby(['FspId'], as_index=False).agg(MinDtf = ('Dtf', min),MaxDtf = ('Dtf', max))\n",
      "z:\\FLDPLN\\tools_os\\fldpln_library.py:198: FutureWarning: The provided callable <built-in function max> is currently using SeriesGroupBy.max. In a future version of pandas, the provided callable will be used directly. To keep current behavior pass the string \"max\" instead.\n",
      "  fspDf = tdf.groupby(['FspId'], as_index=False).agg(MinDtf = ('Dtf', min),MaxDtf = ('Dtf', max))\n"
     ]
    },
    {
     "name": "stdout",
     "output_type": "stream",
     "text": [
      "Processing tile:  4\n",
      "Tile extent (minX, maxX, minY, maxY) : (772270.0, 792270.0, 4125460.0, 4145460.0)\n",
      "Number of segments interseting with the tile:  10\n",
      "Total number of FSP-FPP relations in the tile: 82352\n",
      "Saving FSP-FPP relations in a file...\n",
      "Number of unique FSPs in the tile: 12\n",
      "Tile FSP extent (fspMinX,fspMaxX,fspMinY,fspMaxY):  (770390.0, 780610.0, 4155000.0, 4161840.0)\n",
      "Tile FPP extent (fppMinX,fppMaxX,fppMinY,fppMaxY):  (772270.0, 792270.0, 4125460.0, 4145460.0)\n",
      "Processing tile:  5\n",
      "Tile extent (minX, maxX, minY, maxY) : (772270.0, 792270.0, 4145460.0, 4165460.0)\n",
      "Number of segments interseting with the tile:  12\n"
     ]
    },
    {
     "name": "stderr",
     "output_type": "stream",
     "text": [
      "z:\\FLDPLN\\tools_os\\fldpln_library.py:198: FutureWarning: The provided callable <built-in function min> is currently using SeriesGroupBy.min. In a future version of pandas, the provided callable will be used directly. To keep current behavior pass the string \"min\" instead.\n",
      "  fspDf = tdf.groupby(['FspId'], as_index=False).agg(MinDtf = ('Dtf', min),MaxDtf = ('Dtf', max))\n",
      "z:\\FLDPLN\\tools_os\\fldpln_library.py:198: FutureWarning: The provided callable <built-in function max> is currently using SeriesGroupBy.max. In a future version of pandas, the provided callable will be used directly. To keep current behavior pass the string \"max\" instead.\n",
      "  fspDf = tdf.groupby(['FspId'], as_index=False).agg(MinDtf = ('Dtf', min),MaxDtf = ('Dtf', max))\n"
     ]
    },
    {
     "name": "stdout",
     "output_type": "stream",
     "text": [
      "Total number of FSP-FPP relations in the tile: 10690731\n",
      "Saving FSP-FPP relations in a file...\n"
     ]
    },
    {
     "name": "stderr",
     "output_type": "stream",
     "text": [
      "z:\\FLDPLN\\tools_os\\fldpln_library.py:198: FutureWarning: The provided callable <built-in function min> is currently using SeriesGroupBy.min. In a future version of pandas, the provided callable will be used directly. To keep current behavior pass the string \"min\" instead.\n",
      "  fspDf = tdf.groupby(['FspId'], as_index=False).agg(MinDtf = ('Dtf', min),MaxDtf = ('Dtf', max))\n",
      "z:\\FLDPLN\\tools_os\\fldpln_library.py:198: FutureWarning: The provided callable <built-in function max> is currently using SeriesGroupBy.max. In a future version of pandas, the provided callable will be used directly. To keep current behavior pass the string \"max\" instead.\n",
      "  fspDf = tdf.groupby(['FspId'], as_index=False).agg(MinDtf = ('Dtf', min),MaxDtf = ('Dtf', max))\n"
     ]
    },
    {
     "name": "stdout",
     "output_type": "stream",
     "text": [
      "Number of unique FSPs in the tile: 1519\n",
      "Tile FSP extent (fspMinX,fspMaxX,fspMinY,fspMaxY):  (768270.0, 781980.0, 4154320.0, 4164880.0)\n",
      "Tile FPP extent (fppMinX,fppMaxX,fppMinY,fppMaxY):  (772270.0, 792270.0, 4145460.0, 4165460.0)\n",
      "Processing tile:  6\n",
      "Tile extent (minX, maxX, minY, maxY) : (772270.0, 792270.0, 4165460.0, 4185460.0)\n",
      "Number of segments interseting with the tile:  12\n",
      "Total number of FSP-FPP relations in the tile: 1784183\n",
      "Saving FSP-FPP relations in a file...\n",
      "Number of unique FSPs in the tile: 10\n",
      "Tile FSP extent (fspMinX,fspMaxX,fspMinY,fspMaxY):  (770390.0, 780610.0, 4155000.0, 4161840.0)\n",
      "Tile FPP extent (fppMinX,fppMaxX,fppMinY,fppMaxY):  (772270.0, 791230.0, 4165460.0, 4178500.0)\n",
      "Processing tile:  7\n",
      "Tile extent (minX, maxX, minY, maxY) : (792270.0, 812270.0, 4125460.0, 4145460.0)\n",
      "Number of segments interseting with the tile:  10\n"
     ]
    },
    {
     "name": "stderr",
     "output_type": "stream",
     "text": [
      "z:\\FLDPLN\\tools_os\\fldpln_library.py:198: FutureWarning: The provided callable <built-in function min> is currently using SeriesGroupBy.min. In a future version of pandas, the provided callable will be used directly. To keep current behavior pass the string \"min\" instead.\n",
      "  fspDf = tdf.groupby(['FspId'], as_index=False).agg(MinDtf = ('Dtf', min),MaxDtf = ('Dtf', max))\n",
      "z:\\FLDPLN\\tools_os\\fldpln_library.py:198: FutureWarning: The provided callable <built-in function max> is currently using SeriesGroupBy.max. In a future version of pandas, the provided callable will be used directly. To keep current behavior pass the string \"max\" instead.\n",
      "  fspDf = tdf.groupby(['FspId'], as_index=False).agg(MinDtf = ('Dtf', min),MaxDtf = ('Dtf', max))\n"
     ]
    },
    {
     "name": "stdout",
     "output_type": "stream",
     "text": [
      "Total number of FSP-FPP relations in the tile: 312849\n",
      "Saving FSP-FPP relations in a file...\n",
      "Number of unique FSPs in the tile: 10\n",
      "Tile FSP extent (fspMinX,fspMaxX,fspMinY,fspMaxY):  (770390.0, 780610.0, 4155000.0, 4161840.0)\n",
      "Tile FPP extent (fppMinX,fppMaxX,fppMinY,fppMaxY):  (792270.0, 797780.0, 4139880.0, 4145460.0)\n",
      "Processing tile:  8\n",
      "Tile extent (minX, maxX, minY, maxY) : (792270.0, 812270.0, 4145460.0, 4165460.0)\n",
      "Number of segments interseting with the tile:  10\n"
     ]
    },
    {
     "name": "stderr",
     "output_type": "stream",
     "text": [
      "z:\\FLDPLN\\tools_os\\fldpln_library.py:198: FutureWarning: The provided callable <built-in function min> is currently using SeriesGroupBy.min. In a future version of pandas, the provided callable will be used directly. To keep current behavior pass the string \"min\" instead.\n",
      "  fspDf = tdf.groupby(['FspId'], as_index=False).agg(MinDtf = ('Dtf', min),MaxDtf = ('Dtf', max))\n",
      "z:\\FLDPLN\\tools_os\\fldpln_library.py:198: FutureWarning: The provided callable <built-in function max> is currently using SeriesGroupBy.max. In a future version of pandas, the provided callable will be used directly. To keep current behavior pass the string \"max\" instead.\n",
      "  fspDf = tdf.groupby(['FspId'], as_index=False).agg(MinDtf = ('Dtf', min),MaxDtf = ('Dtf', max))\n"
     ]
    },
    {
     "name": "stdout",
     "output_type": "stream",
     "text": [
      "Total number of FSP-FPP relations in the tile: 1321645\n",
      "Saving FSP-FPP relations in a file...\n"
     ]
    },
    {
     "name": "stderr",
     "output_type": "stream",
     "text": [
      "z:\\FLDPLN\\tools_os\\fldpln_library.py:198: FutureWarning: The provided callable <built-in function min> is currently using SeriesGroupBy.min. In a future version of pandas, the provided callable will be used directly. To keep current behavior pass the string \"min\" instead.\n",
      "  fspDf = tdf.groupby(['FspId'], as_index=False).agg(MinDtf = ('Dtf', min),MaxDtf = ('Dtf', max))\n",
      "z:\\FLDPLN\\tools_os\\fldpln_library.py:198: FutureWarning: The provided callable <built-in function max> is currently using SeriesGroupBy.max. In a future version of pandas, the provided callable will be used directly. To keep current behavior pass the string \"max\" instead.\n",
      "  fspDf = tdf.groupby(['FspId'], as_index=False).agg(MinDtf = ('Dtf', min),MaxDtf = ('Dtf', max))\n"
     ]
    },
    {
     "name": "stdout",
     "output_type": "stream",
     "text": [
      "Number of unique FSPs in the tile: 10\n",
      "Tile FSP extent (fspMinX,fspMaxX,fspMinY,fspMaxY):  (770390.0, 780610.0, 4155000.0, 4161840.0)\n",
      "Tile FPP extent (fppMinX,fppMaxX,fppMinY,fppMaxY):  (792270.0, 800820.0, 4145460.0, 4164140.0)\n",
      "Processing tile:  9\n",
      "Tile extent (minX, maxX, minY, maxY) : (792270.0, 812270.0, 4165460.0, 4185460.0)\n",
      "Number of segments interseting with the tile:  10\n",
      "Total number of FSP-FPP relations in the tile: 0\n",
      "Save fsp-tile index as a CSV file ...\n",
      "Save tile index as a CSV file ...\n"
     ]
    }
   ],
   "source": [
    "# Segment-based library\n",
    "# segLibFolder = r'E:\\fldpln\\sites\\wildcat_10m_3dep'\n",
    "# segLibFolder = r'E:\\SummerInstituteProjects\\verdigris_10m'\n",
    "segLibFolder = r'E:\\fldpln\\sites\\verdigris_10m' # verdigris-10m\n",
    "\n",
    "# tiled library folder\n",
    "tiledLibFolder = r'E:\\fldpln\\sites\\verdigris_10m\\tiled_snz_library' \n",
    "# tiledLibFolder = r'E:\\SummerInstituteProjects\\verdigris_10m\\tiled_snz_library' \n",
    "\n",
    "# define tile size (number of cells) and format\n",
    "cellSize = 10\n",
    "tileSize = 2000 # number of cells, 200 for Wildcat\n",
    "tileFileFormat = 'snappy' # 'snappy' or 'mat'\n",
    "\n",
    "# libraries to be tiled. \n",
    "# Note that the tiled libraries will have the same name as the segment-based libraries except they are located under the segFolder!\n",
    "libNames = ['lib_dam'] # libs for Wildcat Creek\n",
    "\n",
    "# tile libraries\n",
    "for libName in libNames: \n",
    "    print(f'Tile library: {libName} ...')\n",
    "    TileLibrary(os.path.join(segLibFolder,libName), cellSize, os.path.join(tiledLibFolder,libName),tileSize,tileFileFormat) "
   ]
  },
  {
   "cell_type": "markdown",
   "metadata": {},
   "source": [
    "## Calculate FSP and Segment Downstream Distance\n",
    "\n",
    "Here we calculate downstream distance for the both FSPs and segments for mapping. It involves the following main tasks:\n",
    "* Clean up segments \n",
    "    * It removes segments from the segment table if they are not in the FSP table. \n",
    "    * If a removed segment is the downstream segment of another segment in the segment table, the upstream segment ID is set to 0 (i.e., watershed outlet). \n",
    "    * Those removed segments are usually close to or in waterbodies. By removing those segments, a library may have several separate watersheds/outlets! For example, neosho has 3 separate watersheds (segment 13, 104, 186 as the outlet segments). \n",
    "* Calculate FSP and segment downstream distance (i.e., distance from outlet) using in interpolating FSP depth of water from gauges\n",
    "\n",
    "At the end, this step updates the FSP and segment info CSV files with additional columns. "
   ]
  },
  {
   "cell_type": "code",
   "execution_count": 3,
   "metadata": {},
   "outputs": [
    {
     "name": "stdout",
     "output_type": "stream",
     "text": [
      "Calculate FSP and segment downstream distance: lib_dam ...\n"
     ]
    }
   ],
   "source": [
    "# tiled library folder\n",
    "tiledLibFolder = r'E:\\fldpln\\sites\\verdigris_10m\\tiled_snz_library' \n",
    "# tiledLibFolder = r'E:\\SummerInstituteProjects\\verdigris_10m\\tiled_snz_library' \n",
    "\n",
    "# libraries to be tiled. \n",
    "# Note that the tiled libraries will have the same name as the segment-based libraries except they are located under the tiledLibFolder!\n",
    "libNames = ['lib_dam'] # libs with different segments and fldmx in Wildcat Creek\n",
    "\n",
    "# Create FSP and segment info files and library meta file (i.e., cell size and spatial reference)\n",
    "for libName in libNames:\n",
    "    print(f'Calculate FSP and segment downstream distance: {libName} ...')\n",
    "    CalculateFspSegmentDownstreamDistance(tiledLibFolder,libName)"
   ]
  },
  {
   "cell_type": "markdown",
   "metadata": {},
   "source": [
    "## Assign Stream Order to FSPs and Segments Manually\n",
    "\n",
    "Stream orders are used while interpolating the depth of flow (DOF) at FSPs where low order streams are handled before high order streams. We can use the shapefile that created before or create the segment shapefiles from the FSP and segment info CSV files (see fim_build_misc.ipynb for how). "
   ]
  },
  {
   "cell_type": "markdown",
   "metadata": {},
   "source": [
    "### Assign Stream Orders to Segment Shapefile in GIS\n",
    "\n",
    "Here we assign stream order to shapefile manually in GIS. We need to create a field, say 'StrOrd', in the shapefile and then select segments and assign stream order value to the segmentd.\n",
    "\n",
    "The general rules for assigning stream order are:\n",
    "* A stream (or reach) consists of several connected segments, which may meet with other streams at confluences\n",
    "* Main streams have low orders than tributary streams\n",
    "* Order must be unique to each stream in a library. No two streams can have the same order even if the streams are in different sub-watersheds in the library\n",
    "\n",
    "The above requirements are necessary to make sure the interpolation on DOF can be carried out correctly.\n"
   ]
  },
  {
   "cell_type": "markdown",
   "metadata": {},
   "source": [
    "### Get Stream Order to FSPs and Segments from Segment Shapefile\n",
    "\n",
    "This step gets stream orders from the segment shapefile and add them to the FSP and segment info files. \n",
    "\n",
    "It also creates a new text file, stream_order_info.csv, which stores the connectivity among stream orders with columns: [‘StrOrd’, ‘DsStrOrd’, ‘JunctionFspX’, ‘JunctionFspY’]. This information is used in DOF interpolation."
   ]
  },
  {
   "cell_type": "code",
   "execution_count": 4,
   "metadata": {},
   "outputs": [
    {
     "name": "stdout",
     "output_type": "stream",
     "text": [
      "Get stream order and generate stream order network info for : E:\\fldpln\\sites\\verdigris_10m\\tiled_snz_library\\lib_dam ...\n"
     ]
    },
    {
     "data": {
      "text/plain": [
       "(      FspId    FspX     FspY  SegId  FilledElev        DsDist  StrOrd\n",
       " 0         1  758425  4170685    135  287.720001  54644.687553       1\n",
       " 1         2  758435  4170675    135  287.264008  54630.545417       1\n",
       " 2         3  758445  4170665    135  281.604950  54616.403282       1\n",
       " 3         4  758445  4170655    135  277.939423  54606.403282       1\n",
       " 4         5  758445  4170645    135  276.402557  54596.403282       1\n",
       " ...     ...     ...      ...    ...         ...           ...     ...\n",
       " 4625   4626  781975  4154365    148  249.371765     44.142136       1\n",
       " 4626   4627  781975  4154355    148  249.371765     34.142136       1\n",
       " 4627   4628  781975  4154345    148  249.371765     24.142136       1\n",
       " 4628   4629  781975  4154335    148  249.371765     14.142136       1\n",
       " 4629   4630  781965  4154325    148  249.371765      0.000000       1\n",
       " \n",
       " [4630 rows x 7 columns],\n",
       "     SegId  CellCount  DsSegId     StFac     EdFac       Length        DsDist  \\\n",
       " 0     135        573      136  14329778  14556374  6875.655839  47769.031714   \n",
       " 1     136        446      137  16089342  16225850  5328.132752  42426.756826   \n",
       " 2     137        468      138  16403558  16648121  5610.264787  36802.349904   \n",
       " 3     138        418      139  16794096  16936883  4820.315293  31967.892475   \n",
       " 4     139        303      140  18491376  18525150  3587.472580  28370.419895   \n",
       " 5     140         80      141  18845871  18850451   968.111832  27388.165928   \n",
       " 6     141        286      142  18863736  18872742  3376.051224  23997.972568   \n",
       " 7     142        576      143  18874528  18894365  6715.117600  17268.712832   \n",
       " 8     143         42      144  18945095  18949548   517.695526  16736.875170   \n",
       " 9     144        800      145  19080713  19371603  9456.316011   7266.417023   \n",
       " 10    145        110      146  20119225  20194605  1313.675324   5938.599564   \n",
       " 11    146        343      147  20921842  20964928  3767.939392   2156.518036   \n",
       " 12    147         24      148  21203092  21205066   279.705627   1866.812409   \n",
       " 13    148        161        0  21243299  21255489  1856.812409      0.000000   \n",
       " \n",
       "     StrOrd  \n",
       " 0        1  \n",
       " 1        1  \n",
       " 2        1  \n",
       " 3        1  \n",
       " 4        1  \n",
       " 5        1  \n",
       " 6        1  \n",
       " 7        1  \n",
       " 8        1  \n",
       " 9        1  \n",
       " 10       1  \n",
       " 11       1  \n",
       " 12       1  \n",
       " 13       1  ,\n",
       "   StrOrd DsStrOrd JunctionFspX JunctionFspY\n",
       " 0      1        0            0            0)"
      ]
     },
     "execution_count": 4,
     "metadata": {},
     "output_type": "execute_result"
    }
   ],
   "source": [
    "# tiled library folder to add stream order\n",
    "tiledLib= r'E:\\fldpln\\sites\\verdigris_10m\\tiled_snz_library\\lib_dam'\n",
    "\n",
    "# FSP and segment info CSV files\n",
    "segInfoFile = os.path.join(tiledLib,segInfoFileName)\n",
    "fspInfoFile = os.path.join(tiledLib,fspInfoFileName)\n",
    "\n",
    "# segment shapefile which has the stream order\n",
    "shpFolder = r'E:\\fldpln\\sites\\verdigris_10m\\segs'\n",
    "shpName = \"dam_break_segments.shp\"\n",
    "shpSegIdName = 'grid_code'\n",
    "shpOrdColName = 'str_ord'\n",
    "shpFile =  os.path.join(shpFolder,shpName)\n",
    "\n",
    "print(f'Get stream order and generate stream order network info for : {tiledLib} ...')\n",
    "GetStreamOrdersForFspsSegments(tiledLib,shpFile,shpSegIdName,shpOrdColName)"
   ]
  },
  {
   "cell_type": "markdown",
   "metadata": {},
   "source": [
    "## Assign Stream Order to FSPs and Segments Automatically\n",
    "\n",
    "* This is currently been implemented by Junho @ UA\n",
    "* Stream order should be decided by the length and flow accumulation\n",
    "* The level path approach used in NWC may be used here to automate stream order assignment!"
   ]
  },
  {
   "cell_type": "code",
   "execution_count": null,
   "metadata": {},
   "outputs": [],
   "source": [
    "# Code to automatically assign stream order to segments based on stream length or flow accumulation"
   ]
  },
  {
   "cell_type": "markdown",
   "metadata": {},
   "source": [
    "## Distribute Tiled Library\n",
    "\n",
    "Now we can make tiled libraries available for flood inundation mapping. This involves:\n",
    "* Zip all the files for each tiled library as a single zip file. The code below can be used to automate this step\n",
    "* Update scripts/package and notebooks\n",
    "* Update example libraries and gauge files\n",
    "\n",
    "All the files can be distributed through KU FTP site. A better option is to distribute libraries at KU server but update the package and examples on GitHub. "
   ]
  },
  {
   "cell_type": "code",
   "execution_count": null,
   "metadata": {},
   "outputs": [],
   "source": [
    "# library folder\n",
    "libFolder = r'D:\\xingong\\fldpln_3dep_vg\\tiled10km_snz_library'\n",
    "# ftp folder\n",
    "ftpFolder =  r'D:\\inetpub\\wwwroot\\download\\fldpln\\libraries\\verdigris_10m'\n",
    "\n",
    "# libraries to zip\n",
    "libNames = ['verdigris']\n",
    "\n",
    "# zip libraries\n",
    "for libName in libNames:\n",
    "    print(f'Zipping library: {libName} ...')\n",
    "    shutil.make_archive(os.path.join(ftpFolder,libName), 'zip', os.path.join(libFolder,libName))"
   ]
  },
  {
   "cell_type": "markdown",
   "metadata": {},
   "source": []
  }
 ],
 "metadata": {
  "kernelspec": {
   "display_name": "fldpln",
   "language": "python",
   "name": "python3"
  },
  "language_info": {
   "codemirror_mode": {
    "name": "ipython",
    "version": 3
   },
   "file_extension": ".py",
   "mimetype": "text/x-python",
   "name": "python",
   "nbconvert_exporter": "python",
   "pygments_lexer": "ipython3",
   "version": "3.11.9"
  }
 },
 "nbformat": 4,
 "nbformat_minor": 2
}
