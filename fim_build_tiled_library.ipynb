{
 "cells": [
  {
   "cell_type": "markdown",
   "metadata": {},
   "source": [
    "# Build Tiled Library\n",
    "\n",
    "This task includes the following main steps:\n",
    "\n",
    "* Tile library\n",
    "* Calculate FSP and segment downstream distance\n",
    "* Assign stream order to segments"
   ]
  },
  {
   "cell_type": "markdown",
   "metadata": {},
   "source": [
    "## Import python packages"
   ]
  },
  {
   "cell_type": "code",
   "execution_count": 18,
   "metadata": {},
   "outputs": [],
   "source": [
    "import sys\n",
    "import time\n",
    "\n",
    "# Set tools/scripts folder (YOU NEED TO CHANGE THIS)\n",
    "fldplnToolFolder = r'E:/CUAHSI_SI/training/source' #r'C:\\Users\\lixi\\OneDrive - The University of Kansas\\FLDPLN\\tools_os'\n",
    "\n",
    "# add the tools folder to sys.path to access the fldpln module\n",
    "sys.path.append(fldplnToolFolder) \n",
    "# fldpln modules\n",
    "from fldpln_library import *\n",
    "from fldpln import *"
   ]
  },
  {
   "cell_type": "markdown",
   "metadata": {},
   "source": [
    "## Tile Library\n",
    "\n",
    "With segment-based library as input, we spatially divide it into tiles based on the tile size provided. Note that tile size is the number of cells to avoid partial cells within a tile and can be used for both PCS and GCS. \n",
    "\n",
    "This process also copies the FSP and segment info CSV files to the tiled library and creates a metadata file (TileCellSizeSpatialReference.json) which stores library tile and cell sizes and spatial reference in a JSON file.\n",
    "\n",
    "**Note that this is the most time consuming process and may take hours for large libraries.**"
   ]
  },
  {
   "cell_type": "code",
   "execution_count": 19,
   "metadata": {},
   "outputs": [
    {
     "name": "stdout",
     "output_type": "stream",
     "text": [
      "Tile library: lib_py ...\n",
      "Calculate library extent ...\n"
     ]
    },
    {
     "name": "stderr",
     "output_type": "stream",
     "text": [
      "E:\\CUAHSI_SI/training/source\\fldpln_library.py:313: FutureWarning: The behavior of DataFrame concatenation with empty or all-NA entries is deprecated. In a future version, this will no longer exclude empty or all-NA columns when determining the result dtypes. To retain the old behavior, exclude the relevant entries before the concat operation.\n",
      "  segExts = pd.concat([segExts,segExt])\n"
     ]
    },
    {
     "name": "stdout",
     "output_type": "stream",
     "text": [
      "Library external border extent (minX, maxX, minY, maxY) : (-65353.2057939356, -39543.2057939356, 1783762.9445651, 1802122.9445651)\n",
      "Total number of FSP-FPP relations: 2263154\n",
      "Number of (possible) tiles: 130\n",
      "Tile extents:\n",
      " [(-65353.2057939356, -63353.2057939356, 1783762.9445651, 1785762.9445651), (-65353.2057939356, -63353.2057939356, 1785762.9445651, 1787762.9445651), (-65353.2057939356, -63353.2057939356, 1787762.9445651, 1789762.9445651), (-65353.2057939356, -63353.2057939356, 1789762.9445651, 1791762.9445651), (-65353.2057939356, -63353.2057939356, 1791762.9445651, 1793762.9445651), (-65353.2057939356, -63353.2057939356, 1793762.9445651, 1795762.9445651), (-65353.2057939356, -63353.2057939356, 1795762.9445651, 1797762.9445651), (-65353.2057939356, -63353.2057939356, 1797762.9445651, 1799762.9445651), (-65353.2057939356, -63353.2057939356, 1799762.9445651, 1801762.9445651), (-65353.2057939356, -63353.2057939356, 1801762.9445651, 1803762.9445651), (-63353.2057939356, -61353.2057939356, 1783762.9445651, 1785762.9445651), (-63353.2057939356, -61353.2057939356, 1785762.9445651, 1787762.9445651), (-63353.2057939356, -61353.2057939356, 1787762.9445651, 1789762.9445651), (-63353.2057939356, -61353.2057939356, 1789762.9445651, 1791762.9445651), (-63353.2057939356, -61353.2057939356, 1791762.9445651, 1793762.9445651), (-63353.2057939356, -61353.2057939356, 1793762.9445651, 1795762.9445651), (-63353.2057939356, -61353.2057939356, 1795762.9445651, 1797762.9445651), (-63353.2057939356, -61353.2057939356, 1797762.9445651, 1799762.9445651), (-63353.2057939356, -61353.2057939356, 1799762.9445651, 1801762.9445651), (-63353.2057939356, -61353.2057939356, 1801762.9445651, 1803762.9445651), (-61353.2057939356, -59353.2057939356, 1783762.9445651, 1785762.9445651), (-61353.2057939356, -59353.2057939356, 1785762.9445651, 1787762.9445651), (-61353.2057939356, -59353.2057939356, 1787762.9445651, 1789762.9445651), (-61353.2057939356, -59353.2057939356, 1789762.9445651, 1791762.9445651), (-61353.2057939356, -59353.2057939356, 1791762.9445651, 1793762.9445651), (-61353.2057939356, -59353.2057939356, 1793762.9445651, 1795762.9445651), (-61353.2057939356, -59353.2057939356, 1795762.9445651, 1797762.9445651), (-61353.2057939356, -59353.2057939356, 1797762.9445651, 1799762.9445651), (-61353.2057939356, -59353.2057939356, 1799762.9445651, 1801762.9445651), (-61353.2057939356, -59353.2057939356, 1801762.9445651, 1803762.9445651), (-59353.2057939356, -57353.2057939356, 1783762.9445651, 1785762.9445651), (-59353.2057939356, -57353.2057939356, 1785762.9445651, 1787762.9445651), (-59353.2057939356, -57353.2057939356, 1787762.9445651, 1789762.9445651), (-59353.2057939356, -57353.2057939356, 1789762.9445651, 1791762.9445651), (-59353.2057939356, -57353.2057939356, 1791762.9445651, 1793762.9445651), (-59353.2057939356, -57353.2057939356, 1793762.9445651, 1795762.9445651), (-59353.2057939356, -57353.2057939356, 1795762.9445651, 1797762.9445651), (-59353.2057939356, -57353.2057939356, 1797762.9445651, 1799762.9445651), (-59353.2057939356, -57353.2057939356, 1799762.9445651, 1801762.9445651), (-59353.2057939356, -57353.2057939356, 1801762.9445651, 1803762.9445651), (-57353.2057939356, -55353.2057939356, 1783762.9445651, 1785762.9445651), (-57353.2057939356, -55353.2057939356, 1785762.9445651, 1787762.9445651), (-57353.2057939356, -55353.2057939356, 1787762.9445651, 1789762.9445651), (-57353.2057939356, -55353.2057939356, 1789762.9445651, 1791762.9445651), (-57353.2057939356, -55353.2057939356, 1791762.9445651, 1793762.9445651), (-57353.2057939356, -55353.2057939356, 1793762.9445651, 1795762.9445651), (-57353.2057939356, -55353.2057939356, 1795762.9445651, 1797762.9445651), (-57353.2057939356, -55353.2057939356, 1797762.9445651, 1799762.9445651), (-57353.2057939356, -55353.2057939356, 1799762.9445651, 1801762.9445651), (-57353.2057939356, -55353.2057939356, 1801762.9445651, 1803762.9445651), (-55353.2057939356, -53353.2057939356, 1783762.9445651, 1785762.9445651), (-55353.2057939356, -53353.2057939356, 1785762.9445651, 1787762.9445651), (-55353.2057939356, -53353.2057939356, 1787762.9445651, 1789762.9445651), (-55353.2057939356, -53353.2057939356, 1789762.9445651, 1791762.9445651), (-55353.2057939356, -53353.2057939356, 1791762.9445651, 1793762.9445651), (-55353.2057939356, -53353.2057939356, 1793762.9445651, 1795762.9445651), (-55353.2057939356, -53353.2057939356, 1795762.9445651, 1797762.9445651), (-55353.2057939356, -53353.2057939356, 1797762.9445651, 1799762.9445651), (-55353.2057939356, -53353.2057939356, 1799762.9445651, 1801762.9445651), (-55353.2057939356, -53353.2057939356, 1801762.9445651, 1803762.9445651), (-53353.2057939356, -51353.2057939356, 1783762.9445651, 1785762.9445651), (-53353.2057939356, -51353.2057939356, 1785762.9445651, 1787762.9445651), (-53353.2057939356, -51353.2057939356, 1787762.9445651, 1789762.9445651), (-53353.2057939356, -51353.2057939356, 1789762.9445651, 1791762.9445651), (-53353.2057939356, -51353.2057939356, 1791762.9445651, 1793762.9445651), (-53353.2057939356, -51353.2057939356, 1793762.9445651, 1795762.9445651), (-53353.2057939356, -51353.2057939356, 1795762.9445651, 1797762.9445651), (-53353.2057939356, -51353.2057939356, 1797762.9445651, 1799762.9445651), (-53353.2057939356, -51353.2057939356, 1799762.9445651, 1801762.9445651), (-53353.2057939356, -51353.2057939356, 1801762.9445651, 1803762.9445651), (-51353.2057939356, -49353.2057939356, 1783762.9445651, 1785762.9445651), (-51353.2057939356, -49353.2057939356, 1785762.9445651, 1787762.9445651), (-51353.2057939356, -49353.2057939356, 1787762.9445651, 1789762.9445651), (-51353.2057939356, -49353.2057939356, 1789762.9445651, 1791762.9445651), (-51353.2057939356, -49353.2057939356, 1791762.9445651, 1793762.9445651), (-51353.2057939356, -49353.2057939356, 1793762.9445651, 1795762.9445651), (-51353.2057939356, -49353.2057939356, 1795762.9445651, 1797762.9445651), (-51353.2057939356, -49353.2057939356, 1797762.9445651, 1799762.9445651), (-51353.2057939356, -49353.2057939356, 1799762.9445651, 1801762.9445651), (-51353.2057939356, -49353.2057939356, 1801762.9445651, 1803762.9445651), (-49353.2057939356, -47353.2057939356, 1783762.9445651, 1785762.9445651), (-49353.2057939356, -47353.2057939356, 1785762.9445651, 1787762.9445651), (-49353.2057939356, -47353.2057939356, 1787762.9445651, 1789762.9445651), (-49353.2057939356, -47353.2057939356, 1789762.9445651, 1791762.9445651), (-49353.2057939356, -47353.2057939356, 1791762.9445651, 1793762.9445651), (-49353.2057939356, -47353.2057939356, 1793762.9445651, 1795762.9445651), (-49353.2057939356, -47353.2057939356, 1795762.9445651, 1797762.9445651), (-49353.2057939356, -47353.2057939356, 1797762.9445651, 1799762.9445651), (-49353.2057939356, -47353.2057939356, 1799762.9445651, 1801762.9445651), (-49353.2057939356, -47353.2057939356, 1801762.9445651, 1803762.9445651), (-47353.2057939356, -45353.2057939356, 1783762.9445651, 1785762.9445651), (-47353.2057939356, -45353.2057939356, 1785762.9445651, 1787762.9445651), (-47353.2057939356, -45353.2057939356, 1787762.9445651, 1789762.9445651), (-47353.2057939356, -45353.2057939356, 1789762.9445651, 1791762.9445651), (-47353.2057939356, -45353.2057939356, 1791762.9445651, 1793762.9445651), (-47353.2057939356, -45353.2057939356, 1793762.9445651, 1795762.9445651), (-47353.2057939356, -45353.2057939356, 1795762.9445651, 1797762.9445651), (-47353.2057939356, -45353.2057939356, 1797762.9445651, 1799762.9445651), (-47353.2057939356, -45353.2057939356, 1799762.9445651, 1801762.9445651), (-47353.2057939356, -45353.2057939356, 1801762.9445651, 1803762.9445651), (-45353.2057939356, -43353.2057939356, 1783762.9445651, 1785762.9445651), (-45353.2057939356, -43353.2057939356, 1785762.9445651, 1787762.9445651), (-45353.2057939356, -43353.2057939356, 1787762.9445651, 1789762.9445651), (-45353.2057939356, -43353.2057939356, 1789762.9445651, 1791762.9445651), (-45353.2057939356, -43353.2057939356, 1791762.9445651, 1793762.9445651), (-45353.2057939356, -43353.2057939356, 1793762.9445651, 1795762.9445651), (-45353.2057939356, -43353.2057939356, 1795762.9445651, 1797762.9445651), (-45353.2057939356, -43353.2057939356, 1797762.9445651, 1799762.9445651), (-45353.2057939356, -43353.2057939356, 1799762.9445651, 1801762.9445651), (-45353.2057939356, -43353.2057939356, 1801762.9445651, 1803762.9445651), (-43353.2057939356, -41353.2057939356, 1783762.9445651, 1785762.9445651), (-43353.2057939356, -41353.2057939356, 1785762.9445651, 1787762.9445651), (-43353.2057939356, -41353.2057939356, 1787762.9445651, 1789762.9445651), (-43353.2057939356, -41353.2057939356, 1789762.9445651, 1791762.9445651), (-43353.2057939356, -41353.2057939356, 1791762.9445651, 1793762.9445651), (-43353.2057939356, -41353.2057939356, 1793762.9445651, 1795762.9445651), (-43353.2057939356, -41353.2057939356, 1795762.9445651, 1797762.9445651), (-43353.2057939356, -41353.2057939356, 1797762.9445651, 1799762.9445651), (-43353.2057939356, -41353.2057939356, 1799762.9445651, 1801762.9445651), (-43353.2057939356, -41353.2057939356, 1801762.9445651, 1803762.9445651), (-41353.2057939356, -39353.2057939356, 1783762.9445651, 1785762.9445651), (-41353.2057939356, -39353.2057939356, 1785762.9445651, 1787762.9445651), (-41353.2057939356, -39353.2057939356, 1787762.9445651, 1789762.9445651), (-41353.2057939356, -39353.2057939356, 1789762.9445651, 1791762.9445651), (-41353.2057939356, -39353.2057939356, 1791762.9445651, 1793762.9445651), (-41353.2057939356, -39353.2057939356, 1793762.9445651, 1795762.9445651), (-41353.2057939356, -39353.2057939356, 1795762.9445651, 1797762.9445651), (-41353.2057939356, -39353.2057939356, 1797762.9445651, 1799762.9445651), (-41353.2057939356, -39353.2057939356, 1799762.9445651, 1801762.9445651), (-41353.2057939356, -39353.2057939356, 1801762.9445651, 1803762.9445651)] \n",
      "\n",
      "Build tiles (tiling FSP-FPP relations) ...\n",
      "Processing tile:  1\n",
      "Tile extent (minX, maxX, minY, maxY) : (-65353.2057939356, -63353.2057939356, 1783762.9445651, 1785762.9445651)\n",
      "Number of segments interseting with the tile:  1\n",
      "Total number of FSP-FPP relations in the tile: 1635\n",
      "Saving FSP-FPP relations in a file...\n",
      "Number of unique FSPs in the tile: 1\n",
      "Tile FSP extent (fspMinX,fspMaxX,fspMinY,fspMaxY):  (-48133.2057939356, -48123.2057939356, 1792952.9445651, 1792962.9445651)\n",
      "Tile FPP extent (fppMinX,fppMaxX,fppMinY,fppMaxY):  (-64763.2057939356, -63353.2057939356, 1783762.9445651, 1784732.9445651)\n",
      "Processing tile:  2\n",
      "Tile extent (minX, maxX, minY, maxY) : (-65353.2057939356, -63353.2057939356, 1785762.9445651, 1787762.9445651)\n",
      "Number of segments interseting with the tile:  1\n",
      "Total number of FSP-FPP relations in the tile: 0\n",
      "Processing tile:  2\n",
      "Tile extent (minX, maxX, minY, maxY) : (-65353.2057939356, -63353.2057939356, 1787762.9445651, 1789762.9445651)\n",
      "Number of segments interseting with the tile:  1\n"
     ]
    },
    {
     "name": "stderr",
     "output_type": "stream",
     "text": [
      "E:\\CUAHSI_SI/training/source\\fldpln_library.py:198: FutureWarning: The provided callable <built-in function min> is currently using SeriesGroupBy.min. In a future version of pandas, the provided callable will be used directly. To keep current behavior pass the string \"min\" instead.\n",
      "  fspDf = tdf.groupby(['FspId'], as_index=False).agg(MinDtf = ('Dtf', min),MaxDtf = ('Dtf', max))\n",
      "E:\\CUAHSI_SI/training/source\\fldpln_library.py:198: FutureWarning: The provided callable <built-in function max> is currently using SeriesGroupBy.max. In a future version of pandas, the provided callable will be used directly. To keep current behavior pass the string \"max\" instead.\n",
      "  fspDf = tdf.groupby(['FspId'], as_index=False).agg(MinDtf = ('Dtf', min),MaxDtf = ('Dtf', max))\n",
      "E:\\CUAHSI_SI/training/source\\fldpln_library.py:208: FutureWarning: The behavior of DataFrame concatenation with empty or all-NA entries is deprecated. In a future version, this will no longer exclude empty or all-NA columns when determining the result dtypes. To retain the old behavior, exclude the relevant entries before the concat operation.\n",
      "  fspIdxDf = pd.concat([fspIdxDf, fspDf], ignore_index=True)\n",
      "E:\\CUAHSI_SI/training/source\\fldpln_library.py:230: FutureWarning: The behavior of DataFrame concatenation with empty or all-NA entries is deprecated. In a future version, this will no longer exclude empty or all-NA columns when determining the result dtypes. To retain the old behavior, exclude the relevant entries before the concat operation.\n",
      "  tileIdxDf = pd.concat([tileIdxDf, tileIdx],ignore_index=True)\n"
     ]
    },
    {
     "name": "stdout",
     "output_type": "stream",
     "text": [
      "Total number of FSP-FPP relations in the tile: 0\n",
      "Processing tile:  2\n",
      "Tile extent (minX, maxX, minY, maxY) : (-65353.2057939356, -63353.2057939356, 1789762.9445651, 1791762.9445651)\n",
      "Number of segments interseting with the tile:  1\n",
      "Total number of FSP-FPP relations in the tile: 0\n",
      "Processing tile:  2\n",
      "Tile extent (minX, maxX, minY, maxY) : (-65353.2057939356, -63353.2057939356, 1791762.9445651, 1793762.9445651)\n",
      "Number of segments interseting with the tile:  1\n",
      "Total number of FSP-FPP relations in the tile: 0\n",
      "Processing tile:  2\n",
      "Tile extent (minX, maxX, minY, maxY) : (-65353.2057939356, -63353.2057939356, 1793762.9445651, 1795762.9445651)\n",
      "Number of segments interseting with the tile:  1\n",
      "Total number of FSP-FPP relations in the tile: 0\n",
      "Processing tile:  2\n",
      "Tile extent (minX, maxX, minY, maxY) : (-65353.2057939356, -63353.2057939356, 1795762.9445651, 1797762.9445651)\n",
      "Number of segments interseting with the tile:  5\n",
      "Total number of FSP-FPP relations in the tile: 0\n",
      "Processing tile:  2\n",
      "Tile extent (minX, maxX, minY, maxY) : (-65353.2057939356, -63353.2057939356, 1797762.9445651, 1799762.9445651)\n",
      "Number of segments interseting with the tile:  4\n",
      "Total number of FSP-FPP relations in the tile: 0\n",
      "Processing tile:  2\n",
      "Tile extent (minX, maxX, minY, maxY) : (-65353.2057939356, -63353.2057939356, 1799762.9445651, 1801762.9445651)\n",
      "Number of segments interseting with the tile:  4\n",
      "Total number of FSP-FPP relations in the tile: 12441\n",
      "Saving FSP-FPP relations in a file...\n",
      "Number of unique FSPs in the tile: 4\n",
      "Tile FSP extent (fspMinX,fspMaxX,fspMinY,fspMaxY):  (-61663.2057939356, -60083.2057939356, 1799132.9445651, 1800132.9445651)\n",
      "Tile FPP extent (fppMinX,fppMaxX,fppMinY,fppMaxY):  (-65353.2057939356, -63353.2057939356, 1800152.9445651, 1801652.9445651)\n",
      "Processing tile:  3\n",
      "Tile extent (minX, maxX, minY, maxY) : (-65353.2057939356, -63353.2057939356, 1801762.9445651, 1803762.9445651)\n",
      "Number of segments interseting with the tile:  2\n",
      "Total number of FSP-FPP relations in the tile: 0\n",
      "Processing tile:  3\n",
      "Tile extent (minX, maxX, minY, maxY) : (-63353.2057939356, -61353.2057939356, 1783762.9445651, 1785762.9445651)\n",
      "Number of segments interseting with the tile:  1\n",
      "Total number of FSP-FPP relations in the tile: 3321\n",
      "Saving FSP-FPP relations in a file...\n",
      "Number of unique FSPs in the tile: 1\n",
      "Tile FSP extent (fspMinX,fspMaxX,fspMinY,fspMaxY):  (-48133.2057939356, -48123.2057939356, 1792952.9445651, 1792962.9445651)\n",
      "Tile FPP extent (fppMinX,fppMaxX,fppMinY,fppMaxY):  (-63353.2057939356, -61353.2057939356, 1784052.9445651, 1785432.9445651)\n",
      "Processing tile:  4\n",
      "Tile extent (minX, maxX, minY, maxY) : (-63353.2057939356, -61353.2057939356, 1785762.9445651, 1787762.9445651)\n",
      "Number of segments interseting with the tile:  1\n"
     ]
    },
    {
     "name": "stderr",
     "output_type": "stream",
     "text": [
      "E:\\CUAHSI_SI/training/source\\fldpln_library.py:198: FutureWarning: The provided callable <built-in function min> is currently using SeriesGroupBy.min. In a future version of pandas, the provided callable will be used directly. To keep current behavior pass the string \"min\" instead.\n",
      "  fspDf = tdf.groupby(['FspId'], as_index=False).agg(MinDtf = ('Dtf', min),MaxDtf = ('Dtf', max))\n",
      "E:\\CUAHSI_SI/training/source\\fldpln_library.py:198: FutureWarning: The provided callable <built-in function max> is currently using SeriesGroupBy.max. In a future version of pandas, the provided callable will be used directly. To keep current behavior pass the string \"max\" instead.\n",
      "  fspDf = tdf.groupby(['FspId'], as_index=False).agg(MinDtf = ('Dtf', min),MaxDtf = ('Dtf', max))\n",
      "E:\\CUAHSI_SI/training/source\\fldpln_library.py:198: FutureWarning: The provided callable <built-in function min> is currently using SeriesGroupBy.min. In a future version of pandas, the provided callable will be used directly. To keep current behavior pass the string \"min\" instead.\n",
      "  fspDf = tdf.groupby(['FspId'], as_index=False).agg(MinDtf = ('Dtf', min),MaxDtf = ('Dtf', max))\n",
      "E:\\CUAHSI_SI/training/source\\fldpln_library.py:198: FutureWarning: The provided callable <built-in function max> is currently using SeriesGroupBy.max. In a future version of pandas, the provided callable will be used directly. To keep current behavior pass the string \"max\" instead.\n",
      "  fspDf = tdf.groupby(['FspId'], as_index=False).agg(MinDtf = ('Dtf', min),MaxDtf = ('Dtf', max))\n"
     ]
    },
    {
     "name": "stdout",
     "output_type": "stream",
     "text": [
      "Total number of FSP-FPP relations in the tile: 0\n",
      "Processing tile:  4\n",
      "Tile extent (minX, maxX, minY, maxY) : (-63353.2057939356, -61353.2057939356, 1787762.9445651, 1789762.9445651)\n",
      "Number of segments interseting with the tile:  1\n",
      "Total number of FSP-FPP relations in the tile: 0\n",
      "Processing tile:  4\n",
      "Tile extent (minX, maxX, minY, maxY) : (-63353.2057939356, -61353.2057939356, 1789762.9445651, 1791762.9445651)\n",
      "Number of segments interseting with the tile:  1\n",
      "Total number of FSP-FPP relations in the tile: 0\n",
      "Processing tile:  4\n",
      "Tile extent (minX, maxX, minY, maxY) : (-63353.2057939356, -61353.2057939356, 1791762.9445651, 1793762.9445651)\n",
      "Number of segments interseting with the tile:  1\n",
      "Total number of FSP-FPP relations in the tile: 0\n",
      "Processing tile:  4\n",
      "Tile extent (minX, maxX, minY, maxY) : (-63353.2057939356, -61353.2057939356, 1793762.9445651, 1795762.9445651)\n",
      "Number of segments interseting with the tile:  1\n",
      "Total number of FSP-FPP relations in the tile: 0\n",
      "Processing tile:  4\n",
      "Tile extent (minX, maxX, minY, maxY) : (-63353.2057939356, -61353.2057939356, 1795762.9445651, 1797762.9445651)\n",
      "Number of segments interseting with the tile:  5\n",
      "Total number of FSP-FPP relations in the tile: 0\n",
      "Processing tile:  4\n",
      "Tile extent (minX, maxX, minY, maxY) : (-63353.2057939356, -61353.2057939356, 1797762.9445651, 1799762.9445651)\n",
      "Number of segments interseting with the tile:  4\n",
      "Total number of FSP-FPP relations in the tile: 8482\n",
      "Saving FSP-FPP relations in a file...\n",
      "Number of unique FSPs in the tile: 14\n",
      "Tile FSP extent (fspMinX,fspMaxX,fspMinY,fspMaxY):  (-61523.2057939356, -60083.2057939356, 1799132.9445651, 1799992.9445651)\n",
      "Tile FPP extent (fppMinX,fppMaxX,fppMinY,fppMaxY):  (-62623.2057939356, -61353.2057939356, 1798952.9445651, 1799762.9445651)\n",
      "Processing tile:  5\n",
      "Tile extent (minX, maxX, minY, maxY) : (-63353.2057939356, -61353.2057939356, 1799762.9445651, 1801762.9445651)\n",
      "Number of segments interseting with the tile:  4\n",
      "Total number of FSP-FPP relations in the tile: 56004\n",
      "Saving FSP-FPP relations in a file...\n",
      "Number of unique FSPs in the tile: 46\n",
      "Tile FSP extent (fspMinX,fspMaxX,fspMinY,fspMaxY):  (-61663.2057939356, -60083.2057939356, 1799132.9445651, 1800132.9445651)\n",
      "Tile FPP extent (fppMinX,fppMaxX,fppMinY,fppMaxY):  (-63353.2057939356, -61353.2057939356, 1799762.9445651, 1801762.9445651)\n",
      "Processing tile:  6\n",
      "Tile extent (minX, maxX, minY, maxY) : (-63353.2057939356, -61353.2057939356, 1801762.9445651, 1803762.9445651)\n",
      "Number of segments interseting with the tile:  2\n",
      "Total number of FSP-FPP relations in the tile: 881\n",
      "Saving FSP-FPP relations in a file...\n",
      "Number of unique FSPs in the tile: 2\n",
      "Tile FSP extent (fspMinX,fspMaxX,fspMinY,fspMaxY):  (-61663.2057939356, -61503.2057939356, 1799942.9445651, 1800132.9445651)\n",
      "Tile FPP extent (fppMinX,fppMaxX,fppMinY,fppMaxY):  (-62733.2057939356, -62293.2057939356, 1801762.9445651, 1802122.9445651)\n",
      "Processing tile:  7\n",
      "Tile extent (minX, maxX, minY, maxY) : (-61353.2057939356, -59353.2057939356, 1783762.9445651, 1785762.9445651)\n",
      "Number of segments interseting with the tile:  1\n"
     ]
    },
    {
     "name": "stderr",
     "output_type": "stream",
     "text": [
      "E:\\CUAHSI_SI/training/source\\fldpln_library.py:198: FutureWarning: The provided callable <built-in function min> is currently using SeriesGroupBy.min. In a future version of pandas, the provided callable will be used directly. To keep current behavior pass the string \"min\" instead.\n",
      "  fspDf = tdf.groupby(['FspId'], as_index=False).agg(MinDtf = ('Dtf', min),MaxDtf = ('Dtf', max))\n",
      "E:\\CUAHSI_SI/training/source\\fldpln_library.py:198: FutureWarning: The provided callable <built-in function max> is currently using SeriesGroupBy.max. In a future version of pandas, the provided callable will be used directly. To keep current behavior pass the string \"max\" instead.\n",
      "  fspDf = tdf.groupby(['FspId'], as_index=False).agg(MinDtf = ('Dtf', min),MaxDtf = ('Dtf', max))\n",
      "E:\\CUAHSI_SI/training/source\\fldpln_library.py:198: FutureWarning: The provided callable <built-in function min> is currently using SeriesGroupBy.min. In a future version of pandas, the provided callable will be used directly. To keep current behavior pass the string \"min\" instead.\n",
      "  fspDf = tdf.groupby(['FspId'], as_index=False).agg(MinDtf = ('Dtf', min),MaxDtf = ('Dtf', max))\n",
      "E:\\CUAHSI_SI/training/source\\fldpln_library.py:198: FutureWarning: The provided callable <built-in function max> is currently using SeriesGroupBy.max. In a future version of pandas, the provided callable will be used directly. To keep current behavior pass the string \"max\" instead.\n",
      "  fspDf = tdf.groupby(['FspId'], as_index=False).agg(MinDtf = ('Dtf', min),MaxDtf = ('Dtf', max))\n",
      "E:\\CUAHSI_SI/training/source\\fldpln_library.py:198: FutureWarning: The provided callable <built-in function min> is currently using SeriesGroupBy.min. In a future version of pandas, the provided callable will be used directly. To keep current behavior pass the string \"min\" instead.\n",
      "  fspDf = tdf.groupby(['FspId'], as_index=False).agg(MinDtf = ('Dtf', min),MaxDtf = ('Dtf', max))\n",
      "E:\\CUAHSI_SI/training/source\\fldpln_library.py:198: FutureWarning: The provided callable <built-in function max> is currently using SeriesGroupBy.max. In a future version of pandas, the provided callable will be used directly. To keep current behavior pass the string \"max\" instead.\n",
      "  fspDf = tdf.groupby(['FspId'], as_index=False).agg(MinDtf = ('Dtf', min),MaxDtf = ('Dtf', max))\n"
     ]
    },
    {
     "name": "stdout",
     "output_type": "stream",
     "text": [
      "Total number of FSP-FPP relations in the tile: 2520\n",
      "Saving FSP-FPP relations in a file...\n",
      "Number of unique FSPs in the tile: 1\n",
      "Tile FSP extent (fspMinX,fspMaxX,fspMinY,fspMaxY):  (-48133.2057939356, -48123.2057939356, 1792952.9445651, 1792962.9445651)\n",
      "Tile FPP extent (fppMinX,fppMaxX,fppMinY,fppMaxY):  (-61353.2057939356, -60003.2057939356, 1784682.9445651, 1785762.9445651)\n",
      "Processing tile:  8\n",
      "Tile extent (minX, maxX, minY, maxY) : (-61353.2057939356, -59353.2057939356, 1785762.9445651, 1787762.9445651)\n",
      "Number of segments interseting with the tile:  1\n",
      "Total number of FSP-FPP relations in the tile: 3059\n",
      "Saving FSP-FPP relations in a file...\n",
      "Number of unique FSPs in the tile: 1\n",
      "Tile FSP extent (fspMinX,fspMaxX,fspMinY,fspMaxY):  (-48133.2057939356, -48123.2057939356, 1792952.9445651, 1792962.9445651)\n",
      "Tile FPP extent (fppMinX,fppMaxX,fppMinY,fppMaxY):  (-60233.2057939356, -59353.2057939356, 1785762.9445651, 1787262.9445651)\n",
      "Processing tile:  9\n",
      "Tile extent (minX, maxX, minY, maxY) : (-61353.2057939356, -59353.2057939356, 1787762.9445651, 1789762.9445651)\n",
      "Number of segments interseting with the tile:  1\n",
      "Total number of FSP-FPP relations in the tile: 0\n",
      "Processing tile:  9\n",
      "Tile extent (minX, maxX, minY, maxY) : (-61353.2057939356, -59353.2057939356, 1789762.9445651, 1791762.9445651)\n",
      "Number of segments interseting with the tile:  1\n"
     ]
    },
    {
     "name": "stderr",
     "output_type": "stream",
     "text": [
      "E:\\CUAHSI_SI/training/source\\fldpln_library.py:198: FutureWarning: The provided callable <built-in function min> is currently using SeriesGroupBy.min. In a future version of pandas, the provided callable will be used directly. To keep current behavior pass the string \"min\" instead.\n",
      "  fspDf = tdf.groupby(['FspId'], as_index=False).agg(MinDtf = ('Dtf', min),MaxDtf = ('Dtf', max))\n",
      "E:\\CUAHSI_SI/training/source\\fldpln_library.py:198: FutureWarning: The provided callable <built-in function max> is currently using SeriesGroupBy.max. In a future version of pandas, the provided callable will be used directly. To keep current behavior pass the string \"max\" instead.\n",
      "  fspDf = tdf.groupby(['FspId'], as_index=False).agg(MinDtf = ('Dtf', min),MaxDtf = ('Dtf', max))\n",
      "E:\\CUAHSI_SI/training/source\\fldpln_library.py:198: FutureWarning: The provided callable <built-in function min> is currently using SeriesGroupBy.min. In a future version of pandas, the provided callable will be used directly. To keep current behavior pass the string \"min\" instead.\n",
      "  fspDf = tdf.groupby(['FspId'], as_index=False).agg(MinDtf = ('Dtf', min),MaxDtf = ('Dtf', max))\n",
      "E:\\CUAHSI_SI/training/source\\fldpln_library.py:198: FutureWarning: The provided callable <built-in function max> is currently using SeriesGroupBy.max. In a future version of pandas, the provided callable will be used directly. To keep current behavior pass the string \"max\" instead.\n",
      "  fspDf = tdf.groupby(['FspId'], as_index=False).agg(MinDtf = ('Dtf', min),MaxDtf = ('Dtf', max))\n"
     ]
    },
    {
     "name": "stdout",
     "output_type": "stream",
     "text": [
      "Total number of FSP-FPP relations in the tile: 0\n",
      "Processing tile:  9\n",
      "Tile extent (minX, maxX, minY, maxY) : (-61353.2057939356, -59353.2057939356, 1791762.9445651, 1793762.9445651)\n",
      "Number of segments interseting with the tile:  1\n",
      "Total number of FSP-FPP relations in the tile: 0\n",
      "Processing tile:  9\n",
      "Tile extent (minX, maxX, minY, maxY) : (-61353.2057939356, -59353.2057939356, 1793762.9445651, 1795762.9445651)\n",
      "Number of segments interseting with the tile:  3\n",
      "Total number of FSP-FPP relations in the tile: 0\n",
      "Processing tile:  9\n",
      "Tile extent (minX, maxX, minY, maxY) : (-61353.2057939356, -59353.2057939356, 1795762.9445651, 1797762.9445651)\n",
      "Number of segments interseting with the tile:  10\n",
      "Total number of FSP-FPP relations in the tile: 0\n",
      "Processing tile:  9\n",
      "Tile extent (minX, maxX, minY, maxY) : (-61353.2057939356, -59353.2057939356, 1797762.9445651, 1799762.9445651)\n",
      "Number of segments interseting with the tile:  9\n",
      "Total number of FSP-FPP relations in the tile: 71423\n",
      "Saving FSP-FPP relations in a file...\n",
      "Number of unique FSPs in the tile: 352\n",
      "Tile FSP extent (fspMinX,fspMaxX,fspMinY,fspMaxY):  (-61663.2057939356, -55793.2057939356, 1796342.9445651, 1800132.9445651)\n",
      "Tile FPP extent (fppMinX,fppMaxX,fppMinY,fppMaxY):  (-61353.2057939356, -59353.2057939356, 1798352.9445651, 1799762.9445651)\n",
      "Processing tile:  10\n",
      "Tile extent (minX, maxX, minY, maxY) : (-61353.2057939356, -59353.2057939356, 1799762.9445651, 1801762.9445651)\n",
      "Number of segments interseting with the tile:  6\n"
     ]
    },
    {
     "name": "stderr",
     "output_type": "stream",
     "text": [
      "E:\\CUAHSI_SI/training/source\\fldpln_library.py:198: FutureWarning: The provided callable <built-in function min> is currently using SeriesGroupBy.min. In a future version of pandas, the provided callable will be used directly. To keep current behavior pass the string \"min\" instead.\n",
      "  fspDf = tdf.groupby(['FspId'], as_index=False).agg(MinDtf = ('Dtf', min),MaxDtf = ('Dtf', max))\n",
      "E:\\CUAHSI_SI/training/source\\fldpln_library.py:198: FutureWarning: The provided callable <built-in function max> is currently using SeriesGroupBy.max. In a future version of pandas, the provided callable will be used directly. To keep current behavior pass the string \"max\" instead.\n",
      "  fspDf = tdf.groupby(['FspId'], as_index=False).agg(MinDtf = ('Dtf', min),MaxDtf = ('Dtf', max))\n",
      "E:\\CUAHSI_SI/training/source\\fldpln_library.py:198: FutureWarning: The provided callable <built-in function min> is currently using SeriesGroupBy.min. In a future version of pandas, the provided callable will be used directly. To keep current behavior pass the string \"min\" instead.\n",
      "  fspDf = tdf.groupby(['FspId'], as_index=False).agg(MinDtf = ('Dtf', min),MaxDtf = ('Dtf', max))\n",
      "E:\\CUAHSI_SI/training/source\\fldpln_library.py:198: FutureWarning: The provided callable <built-in function max> is currently using SeriesGroupBy.max. In a future version of pandas, the provided callable will be used directly. To keep current behavior pass the string \"max\" instead.\n",
      "  fspDf = tdf.groupby(['FspId'], as_index=False).agg(MinDtf = ('Dtf', min),MaxDtf = ('Dtf', max))\n"
     ]
    },
    {
     "name": "stdout",
     "output_type": "stream",
     "text": [
      "Total number of FSP-FPP relations in the tile: 35976\n",
      "Saving FSP-FPP relations in a file...\n",
      "Number of unique FSPs in the tile: 94\n",
      "Tile FSP extent (fspMinX,fspMaxX,fspMinY,fspMaxY):  (-61663.2057939356, -57313.2057939356, 1796972.9445651, 1800132.9445651)\n",
      "Tile FPP extent (fppMinX,fppMaxX,fppMinY,fppMaxY):  (-61353.2057939356, -59853.2057939356, 1799762.9445651, 1800872.9445651)\n",
      "Processing tile:  11\n",
      "Tile extent (minX, maxX, minY, maxY) : (-61353.2057939356, -59353.2057939356, 1801762.9445651, 1803762.9445651)\n",
      "Number of segments interseting with the tile:  2\n",
      "Total number of FSP-FPP relations in the tile: 0\n",
      "Processing tile:  11\n",
      "Tile extent (minX, maxX, minY, maxY) : (-59353.2057939356, -57353.2057939356, 1783762.9445651, 1785762.9445651)\n",
      "Number of segments interseting with the tile:  1\n",
      "Total number of FSP-FPP relations in the tile: 0\n",
      "Processing tile:  11\n",
      "Tile extent (minX, maxX, minY, maxY) : (-59353.2057939356, -57353.2057939356, 1785762.9445651, 1787762.9445651)\n",
      "Number of segments interseting with the tile:  3\n",
      "Total number of FSP-FPP relations in the tile: 9432\n",
      "Saving FSP-FPP relations in a file...\n",
      "Number of unique FSPs in the tile: 3\n",
      "Tile FSP extent (fspMinX,fspMaxX,fspMinY,fspMaxY):  (-50663.2057939356, -48123.2057939356, 1792952.9445651, 1793932.9445651)\n",
      "Tile FPP extent (fppMinX,fppMaxX,fppMinY,fppMaxY):  (-59353.2057939356, -57353.2057939356, 1786792.9445651, 1787762.9445651)\n",
      "Processing tile:  12\n",
      "Tile extent (minX, maxX, minY, maxY) : (-59353.2057939356, -57353.2057939356, 1787762.9445651, 1789762.9445651)\n",
      "Number of segments interseting with the tile:  3\n"
     ]
    },
    {
     "name": "stderr",
     "output_type": "stream",
     "text": [
      "E:\\CUAHSI_SI/training/source\\fldpln_library.py:198: FutureWarning: The provided callable <built-in function min> is currently using SeriesGroupBy.min. In a future version of pandas, the provided callable will be used directly. To keep current behavior pass the string \"min\" instead.\n",
      "  fspDf = tdf.groupby(['FspId'], as_index=False).agg(MinDtf = ('Dtf', min),MaxDtf = ('Dtf', max))\n",
      "E:\\CUAHSI_SI/training/source\\fldpln_library.py:198: FutureWarning: The provided callable <built-in function max> is currently using SeriesGroupBy.max. In a future version of pandas, the provided callable will be used directly. To keep current behavior pass the string \"max\" instead.\n",
      "  fspDf = tdf.groupby(['FspId'], as_index=False).agg(MinDtf = ('Dtf', min),MaxDtf = ('Dtf', max))\n"
     ]
    },
    {
     "name": "stdout",
     "output_type": "stream",
     "text": [
      "Total number of FSP-FPP relations in the tile: 240\n",
      "Saving FSP-FPP relations in a file...\n",
      "Number of unique FSPs in the tile: 1\n",
      "Tile FSP extent (fspMinX,fspMaxX,fspMinY,fspMaxY):  (-48133.2057939356, -48123.2057939356, 1792952.9445651, 1792962.9445651)\n",
      "Tile FPP extent (fppMinX,fppMaxX,fppMinY,fppMaxY):  (-58993.2057939356, -58753.2057939356, 1787762.9445651, 1788002.9445651)\n",
      "Processing tile:  13\n",
      "Tile extent (minX, maxX, minY, maxY) : (-59353.2057939356, -57353.2057939356, 1789762.9445651, 1791762.9445651)\n",
      "Number of segments interseting with the tile:  3\n",
      "Total number of FSP-FPP relations in the tile: 0\n",
      "Processing tile:  13\n",
      "Tile extent (minX, maxX, minY, maxY) : (-59353.2057939356, -57353.2057939356, 1791762.9445651, 1793762.9445651)\n",
      "Number of segments interseting with the tile:  3\n"
     ]
    },
    {
     "name": "stderr",
     "output_type": "stream",
     "text": [
      "E:\\CUAHSI_SI/training/source\\fldpln_library.py:198: FutureWarning: The provided callable <built-in function min> is currently using SeriesGroupBy.min. In a future version of pandas, the provided callable will be used directly. To keep current behavior pass the string \"min\" instead.\n",
      "  fspDf = tdf.groupby(['FspId'], as_index=False).agg(MinDtf = ('Dtf', min),MaxDtf = ('Dtf', max))\n",
      "E:\\CUAHSI_SI/training/source\\fldpln_library.py:198: FutureWarning: The provided callable <built-in function max> is currently using SeriesGroupBy.max. In a future version of pandas, the provided callable will be used directly. To keep current behavior pass the string \"max\" instead.\n",
      "  fspDf = tdf.groupby(['FspId'], as_index=False).agg(MinDtf = ('Dtf', min),MaxDtf = ('Dtf', max))\n"
     ]
    },
    {
     "name": "stdout",
     "output_type": "stream",
     "text": [
      "Total number of FSP-FPP relations in the tile: 0\n",
      "Processing tile:  13\n",
      "Tile extent (minX, maxX, minY, maxY) : (-59353.2057939356, -57353.2057939356, 1793762.9445651, 1795762.9445651)\n",
      "Number of segments interseting with the tile:  6\n",
      "Total number of FSP-FPP relations in the tile: 0\n",
      "Processing tile:  13\n",
      "Tile extent (minX, maxX, minY, maxY) : (-59353.2057939356, -57353.2057939356, 1795762.9445651, 1797762.9445651)\n",
      "Number of segments interseting with the tile:  13\n",
      "Total number of FSP-FPP relations in the tile: 40105\n",
      "Saving FSP-FPP relations in a file...\n",
      "Number of unique FSPs in the tile: 156\n",
      "Tile FSP extent (fspMinX,fspMaxX,fspMinY,fspMaxY):  (-61663.2057939356, -54533.2057939356, 1795812.9445651, 1800132.9445651)\n",
      "Tile FPP extent (fppMinX,fppMaxX,fppMinY,fppMaxY):  (-58613.2057939356, -57353.2057939356, 1796302.9445651, 1797762.9445651)\n",
      "Processing tile:  14\n",
      "Tile extent (minX, maxX, minY, maxY) : (-59353.2057939356, -57353.2057939356, 1797762.9445651, 1799762.9445651)\n",
      "Number of segments interseting with the tile:  9\n",
      "Total number of FSP-FPP relations in the tile: 122047\n",
      "Saving FSP-FPP relations in a file...\n",
      "Number of unique FSPs in the tile: 145\n",
      "Tile FSP extent (fspMinX,fspMaxX,fspMinY,fspMaxY):  (-61663.2057939356, -55793.2057939356, 1796342.9445651, 1800132.9445651)\n",
      "Tile FPP extent (fppMinX,fppMaxX,fppMinY,fppMaxY):  (-59353.2057939356, -57353.2057939356, 1797762.9445651, 1799452.9445651)\n",
      "Processing tile:  15\n",
      "Tile extent (minX, maxX, minY, maxY) : (-59353.2057939356, -57353.2057939356, 1799762.9445651, 1801762.9445651)\n",
      "Number of segments interseting with the tile:  6\n"
     ]
    },
    {
     "name": "stderr",
     "output_type": "stream",
     "text": [
      "E:\\CUAHSI_SI/training/source\\fldpln_library.py:198: FutureWarning: The provided callable <built-in function min> is currently using SeriesGroupBy.min. In a future version of pandas, the provided callable will be used directly. To keep current behavior pass the string \"min\" instead.\n",
      "  fspDf = tdf.groupby(['FspId'], as_index=False).agg(MinDtf = ('Dtf', min),MaxDtf = ('Dtf', max))\n",
      "E:\\CUAHSI_SI/training/source\\fldpln_library.py:198: FutureWarning: The provided callable <built-in function max> is currently using SeriesGroupBy.max. In a future version of pandas, the provided callable will be used directly. To keep current behavior pass the string \"max\" instead.\n",
      "  fspDf = tdf.groupby(['FspId'], as_index=False).agg(MinDtf = ('Dtf', min),MaxDtf = ('Dtf', max))\n",
      "E:\\CUAHSI_SI/training/source\\fldpln_library.py:198: FutureWarning: The provided callable <built-in function min> is currently using SeriesGroupBy.min. In a future version of pandas, the provided callable will be used directly. To keep current behavior pass the string \"min\" instead.\n",
      "  fspDf = tdf.groupby(['FspId'], as_index=False).agg(MinDtf = ('Dtf', min),MaxDtf = ('Dtf', max))\n",
      "E:\\CUAHSI_SI/training/source\\fldpln_library.py:198: FutureWarning: The provided callable <built-in function max> is currently using SeriesGroupBy.max. In a future version of pandas, the provided callable will be used directly. To keep current behavior pass the string \"max\" instead.\n",
      "  fspDf = tdf.groupby(['FspId'], as_index=False).agg(MinDtf = ('Dtf', min),MaxDtf = ('Dtf', max))\n"
     ]
    },
    {
     "name": "stdout",
     "output_type": "stream",
     "text": [
      "Total number of FSP-FPP relations in the tile: 0\n",
      "Processing tile:  15\n",
      "Tile extent (minX, maxX, minY, maxY) : (-59353.2057939356, -57353.2057939356, 1801762.9445651, 1803762.9445651)\n",
      "Number of segments interseting with the tile:  2\n",
      "Total number of FSP-FPP relations in the tile: 0\n",
      "Processing tile:  15\n",
      "Tile extent (minX, maxX, minY, maxY) : (-57353.2057939356, -55353.2057939356, 1783762.9445651, 1785762.9445651)\n",
      "Number of segments interseting with the tile:  1\n",
      "Total number of FSP-FPP relations in the tile: 0\n",
      "Processing tile:  15\n",
      "Tile extent (minX, maxX, minY, maxY) : (-57353.2057939356, -55353.2057939356, 1785762.9445651, 1787762.9445651)\n",
      "Number of segments interseting with the tile:  3\n",
      "Total number of FSP-FPP relations in the tile: 2076\n",
      "Saving FSP-FPP relations in a file...\n",
      "Number of unique FSPs in the tile: 3\n",
      "Tile FSP extent (fspMinX,fspMaxX,fspMinY,fspMaxY):  (-50663.2057939356, -48123.2057939356, 1792952.9445651, 1793932.9445651)\n",
      "Tile FPP extent (fppMinX,fppMaxX,fppMinY,fppMaxY):  (-57353.2057939356, -56903.2057939356, 1787352.9445651, 1787762.9445651)\n",
      "Processing tile:  16\n",
      "Tile extent (minX, maxX, minY, maxY) : (-57353.2057939356, -55353.2057939356, 1787762.9445651, 1789762.9445651)\n",
      "Number of segments interseting with the tile:  3\n"
     ]
    },
    {
     "name": "stderr",
     "output_type": "stream",
     "text": [
      "E:\\CUAHSI_SI/training/source\\fldpln_library.py:198: FutureWarning: The provided callable <built-in function min> is currently using SeriesGroupBy.min. In a future version of pandas, the provided callable will be used directly. To keep current behavior pass the string \"min\" instead.\n",
      "  fspDf = tdf.groupby(['FspId'], as_index=False).agg(MinDtf = ('Dtf', min),MaxDtf = ('Dtf', max))\n",
      "E:\\CUAHSI_SI/training/source\\fldpln_library.py:198: FutureWarning: The provided callable <built-in function max> is currently using SeriesGroupBy.max. In a future version of pandas, the provided callable will be used directly. To keep current behavior pass the string \"max\" instead.\n",
      "  fspDf = tdf.groupby(['FspId'], as_index=False).agg(MinDtf = ('Dtf', min),MaxDtf = ('Dtf', max))\n"
     ]
    },
    {
     "name": "stdout",
     "output_type": "stream",
     "text": [
      "Total number of FSP-FPP relations in the tile: 14150\n",
      "Saving FSP-FPP relations in a file...\n",
      "Number of unique FSPs in the tile: 3\n",
      "Tile FSP extent (fspMinX,fspMaxX,fspMinY,fspMaxY):  (-50663.2057939356, -48123.2057939356, 1792952.9445651, 1793932.9445651)\n",
      "Tile FPP extent (fppMinX,fppMaxX,fppMinY,fppMaxY):  (-57243.2057939356, -55713.2057939356, 1787762.9445651, 1789762.9445651)\n",
      "Processing tile:  17\n",
      "Tile extent (minX, maxX, minY, maxY) : (-57353.2057939356, -55353.2057939356, 1789762.9445651, 1791762.9445651)\n",
      "Number of segments interseting with the tile:  3\n"
     ]
    },
    {
     "name": "stderr",
     "output_type": "stream",
     "text": [
      "E:\\CUAHSI_SI/training/source\\fldpln_library.py:198: FutureWarning: The provided callable <built-in function min> is currently using SeriesGroupBy.min. In a future version of pandas, the provided callable will be used directly. To keep current behavior pass the string \"min\" instead.\n",
      "  fspDf = tdf.groupby(['FspId'], as_index=False).agg(MinDtf = ('Dtf', min),MaxDtf = ('Dtf', max))\n",
      "E:\\CUAHSI_SI/training/source\\fldpln_library.py:198: FutureWarning: The provided callable <built-in function max> is currently using SeriesGroupBy.max. In a future version of pandas, the provided callable will be used directly. To keep current behavior pass the string \"max\" instead.\n",
      "  fspDf = tdf.groupby(['FspId'], as_index=False).agg(MinDtf = ('Dtf', min),MaxDtf = ('Dtf', max))\n"
     ]
    },
    {
     "name": "stdout",
     "output_type": "stream",
     "text": [
      "Total number of FSP-FPP relations in the tile: 19204\n",
      "Saving FSP-FPP relations in a file...\n",
      "Number of unique FSPs in the tile: 3\n",
      "Tile FSP extent (fspMinX,fspMaxX,fspMinY,fspMaxY):  (-50663.2057939356, -48123.2057939356, 1792952.9445651, 1793932.9445651)\n",
      "Tile FPP extent (fppMinX,fppMaxX,fppMinY,fppMaxY):  (-56843.2057939356, -55353.2057939356, 1789762.9445651, 1791762.9445651)\n",
      "Processing tile:  18\n",
      "Tile extent (minX, maxX, minY, maxY) : (-57353.2057939356, -55353.2057939356, 1791762.9445651, 1793762.9445651)\n",
      "Number of segments interseting with the tile:  4\n"
     ]
    },
    {
     "name": "stderr",
     "output_type": "stream",
     "text": [
      "E:\\CUAHSI_SI/training/source\\fldpln_library.py:198: FutureWarning: The provided callable <built-in function min> is currently using SeriesGroupBy.min. In a future version of pandas, the provided callable will be used directly. To keep current behavior pass the string \"min\" instead.\n",
      "  fspDf = tdf.groupby(['FspId'], as_index=False).agg(MinDtf = ('Dtf', min),MaxDtf = ('Dtf', max))\n",
      "E:\\CUAHSI_SI/training/source\\fldpln_library.py:198: FutureWarning: The provided callable <built-in function max> is currently using SeriesGroupBy.max. In a future version of pandas, the provided callable will be used directly. To keep current behavior pass the string \"max\" instead.\n",
      "  fspDf = tdf.groupby(['FspId'], as_index=False).agg(MinDtf = ('Dtf', min),MaxDtf = ('Dtf', max))\n"
     ]
    },
    {
     "name": "stdout",
     "output_type": "stream",
     "text": [
      "Total number of FSP-FPP relations in the tile: 118\n",
      "Saving FSP-FPP relations in a file...\n",
      "Number of unique FSPs in the tile: 1\n",
      "Tile FSP extent (fspMinX,fspMaxX,fspMinY,fspMaxY):  (-48133.2057939356, -48123.2057939356, 1792952.9445651, 1792962.9445651)\n",
      "Tile FPP extent (fppMinX,fppMaxX,fppMinY,fppMaxY):  (-55483.2057939356, -55353.2057939356, 1791762.9445651, 1791972.9445651)\n",
      "Processing tile:  19\n",
      "Tile extent (minX, maxX, minY, maxY) : (-57353.2057939356, -55353.2057939356, 1793762.9445651, 1795762.9445651)\n",
      "Number of segments interseting with the tile:  9\n"
     ]
    },
    {
     "name": "stderr",
     "output_type": "stream",
     "text": [
      "E:\\CUAHSI_SI/training/source\\fldpln_library.py:198: FutureWarning: The provided callable <built-in function min> is currently using SeriesGroupBy.min. In a future version of pandas, the provided callable will be used directly. To keep current behavior pass the string \"min\" instead.\n",
      "  fspDf = tdf.groupby(['FspId'], as_index=False).agg(MinDtf = ('Dtf', min),MaxDtf = ('Dtf', max))\n",
      "E:\\CUAHSI_SI/training/source\\fldpln_library.py:198: FutureWarning: The provided callable <built-in function max> is currently using SeriesGroupBy.max. In a future version of pandas, the provided callable will be used directly. To keep current behavior pass the string \"max\" instead.\n",
      "  fspDf = tdf.groupby(['FspId'], as_index=False).agg(MinDtf = ('Dtf', min),MaxDtf = ('Dtf', max))\n"
     ]
    },
    {
     "name": "stdout",
     "output_type": "stream",
     "text": [
      "Total number of FSP-FPP relations in the tile: 0\n",
      "Processing tile:  19\n",
      "Tile extent (minX, maxX, minY, maxY) : (-57353.2057939356, -55353.2057939356, 1795762.9445651, 1797762.9445651)\n",
      "Number of segments interseting with the tile:  15\n",
      "Total number of FSP-FPP relations in the tile: 161966\n",
      "Saving FSP-FPP relations in a file...\n",
      "Number of unique FSPs in the tile: 506\n",
      "Tile FSP extent (fspMinX,fspMaxX,fspMinY,fspMaxY):  (-60873.2057939356, -52053.2057939356, 1795412.9445651, 1799992.9445651)\n",
      "Tile FPP extent (fppMinX,fppMaxX,fppMinY,fppMaxY):  (-57353.2057939356, -55353.2057939356, 1795892.9445651, 1797762.9445651)\n",
      "Processing tile:  20\n",
      "Tile extent (minX, maxX, minY, maxY) : (-57353.2057939356, -55353.2057939356, 1797762.9445651, 1799762.9445651)\n",
      "Number of segments interseting with the tile:  8\n",
      "Total number of FSP-FPP relations in the tile: 9633\n",
      "Saving FSP-FPP relations in a file...\n",
      "Number of unique FSPs in the tile: 8\n",
      "Tile FSP extent (fspMinX,fspMaxX,fspMinY,fspMaxY):  (-60093.2057939356, -55793.2057939356, 1796342.9445651, 1799132.9445651)\n",
      "Tile FPP extent (fppMinX,fppMaxX,fppMinY,fppMaxY):  (-57353.2057939356, -56593.2057939356, 1797762.9445651, 1798432.9445651)\n",
      "Processing tile:  21\n",
      "Tile extent (minX, maxX, minY, maxY) : (-57353.2057939356, -55353.2057939356, 1799762.9445651, 1801762.9445651)\n",
      "Number of segments interseting with the tile:  5\n"
     ]
    },
    {
     "name": "stderr",
     "output_type": "stream",
     "text": [
      "E:\\CUAHSI_SI/training/source\\fldpln_library.py:198: FutureWarning: The provided callable <built-in function min> is currently using SeriesGroupBy.min. In a future version of pandas, the provided callable will be used directly. To keep current behavior pass the string \"min\" instead.\n",
      "  fspDf = tdf.groupby(['FspId'], as_index=False).agg(MinDtf = ('Dtf', min),MaxDtf = ('Dtf', max))\n",
      "E:\\CUAHSI_SI/training/source\\fldpln_library.py:198: FutureWarning: The provided callable <built-in function max> is currently using SeriesGroupBy.max. In a future version of pandas, the provided callable will be used directly. To keep current behavior pass the string \"max\" instead.\n",
      "  fspDf = tdf.groupby(['FspId'], as_index=False).agg(MinDtf = ('Dtf', min),MaxDtf = ('Dtf', max))\n",
      "E:\\CUAHSI_SI/training/source\\fldpln_library.py:198: FutureWarning: The provided callable <built-in function min> is currently using SeriesGroupBy.min. In a future version of pandas, the provided callable will be used directly. To keep current behavior pass the string \"min\" instead.\n",
      "  fspDf = tdf.groupby(['FspId'], as_index=False).agg(MinDtf = ('Dtf', min),MaxDtf = ('Dtf', max))\n",
      "E:\\CUAHSI_SI/training/source\\fldpln_library.py:198: FutureWarning: The provided callable <built-in function max> is currently using SeriesGroupBy.max. In a future version of pandas, the provided callable will be used directly. To keep current behavior pass the string \"max\" instead.\n",
      "  fspDf = tdf.groupby(['FspId'], as_index=False).agg(MinDtf = ('Dtf', min),MaxDtf = ('Dtf', max))\n"
     ]
    },
    {
     "name": "stdout",
     "output_type": "stream",
     "text": [
      "Total number of FSP-FPP relations in the tile: 0\n",
      "Processing tile:  21\n",
      "Tile extent (minX, maxX, minY, maxY) : (-57353.2057939356, -55353.2057939356, 1801762.9445651, 1803762.9445651)\n",
      "Number of segments interseting with the tile:  1\n",
      "Total number of FSP-FPP relations in the tile: 0\n",
      "Processing tile:  21\n",
      "Tile extent (minX, maxX, minY, maxY) : (-55353.2057939356, -53353.2057939356, 1783762.9445651, 1785762.9445651)\n",
      "Number of segments interseting with the tile:  1\n",
      "Total number of FSP-FPP relations in the tile: 0\n",
      "Processing tile:  21\n",
      "Tile extent (minX, maxX, minY, maxY) : (-55353.2057939356, -53353.2057939356, 1785762.9445651, 1787762.9445651)\n",
      "Number of segments interseting with the tile:  3\n",
      "Total number of FSP-FPP relations in the tile: 312\n",
      "Saving FSP-FPP relations in a file...\n",
      "Number of unique FSPs in the tile: 1\n",
      "Tile FSP extent (fspMinX,fspMaxX,fspMinY,fspMaxY):  (-48133.2057939356, -48123.2057939356, 1792952.9445651, 1792962.9445651)\n",
      "Tile FPP extent (fppMinX,fppMaxX,fppMinY,fppMaxY):  (-54133.2057939356, -53353.2057939356, 1787292.9445651, 1787762.9445651)\n",
      "Processing tile:  22\n",
      "Tile extent (minX, maxX, minY, maxY) : (-55353.2057939356, -53353.2057939356, 1787762.9445651, 1789762.9445651)\n",
      "Number of segments interseting with the tile:  3\n",
      "Total number of FSP-FPP relations in the tile: 488\n"
     ]
    },
    {
     "name": "stderr",
     "output_type": "stream",
     "text": [
      "E:\\CUAHSI_SI/training/source\\fldpln_library.py:198: FutureWarning: The provided callable <built-in function min> is currently using SeriesGroupBy.min. In a future version of pandas, the provided callable will be used directly. To keep current behavior pass the string \"min\" instead.\n",
      "  fspDf = tdf.groupby(['FspId'], as_index=False).agg(MinDtf = ('Dtf', min),MaxDtf = ('Dtf', max))\n",
      "E:\\CUAHSI_SI/training/source\\fldpln_library.py:198: FutureWarning: The provided callable <built-in function max> is currently using SeriesGroupBy.max. In a future version of pandas, the provided callable will be used directly. To keep current behavior pass the string \"max\" instead.\n",
      "  fspDf = tdf.groupby(['FspId'], as_index=False).agg(MinDtf = ('Dtf', min),MaxDtf = ('Dtf', max))\n"
     ]
    },
    {
     "name": "stdout",
     "output_type": "stream",
     "text": [
      "Saving FSP-FPP relations in a file...\n",
      "Number of unique FSPs in the tile: 1\n",
      "Tile FSP extent (fspMinX,fspMaxX,fspMinY,fspMaxY):  (-48133.2057939356, -48123.2057939356, 1792952.9445651, 1792962.9445651)\n",
      "Tile FPP extent (fppMinX,fppMaxX,fppMinY,fppMaxY):  (-53583.2057939356, -53353.2057939356, 1787762.9445651, 1789762.9445651)\n",
      "Processing tile:  23\n",
      "Tile extent (minX, maxX, minY, maxY) : (-55353.2057939356, -53353.2057939356, 1789762.9445651, 1791762.9445651)\n",
      "Number of segments interseting with the tile:  3\n",
      "Total number of FSP-FPP relations in the tile: 28316\n"
     ]
    },
    {
     "name": "stderr",
     "output_type": "stream",
     "text": [
      "E:\\CUAHSI_SI/training/source\\fldpln_library.py:198: FutureWarning: The provided callable <built-in function min> is currently using SeriesGroupBy.min. In a future version of pandas, the provided callable will be used directly. To keep current behavior pass the string \"min\" instead.\n",
      "  fspDf = tdf.groupby(['FspId'], as_index=False).agg(MinDtf = ('Dtf', min),MaxDtf = ('Dtf', max))\n",
      "E:\\CUAHSI_SI/training/source\\fldpln_library.py:198: FutureWarning: The provided callable <built-in function max> is currently using SeriesGroupBy.max. In a future version of pandas, the provided callable will be used directly. To keep current behavior pass the string \"max\" instead.\n",
      "  fspDf = tdf.groupby(['FspId'], as_index=False).agg(MinDtf = ('Dtf', min),MaxDtf = ('Dtf', max))\n"
     ]
    },
    {
     "name": "stdout",
     "output_type": "stream",
     "text": [
      "Saving FSP-FPP relations in a file...\n",
      "Number of unique FSPs in the tile: 3\n",
      "Tile FSP extent (fspMinX,fspMaxX,fspMinY,fspMaxY):  (-50663.2057939356, -48123.2057939356, 1792952.9445651, 1793932.9445651)\n",
      "Tile FPP extent (fppMinX,fppMaxX,fppMinY,fppMaxY):  (-55353.2057939356, -53353.2057939356, 1789762.9445651, 1791762.9445651)\n",
      "Processing tile:  24\n",
      "Tile extent (minX, maxX, minY, maxY) : (-55353.2057939356, -53353.2057939356, 1791762.9445651, 1793762.9445651)\n",
      "Number of segments interseting with the tile:  4\n"
     ]
    },
    {
     "name": "stderr",
     "output_type": "stream",
     "text": [
      "E:\\CUAHSI_SI/training/source\\fldpln_library.py:198: FutureWarning: The provided callable <built-in function min> is currently using SeriesGroupBy.min. In a future version of pandas, the provided callable will be used directly. To keep current behavior pass the string \"min\" instead.\n",
      "  fspDf = tdf.groupby(['FspId'], as_index=False).agg(MinDtf = ('Dtf', min),MaxDtf = ('Dtf', max))\n",
      "E:\\CUAHSI_SI/training/source\\fldpln_library.py:198: FutureWarning: The provided callable <built-in function max> is currently using SeriesGroupBy.max. In a future version of pandas, the provided callable will be used directly. To keep current behavior pass the string \"max\" instead.\n",
      "  fspDf = tdf.groupby(['FspId'], as_index=False).agg(MinDtf = ('Dtf', min),MaxDtf = ('Dtf', max))\n"
     ]
    },
    {
     "name": "stdout",
     "output_type": "stream",
     "text": [
      "Total number of FSP-FPP relations in the tile: 23572\n",
      "Saving FSP-FPP relations in a file...\n",
      "Number of unique FSPs in the tile: 3\n",
      "Tile FSP extent (fspMinX,fspMaxX,fspMinY,fspMaxY):  (-50663.2057939356, -48123.2057939356, 1792952.9445651, 1793932.9445651)\n",
      "Tile FPP extent (fppMinX,fppMaxX,fppMinY,fppMaxY):  (-55353.2057939356, -53353.2057939356, 1791762.9445651, 1792832.9445651)\n",
      "Processing tile:  25\n",
      "Tile extent (minX, maxX, minY, maxY) : (-55353.2057939356, -53353.2057939356, 1793762.9445651, 1795762.9445651)\n",
      "Number of segments interseting with the tile:  9\n"
     ]
    },
    {
     "name": "stderr",
     "output_type": "stream",
     "text": [
      "E:\\CUAHSI_SI/training/source\\fldpln_library.py:198: FutureWarning: The provided callable <built-in function min> is currently using SeriesGroupBy.min. In a future version of pandas, the provided callable will be used directly. To keep current behavior pass the string \"min\" instead.\n",
      "  fspDf = tdf.groupby(['FspId'], as_index=False).agg(MinDtf = ('Dtf', min),MaxDtf = ('Dtf', max))\n",
      "E:\\CUAHSI_SI/training/source\\fldpln_library.py:198: FutureWarning: The provided callable <built-in function max> is currently using SeriesGroupBy.max. In a future version of pandas, the provided callable will be used directly. To keep current behavior pass the string \"max\" instead.\n",
      "  fspDf = tdf.groupby(['FspId'], as_index=False).agg(MinDtf = ('Dtf', min),MaxDtf = ('Dtf', max))\n"
     ]
    },
    {
     "name": "stdout",
     "output_type": "stream",
     "text": [
      "Total number of FSP-FPP relations in the tile: 27766\n",
      "Saving FSP-FPP relations in a file...\n",
      "Number of unique FSPs in the tile: 249\n",
      "Tile FSP extent (fspMinX,fspMaxX,fspMinY,fspMaxY):  (-55813.2057939356, -48293.2057939356, 1793442.9445651, 1796822.9445651)\n",
      "Tile FPP extent (fppMinX,fppMaxX,fppMinY,fppMaxY):  (-55023.2057939356, -53353.2057939356, 1794912.9445651, 1795762.9445651)\n",
      "Processing tile:  26\n",
      "Tile extent (minX, maxX, minY, maxY) : (-55353.2057939356, -53353.2057939356, 1795762.9445651, 1797762.9445651)\n",
      "Number of segments interseting with the tile:  12\n"
     ]
    },
    {
     "name": "stderr",
     "output_type": "stream",
     "text": [
      "E:\\CUAHSI_SI/training/source\\fldpln_library.py:198: FutureWarning: The provided callable <built-in function min> is currently using SeriesGroupBy.min. In a future version of pandas, the provided callable will be used directly. To keep current behavior pass the string \"min\" instead.\n",
      "  fspDf = tdf.groupby(['FspId'], as_index=False).agg(MinDtf = ('Dtf', min),MaxDtf = ('Dtf', max))\n",
      "E:\\CUAHSI_SI/training/source\\fldpln_library.py:198: FutureWarning: The provided callable <built-in function max> is currently using SeriesGroupBy.max. In a future version of pandas, the provided callable will be used directly. To keep current behavior pass the string \"max\" instead.\n",
      "  fspDf = tdf.groupby(['FspId'], as_index=False).agg(MinDtf = ('Dtf', min),MaxDtf = ('Dtf', max))\n"
     ]
    },
    {
     "name": "stdout",
     "output_type": "stream",
     "text": [
      "Total number of FSP-FPP relations in the tile: 67296\n",
      "Saving FSP-FPP relations in a file...\n",
      "Number of unique FSPs in the tile: 261\n",
      "Tile FSP extent (fspMinX,fspMaxX,fspMinY,fspMaxY):  (-57333.2057939356, -48293.2057939356, 1793442.9445651, 1797032.9445651)\n",
      "Tile FPP extent (fppMinX,fppMaxX,fppMinY,fppMaxY):  (-55353.2057939356, -53353.2057939356, 1795762.9445651, 1796962.9445651)\n",
      "Processing tile:  27\n",
      "Tile extent (minX, maxX, minY, maxY) : (-55353.2057939356, -53353.2057939356, 1797762.9445651, 1799762.9445651)\n",
      "Number of segments interseting with the tile:  5\n",
      "Total number of FSP-FPP relations in the tile: 0\n",
      "Processing tile:  27\n",
      "Tile extent (minX, maxX, minY, maxY) : (-55353.2057939356, -53353.2057939356, 1799762.9445651, 1801762.9445651)\n",
      "Number of segments interseting with the tile:  2\n",
      "Total number of FSP-FPP relations in the tile: 0\n",
      "Processing tile:  27\n",
      "Tile extent (minX, maxX, minY, maxY) : (-55353.2057939356, -53353.2057939356, 1801762.9445651, 1803762.9445651)\n",
      "Number of segments interseting with the tile:  0\n",
      "Total number of FSP-FPP relations in the tile: 0\n",
      "Processing tile:  27\n",
      "Tile extent (minX, maxX, minY, maxY) : (-53353.2057939356, -51353.2057939356, 1783762.9445651, 1785762.9445651)\n",
      "Number of segments interseting with the tile:  1\n",
      "Total number of FSP-FPP relations in the tile: 0\n",
      "Processing tile:  27\n",
      "Tile extent (minX, maxX, minY, maxY) : (-53353.2057939356, -51353.2057939356, 1785762.9445651, 1787762.9445651)\n",
      "Number of segments interseting with the tile:  3\n"
     ]
    },
    {
     "name": "stderr",
     "output_type": "stream",
     "text": [
      "E:\\CUAHSI_SI/training/source\\fldpln_library.py:198: FutureWarning: The provided callable <built-in function min> is currently using SeriesGroupBy.min. In a future version of pandas, the provided callable will be used directly. To keep current behavior pass the string \"min\" instead.\n",
      "  fspDf = tdf.groupby(['FspId'], as_index=False).agg(MinDtf = ('Dtf', min),MaxDtf = ('Dtf', max))\n",
      "E:\\CUAHSI_SI/training/source\\fldpln_library.py:198: FutureWarning: The provided callable <built-in function max> is currently using SeriesGroupBy.max. In a future version of pandas, the provided callable will be used directly. To keep current behavior pass the string \"max\" instead.\n",
      "  fspDf = tdf.groupby(['FspId'], as_index=False).agg(MinDtf = ('Dtf', min),MaxDtf = ('Dtf', max))\n"
     ]
    },
    {
     "name": "stdout",
     "output_type": "stream",
     "text": [
      "Total number of FSP-FPP relations in the tile: 33\n",
      "Saving FSP-FPP relations in a file...\n",
      "Number of unique FSPs in the tile: 1\n",
      "Tile FSP extent (fspMinX,fspMaxX,fspMinY,fspMaxY):  (-48133.2057939356, -48123.2057939356, 1792952.9445651, 1792962.9445651)\n",
      "Tile FPP extent (fppMinX,fppMaxX,fppMinY,fppMaxY):  (-53353.2057939356, -53293.2057939356, 1787642.9445651, 1787762.9445651)\n",
      "Processing tile:  28\n",
      "Tile extent (minX, maxX, minY, maxY) : (-53353.2057939356, -51353.2057939356, 1787762.9445651, 1789762.9445651)\n",
      "Number of segments interseting with the tile:  3\n",
      "Total number of FSP-FPP relations in the tile: 29540\n",
      "Saving FSP-FPP relations in a file...\n"
     ]
    },
    {
     "name": "stderr",
     "output_type": "stream",
     "text": [
      "E:\\CUAHSI_SI/training/source\\fldpln_library.py:198: FutureWarning: The provided callable <built-in function min> is currently using SeriesGroupBy.min. In a future version of pandas, the provided callable will be used directly. To keep current behavior pass the string \"min\" instead.\n",
      "  fspDf = tdf.groupby(['FspId'], as_index=False).agg(MinDtf = ('Dtf', min),MaxDtf = ('Dtf', max))\n",
      "E:\\CUAHSI_SI/training/source\\fldpln_library.py:198: FutureWarning: The provided callable <built-in function max> is currently using SeriesGroupBy.max. In a future version of pandas, the provided callable will be used directly. To keep current behavior pass the string \"max\" instead.\n",
      "  fspDf = tdf.groupby(['FspId'], as_index=False).agg(MinDtf = ('Dtf', min),MaxDtf = ('Dtf', max))\n",
      "E:\\CUAHSI_SI/training/source\\fldpln_library.py:198: FutureWarning: The provided callable <built-in function min> is currently using SeriesGroupBy.min. In a future version of pandas, the provided callable will be used directly. To keep current behavior pass the string \"min\" instead.\n",
      "  fspDf = tdf.groupby(['FspId'], as_index=False).agg(MinDtf = ('Dtf', min),MaxDtf = ('Dtf', max))\n",
      "E:\\CUAHSI_SI/training/source\\fldpln_library.py:198: FutureWarning: The provided callable <built-in function max> is currently using SeriesGroupBy.max. In a future version of pandas, the provided callable will be used directly. To keep current behavior pass the string \"max\" instead.\n",
      "  fspDf = tdf.groupby(['FspId'], as_index=False).agg(MinDtf = ('Dtf', min),MaxDtf = ('Dtf', max))\n"
     ]
    },
    {
     "name": "stdout",
     "output_type": "stream",
     "text": [
      "Number of unique FSPs in the tile: 3\n",
      "Tile FSP extent (fspMinX,fspMaxX,fspMinY,fspMaxY):  (-50663.2057939356, -48123.2057939356, 1792952.9445651, 1793932.9445651)\n",
      "Tile FPP extent (fppMinX,fppMaxX,fppMinY,fppMaxY):  (-53353.2057939356, -51353.2057939356, 1787762.9445651, 1789762.9445651)\n",
      "Processing tile:  29\n",
      "Tile extent (minX, maxX, minY, maxY) : (-53353.2057939356, -51353.2057939356, 1789762.9445651, 1791762.9445651)\n",
      "Number of segments interseting with the tile:  3\n",
      "Total number of FSP-FPP relations in the tile: 60174\n",
      "Saving FSP-FPP relations in a file...\n",
      "Number of unique FSPs in the tile: 4\n",
      "Tile FSP extent (fspMinX,fspMaxX,fspMinY,fspMaxY):  (-50663.2057939356, -48123.2057939356, 1792952.9445651, 1793932.9445651)\n",
      "Tile FPP extent (fppMinX,fppMaxX,fppMinY,fppMaxY):  (-53353.2057939356, -51353.2057939356, 1789762.9445651, 1791762.9445651)\n",
      "Processing tile:  30\n",
      "Tile extent (minX, maxX, minY, maxY) : (-53353.2057939356, -51353.2057939356, 1791762.9445651, 1793762.9445651)\n",
      "Number of segments interseting with the tile:  4\n"
     ]
    },
    {
     "name": "stderr",
     "output_type": "stream",
     "text": [
      "E:\\CUAHSI_SI/training/source\\fldpln_library.py:198: FutureWarning: The provided callable <built-in function min> is currently using SeriesGroupBy.min. In a future version of pandas, the provided callable will be used directly. To keep current behavior pass the string \"min\" instead.\n",
      "  fspDf = tdf.groupby(['FspId'], as_index=False).agg(MinDtf = ('Dtf', min),MaxDtf = ('Dtf', max))\n",
      "E:\\CUAHSI_SI/training/source\\fldpln_library.py:198: FutureWarning: The provided callable <built-in function max> is currently using SeriesGroupBy.max. In a future version of pandas, the provided callable will be used directly. To keep current behavior pass the string \"max\" instead.\n",
      "  fspDf = tdf.groupby(['FspId'], as_index=False).agg(MinDtf = ('Dtf', min),MaxDtf = ('Dtf', max))\n"
     ]
    },
    {
     "name": "stdout",
     "output_type": "stream",
     "text": [
      "Total number of FSP-FPP relations in the tile: 19031\n",
      "Saving FSP-FPP relations in a file...\n",
      "Number of unique FSPs in the tile: 4\n",
      "Tile FSP extent (fspMinX,fspMaxX,fspMinY,fspMaxY):  (-50663.2057939356, -48123.2057939356, 1792952.9445651, 1793932.9445651)\n",
      "Tile FPP extent (fppMinX,fppMaxX,fppMinY,fppMaxY):  (-53353.2057939356, -51353.2057939356, 1791762.9445651, 1792862.9445651)\n",
      "Processing tile:  31\n",
      "Tile extent (minX, maxX, minY, maxY) : (-53353.2057939356, -51353.2057939356, 1793762.9445651, 1795762.9445651)\n",
      "Number of segments interseting with the tile:  9\n"
     ]
    },
    {
     "name": "stderr",
     "output_type": "stream",
     "text": [
      "E:\\CUAHSI_SI/training/source\\fldpln_library.py:198: FutureWarning: The provided callable <built-in function min> is currently using SeriesGroupBy.min. In a future version of pandas, the provided callable will be used directly. To keep current behavior pass the string \"min\" instead.\n",
      "  fspDf = tdf.groupby(['FspId'], as_index=False).agg(MinDtf = ('Dtf', min),MaxDtf = ('Dtf', max))\n",
      "E:\\CUAHSI_SI/training/source\\fldpln_library.py:198: FutureWarning: The provided callable <built-in function max> is currently using SeriesGroupBy.max. In a future version of pandas, the provided callable will be used directly. To keep current behavior pass the string \"max\" instead.\n",
      "  fspDf = tdf.groupby(['FspId'], as_index=False).agg(MinDtf = ('Dtf', min),MaxDtf = ('Dtf', max))\n"
     ]
    },
    {
     "name": "stdout",
     "output_type": "stream",
     "text": [
      "Total number of FSP-FPP relations in the tile: 45929\n",
      "Saving FSP-FPP relations in a file...\n",
      "Number of unique FSPs in the tile: 186\n",
      "Tile FSP extent (fspMinX,fspMaxX,fspMinY,fspMaxY):  (-55813.2057939356, -48293.2057939356, 1793442.9445651, 1796822.9445651)\n",
      "Tile FPP extent (fppMinX,fppMaxX,fppMinY,fppMaxY):  (-53353.2057939356, -51353.2057939356, 1793952.9445651, 1795762.9445651)\n",
      "Processing tile:  32\n",
      "Tile extent (minX, maxX, minY, maxY) : (-53353.2057939356, -51353.2057939356, 1795762.9445651, 1797762.9445651)\n",
      "Number of segments interseting with the tile:  9\n"
     ]
    },
    {
     "name": "stderr",
     "output_type": "stream",
     "text": [
      "E:\\CUAHSI_SI/training/source\\fldpln_library.py:198: FutureWarning: The provided callable <built-in function min> is currently using SeriesGroupBy.min. In a future version of pandas, the provided callable will be used directly. To keep current behavior pass the string \"min\" instead.\n",
      "  fspDf = tdf.groupby(['FspId'], as_index=False).agg(MinDtf = ('Dtf', min),MaxDtf = ('Dtf', max))\n",
      "E:\\CUAHSI_SI/training/source\\fldpln_library.py:198: FutureWarning: The provided callable <built-in function max> is currently using SeriesGroupBy.max. In a future version of pandas, the provided callable will be used directly. To keep current behavior pass the string \"max\" instead.\n",
      "  fspDf = tdf.groupby(['FspId'], as_index=False).agg(MinDtf = ('Dtf', min),MaxDtf = ('Dtf', max))\n"
     ]
    },
    {
     "name": "stdout",
     "output_type": "stream",
     "text": [
      "Total number of FSP-FPP relations in the tile: 48770\n",
      "Saving FSP-FPP relations in a file...\n",
      "Number of unique FSPs in the tile: 318\n",
      "Tile FSP extent (fspMinX,fspMaxX,fspMinY,fspMaxY):  (-54523.2057939356, -48293.2057939356, 1793442.9445651, 1796102.9445651)\n",
      "Tile FPP extent (fppMinX,fppMaxX,fppMinY,fppMaxY):  (-53353.2057939356, -51353.2057939356, 1795762.9445651, 1797042.9445651)\n",
      "Processing tile:  33\n",
      "Tile extent (minX, maxX, minY, maxY) : (-53353.2057939356, -51353.2057939356, 1797762.9445651, 1799762.9445651)\n",
      "Number of segments interseting with the tile:  2\n",
      "Total number of FSP-FPP relations in the tile: 0\n",
      "Processing tile:  33\n",
      "Tile extent (minX, maxX, minY, maxY) : (-53353.2057939356, -51353.2057939356, 1799762.9445651, 1801762.9445651)\n",
      "Number of segments interseting with the tile:  0\n",
      "Total number of FSP-FPP relations in the tile: 0\n",
      "Processing tile:  33\n",
      "Tile extent (minX, maxX, minY, maxY) : (-53353.2057939356, -51353.2057939356, 1801762.9445651, 1803762.9445651)\n",
      "Number of segments interseting with the tile:  0\n",
      "Total number of FSP-FPP relations in the tile: 0\n",
      "Processing tile:  33\n",
      "Tile extent (minX, maxX, minY, maxY) : (-51353.2057939356, -49353.2057939356, 1783762.9445651, 1785762.9445651)\n",
      "Number of segments interseting with the tile:  1\n",
      "Total number of FSP-FPP relations in the tile: 0\n",
      "Processing tile:  33\n",
      "Tile extent (minX, maxX, minY, maxY) : (-51353.2057939356, -49353.2057939356, 1785762.9445651, 1787762.9445651)\n",
      "Number of segments interseting with the tile:  3\n"
     ]
    },
    {
     "name": "stderr",
     "output_type": "stream",
     "text": [
      "E:\\CUAHSI_SI/training/source\\fldpln_library.py:198: FutureWarning: The provided callable <built-in function min> is currently using SeriesGroupBy.min. In a future version of pandas, the provided callable will be used directly. To keep current behavior pass the string \"min\" instead.\n",
      "  fspDf = tdf.groupby(['FspId'], as_index=False).agg(MinDtf = ('Dtf', min),MaxDtf = ('Dtf', max))\n",
      "E:\\CUAHSI_SI/training/source\\fldpln_library.py:198: FutureWarning: The provided callable <built-in function max> is currently using SeriesGroupBy.max. In a future version of pandas, the provided callable will be used directly. To keep current behavior pass the string \"max\" instead.\n",
      "  fspDf = tdf.groupby(['FspId'], as_index=False).agg(MinDtf = ('Dtf', min),MaxDtf = ('Dtf', max))\n"
     ]
    },
    {
     "name": "stdout",
     "output_type": "stream",
     "text": [
      "Total number of FSP-FPP relations in the tile: 0\n",
      "Processing tile:  33\n",
      "Tile extent (minX, maxX, minY, maxY) : (-51353.2057939356, -49353.2057939356, 1787762.9445651, 1789762.9445651)\n",
      "Number of segments interseting with the tile:  3\n",
      "Total number of FSP-FPP relations in the tile: 58597\n",
      "Saving FSP-FPP relations in a file...\n",
      "Number of unique FSPs in the tile: 3\n",
      "Tile FSP extent (fspMinX,fspMaxX,fspMinY,fspMaxY):  (-50663.2057939356, -48123.2057939356, 1792952.9445651, 1793932.9445651)\n",
      "Tile FPP extent (fppMinX,fppMaxX,fppMinY,fppMaxY):  (-51353.2057939356, -49353.2057939356, 1788182.9445651, 1789762.9445651)\n",
      "Processing tile:  34\n",
      "Tile extent (minX, maxX, minY, maxY) : (-51353.2057939356, -49353.2057939356, 1789762.9445651, 1791762.9445651)\n",
      "Number of segments interseting with the tile:  3\n"
     ]
    },
    {
     "name": "stderr",
     "output_type": "stream",
     "text": [
      "E:\\CUAHSI_SI/training/source\\fldpln_library.py:198: FutureWarning: The provided callable <built-in function min> is currently using SeriesGroupBy.min. In a future version of pandas, the provided callable will be used directly. To keep current behavior pass the string \"min\" instead.\n",
      "  fspDf = tdf.groupby(['FspId'], as_index=False).agg(MinDtf = ('Dtf', min),MaxDtf = ('Dtf', max))\n",
      "E:\\CUAHSI_SI/training/source\\fldpln_library.py:198: FutureWarning: The provided callable <built-in function max> is currently using SeriesGroupBy.max. In a future version of pandas, the provided callable will be used directly. To keep current behavior pass the string \"max\" instead.\n",
      "  fspDf = tdf.groupby(['FspId'], as_index=False).agg(MinDtf = ('Dtf', min),MaxDtf = ('Dtf', max))\n"
     ]
    },
    {
     "name": "stdout",
     "output_type": "stream",
     "text": [
      "Total number of FSP-FPP relations in the tile: 114519\n",
      "Saving FSP-FPP relations in a file...\n",
      "Number of unique FSPs in the tile: 4\n",
      "Tile FSP extent (fspMinX,fspMaxX,fspMinY,fspMaxY):  (-50663.2057939356, -48123.2057939356, 1792952.9445651, 1793932.9445651)\n",
      "Tile FPP extent (fppMinX,fppMaxX,fppMinY,fppMaxY):  (-51353.2057939356, -49353.2057939356, 1789762.9445651, 1791762.9445651)\n",
      "Processing tile:  35\n",
      "Tile extent (minX, maxX, minY, maxY) : (-51353.2057939356, -49353.2057939356, 1791762.9445651, 1793762.9445651)\n",
      "Number of segments interseting with the tile:  4\n"
     ]
    },
    {
     "name": "stderr",
     "output_type": "stream",
     "text": [
      "E:\\CUAHSI_SI/training/source\\fldpln_library.py:198: FutureWarning: The provided callable <built-in function min> is currently using SeriesGroupBy.min. In a future version of pandas, the provided callable will be used directly. To keep current behavior pass the string \"min\" instead.\n",
      "  fspDf = tdf.groupby(['FspId'], as_index=False).agg(MinDtf = ('Dtf', min),MaxDtf = ('Dtf', max))\n",
      "E:\\CUAHSI_SI/training/source\\fldpln_library.py:198: FutureWarning: The provided callable <built-in function max> is currently using SeriesGroupBy.max. In a future version of pandas, the provided callable will be used directly. To keep current behavior pass the string \"max\" instead.\n",
      "  fspDf = tdf.groupby(['FspId'], as_index=False).agg(MinDtf = ('Dtf', min),MaxDtf = ('Dtf', max))\n"
     ]
    },
    {
     "name": "stdout",
     "output_type": "stream",
     "text": [
      "Total number of FSP-FPP relations in the tile: 110243\n",
      "Saving FSP-FPP relations in a file...\n",
      "Number of unique FSPs in the tile: 8\n",
      "Tile FSP extent (fspMinX,fspMaxX,fspMinY,fspMaxY):  (-51363.2057939356, -48123.2057939356, 1792952.9445651, 1794352.9445651)\n",
      "Tile FPP extent (fppMinX,fppMaxX,fppMinY,fppMaxY):  (-51353.2057939356, -49353.2057939356, 1791762.9445651, 1793762.9445651)\n",
      "Processing tile:  36\n",
      "Tile extent (minX, maxX, minY, maxY) : (-51353.2057939356, -49353.2057939356, 1793762.9445651, 1795762.9445651)\n",
      "Number of segments interseting with the tile:  5\n"
     ]
    },
    {
     "name": "stderr",
     "output_type": "stream",
     "text": [
      "E:\\CUAHSI_SI/training/source\\fldpln_library.py:198: FutureWarning: The provided callable <built-in function min> is currently using SeriesGroupBy.min. In a future version of pandas, the provided callable will be used directly. To keep current behavior pass the string \"min\" instead.\n",
      "  fspDf = tdf.groupby(['FspId'], as_index=False).agg(MinDtf = ('Dtf', min),MaxDtf = ('Dtf', max))\n",
      "E:\\CUAHSI_SI/training/source\\fldpln_library.py:198: FutureWarning: The provided callable <built-in function max> is currently using SeriesGroupBy.max. In a future version of pandas, the provided callable will be used directly. To keep current behavior pass the string \"max\" instead.\n",
      "  fspDf = tdf.groupby(['FspId'], as_index=False).agg(MinDtf = ('Dtf', min),MaxDtf = ('Dtf', max))\n"
     ]
    },
    {
     "name": "stdout",
     "output_type": "stream",
     "text": [
      "Total number of FSP-FPP relations in the tile: 73294\n",
      "Saving FSP-FPP relations in a file...\n",
      "Number of unique FSPs in the tile: 396\n",
      "Tile FSP extent (fspMinX,fspMaxX,fspMinY,fspMaxY):  (-52093.2057939356, -48293.2057939356, 1793442.9445651, 1795882.9445651)\n",
      "Tile FPP extent (fppMinX,fppMaxX,fppMinY,fppMaxY):  (-51353.2057939356, -49353.2057939356, 1793762.9445651, 1795762.9445651)\n",
      "Processing tile:  37\n",
      "Tile extent (minX, maxX, minY, maxY) : (-51353.2057939356, -49353.2057939356, 1795762.9445651, 1797762.9445651)\n",
      "Number of segments interseting with the tile:  5\n"
     ]
    },
    {
     "name": "stderr",
     "output_type": "stream",
     "text": [
      "E:\\CUAHSI_SI/training/source\\fldpln_library.py:198: FutureWarning: The provided callable <built-in function min> is currently using SeriesGroupBy.min. In a future version of pandas, the provided callable will be used directly. To keep current behavior pass the string \"min\" instead.\n",
      "  fspDf = tdf.groupby(['FspId'], as_index=False).agg(MinDtf = ('Dtf', min),MaxDtf = ('Dtf', max))\n",
      "E:\\CUAHSI_SI/training/source\\fldpln_library.py:198: FutureWarning: The provided callable <built-in function max> is currently using SeriesGroupBy.max. In a future version of pandas, the provided callable will be used directly. To keep current behavior pass the string \"max\" instead.\n",
      "  fspDf = tdf.groupby(['FspId'], as_index=False).agg(MinDtf = ('Dtf', min),MaxDtf = ('Dtf', max))\n"
     ]
    },
    {
     "name": "stdout",
     "output_type": "stream",
     "text": [
      "Total number of FSP-FPP relations in the tile: 1585\n",
      "Saving FSP-FPP relations in a file...\n",
      "Number of unique FSPs in the tile: 7\n",
      "Tile FSP extent (fspMinX,fspMaxX,fspMinY,fspMaxY):  (-52023.2057939356, -48293.2057939356, 1793442.9445651, 1795882.9445651)\n",
      "Tile FPP extent (fppMinX,fppMaxX,fppMinY,fppMaxY):  (-51353.2057939356, -49353.2057939356, 1795762.9445651, 1796372.9445651)\n",
      "Processing tile:  38\n",
      "Tile extent (minX, maxX, minY, maxY) : (-51353.2057939356, -49353.2057939356, 1797762.9445651, 1799762.9445651)\n",
      "Number of segments interseting with the tile:  0\n",
      "Total number of FSP-FPP relations in the tile: 0\n",
      "Processing tile:  38\n",
      "Tile extent (minX, maxX, minY, maxY) : (-51353.2057939356, -49353.2057939356, 1799762.9445651, 1801762.9445651)\n",
      "Number of segments interseting with the tile:  0\n",
      "Total number of FSP-FPP relations in the tile: 0\n",
      "Processing tile:  38\n",
      "Tile extent (minX, maxX, minY, maxY) : (-51353.2057939356, -49353.2057939356, 1801762.9445651, 1803762.9445651)\n",
      "Number of segments interseting with the tile:  0\n",
      "Total number of FSP-FPP relations in the tile: 0\n",
      "Processing tile:  38\n",
      "Tile extent (minX, maxX, minY, maxY) : (-49353.2057939356, -47353.2057939356, 1783762.9445651, 1785762.9445651)\n",
      "Number of segments interseting with the tile:  1\n",
      "Total number of FSP-FPP relations in the tile: 0\n",
      "Processing tile:  38\n",
      "Tile extent (minX, maxX, minY, maxY) : (-49353.2057939356, -47353.2057939356, 1785762.9445651, 1787762.9445651)\n",
      "Number of segments interseting with the tile:  3\n"
     ]
    },
    {
     "name": "stderr",
     "output_type": "stream",
     "text": [
      "E:\\CUAHSI_SI/training/source\\fldpln_library.py:198: FutureWarning: The provided callable <built-in function min> is currently using SeriesGroupBy.min. In a future version of pandas, the provided callable will be used directly. To keep current behavior pass the string \"min\" instead.\n",
      "  fspDf = tdf.groupby(['FspId'], as_index=False).agg(MinDtf = ('Dtf', min),MaxDtf = ('Dtf', max))\n",
      "E:\\CUAHSI_SI/training/source\\fldpln_library.py:198: FutureWarning: The provided callable <built-in function max> is currently using SeriesGroupBy.max. In a future version of pandas, the provided callable will be used directly. To keep current behavior pass the string \"max\" instead.\n",
      "  fspDf = tdf.groupby(['FspId'], as_index=False).agg(MinDtf = ('Dtf', min),MaxDtf = ('Dtf', max))\n"
     ]
    },
    {
     "name": "stdout",
     "output_type": "stream",
     "text": [
      "Total number of FSP-FPP relations in the tile: 0\n",
      "Processing tile:  38\n",
      "Tile extent (minX, maxX, minY, maxY) : (-49353.2057939356, -47353.2057939356, 1787762.9445651, 1789762.9445651)\n",
      "Number of segments interseting with the tile:  3\n",
      "Total number of FSP-FPP relations in the tile: 2374\n",
      "Saving FSP-FPP relations in a file...\n",
      "Number of unique FSPs in the tile: 3\n",
      "Tile FSP extent (fspMinX,fspMaxX,fspMinY,fspMaxY):  (-50663.2057939356, -48123.2057939356, 1792952.9445651, 1793932.9445651)\n",
      "Tile FPP extent (fppMinX,fppMaxX,fppMinY,fppMaxY):  (-49353.2057939356, -48753.2057939356, 1789282.9445651, 1789762.9445651)\n",
      "Processing tile:  39\n",
      "Tile extent (minX, maxX, minY, maxY) : (-49353.2057939356, -47353.2057939356, 1789762.9445651, 1791762.9445651)\n",
      "Number of segments interseting with the tile:  3\n"
     ]
    },
    {
     "name": "stderr",
     "output_type": "stream",
     "text": [
      "E:\\CUAHSI_SI/training/source\\fldpln_library.py:198: FutureWarning: The provided callable <built-in function min> is currently using SeriesGroupBy.min. In a future version of pandas, the provided callable will be used directly. To keep current behavior pass the string \"min\" instead.\n",
      "  fspDf = tdf.groupby(['FspId'], as_index=False).agg(MinDtf = ('Dtf', min),MaxDtf = ('Dtf', max))\n",
      "E:\\CUAHSI_SI/training/source\\fldpln_library.py:198: FutureWarning: The provided callable <built-in function max> is currently using SeriesGroupBy.max. In a future version of pandas, the provided callable will be used directly. To keep current behavior pass the string \"max\" instead.\n",
      "  fspDf = tdf.groupby(['FspId'], as_index=False).agg(MinDtf = ('Dtf', min),MaxDtf = ('Dtf', max))\n"
     ]
    },
    {
     "name": "stdout",
     "output_type": "stream",
     "text": [
      "Total number of FSP-FPP relations in the tile: 69265\n",
      "Saving FSP-FPP relations in a file...\n",
      "Number of unique FSPs in the tile: 3\n",
      "Tile FSP extent (fspMinX,fspMaxX,fspMinY,fspMaxY):  (-50663.2057939356, -48123.2057939356, 1792952.9445651, 1793932.9445651)\n",
      "Tile FPP extent (fppMinX,fppMaxX,fppMinY,fppMaxY):  (-49353.2057939356, -47733.2057939356, 1789762.9445651, 1791762.9445651)\n",
      "Processing tile:  40\n",
      "Tile extent (minX, maxX, minY, maxY) : (-49353.2057939356, -47353.2057939356, 1791762.9445651, 1793762.9445651)\n",
      "Number of segments interseting with the tile:  3\n"
     ]
    },
    {
     "name": "stderr",
     "output_type": "stream",
     "text": [
      "E:\\CUAHSI_SI/training/source\\fldpln_library.py:198: FutureWarning: The provided callable <built-in function min> is currently using SeriesGroupBy.min. In a future version of pandas, the provided callable will be used directly. To keep current behavior pass the string \"min\" instead.\n",
      "  fspDf = tdf.groupby(['FspId'], as_index=False).agg(MinDtf = ('Dtf', min),MaxDtf = ('Dtf', max))\n",
      "E:\\CUAHSI_SI/training/source\\fldpln_library.py:198: FutureWarning: The provided callable <built-in function max> is currently using SeriesGroupBy.max. In a future version of pandas, the provided callable will be used directly. To keep current behavior pass the string \"max\" instead.\n",
      "  fspDf = tdf.groupby(['FspId'], as_index=False).agg(MinDtf = ('Dtf', min),MaxDtf = ('Dtf', max))\n"
     ]
    },
    {
     "name": "stdout",
     "output_type": "stream",
     "text": [
      "Total number of FSP-FPP relations in the tile: 102454\n",
      "Saving FSP-FPP relations in a file...\n",
      "Number of unique FSPs in the tile: 104\n",
      "Tile FSP extent (fspMinX,fspMaxX,fspMinY,fspMaxY):  (-50663.2057939356, -47973.2057939356, 1792812.9445651, 1794332.9445651)\n",
      "Tile FPP extent (fppMinX,fppMaxX,fppMinY,fppMaxY):  (-49353.2057939356, -47393.2057939356, 1791762.9445651, 1793762.9445651)\n",
      "Processing tile:  41\n",
      "Tile extent (minX, maxX, minY, maxY) : (-49353.2057939356, -47353.2057939356, 1793762.9445651, 1795762.9445651)\n",
      "Number of segments interseting with the tile:  3\n"
     ]
    },
    {
     "name": "stderr",
     "output_type": "stream",
     "text": [
      "E:\\CUAHSI_SI/training/source\\fldpln_library.py:198: FutureWarning: The provided callable <built-in function min> is currently using SeriesGroupBy.min. In a future version of pandas, the provided callable will be used directly. To keep current behavior pass the string \"min\" instead.\n",
      "  fspDf = tdf.groupby(['FspId'], as_index=False).agg(MinDtf = ('Dtf', min),MaxDtf = ('Dtf', max))\n",
      "E:\\CUAHSI_SI/training/source\\fldpln_library.py:198: FutureWarning: The provided callable <built-in function max> is currently using SeriesGroupBy.max. In a future version of pandas, the provided callable will be used directly. To keep current behavior pass the string \"max\" instead.\n",
      "  fspDf = tdf.groupby(['FspId'], as_index=False).agg(MinDtf = ('Dtf', min),MaxDtf = ('Dtf', max))\n"
     ]
    },
    {
     "name": "stdout",
     "output_type": "stream",
     "text": [
      "Total number of FSP-FPP relations in the tile: 114054\n",
      "Saving FSP-FPP relations in a file...\n",
      "Number of unique FSPs in the tile: 99\n",
      "Tile FSP extent (fspMinX,fspMaxX,fspMinY,fspMaxY):  (-50783.2057939356, -47973.2057939356, 1792812.9445651, 1794352.9445651)\n",
      "Tile FPP extent (fppMinX,fppMaxX,fppMinY,fppMaxY):  (-49353.2057939356, -47353.2057939356, 1793762.9445651, 1795762.9445651)\n",
      "Processing tile:  42\n",
      "Tile extent (minX, maxX, minY, maxY) : (-49353.2057939356, -47353.2057939356, 1795762.9445651, 1797762.9445651)\n",
      "Number of segments interseting with the tile:  3\n"
     ]
    },
    {
     "name": "stderr",
     "output_type": "stream",
     "text": [
      "E:\\CUAHSI_SI/training/source\\fldpln_library.py:198: FutureWarning: The provided callable <built-in function min> is currently using SeriesGroupBy.min. In a future version of pandas, the provided callable will be used directly. To keep current behavior pass the string \"min\" instead.\n",
      "  fspDf = tdf.groupby(['FspId'], as_index=False).agg(MinDtf = ('Dtf', min),MaxDtf = ('Dtf', max))\n",
      "E:\\CUAHSI_SI/training/source\\fldpln_library.py:198: FutureWarning: The provided callable <built-in function max> is currently using SeriesGroupBy.max. In a future version of pandas, the provided callable will be used directly. To keep current behavior pass the string \"max\" instead.\n",
      "  fspDf = tdf.groupby(['FspId'], as_index=False).agg(MinDtf = ('Dtf', min),MaxDtf = ('Dtf', max))\n"
     ]
    },
    {
     "name": "stdout",
     "output_type": "stream",
     "text": [
      "Total number of FSP-FPP relations in the tile: 30470\n",
      "Saving FSP-FPP relations in a file...\n",
      "Number of unique FSPs in the tile: 3\n",
      "Tile FSP extent (fspMinX,fspMaxX,fspMinY,fspMaxY):  (-50783.2057939356, -48293.2057939356, 1793442.9445651, 1794262.9445651)\n",
      "Tile FPP extent (fppMinX,fppMaxX,fppMinY,fppMaxY):  (-49353.2057939356, -47773.2057939356, 1795762.9445651, 1796622.9445651)\n",
      "Processing tile:  43\n",
      "Tile extent (minX, maxX, minY, maxY) : (-49353.2057939356, -47353.2057939356, 1797762.9445651, 1799762.9445651)\n",
      "Number of segments interseting with the tile:  0\n",
      "Total number of FSP-FPP relations in the tile: 0\n",
      "Processing tile:  43\n",
      "Tile extent (minX, maxX, minY, maxY) : (-49353.2057939356, -47353.2057939356, 1799762.9445651, 1801762.9445651)\n",
      "Number of segments interseting with the tile:  0\n",
      "Total number of FSP-FPP relations in the tile: 0\n",
      "Processing tile:  43\n",
      "Tile extent (minX, maxX, minY, maxY) : (-49353.2057939356, -47353.2057939356, 1801762.9445651, 1803762.9445651)\n",
      "Number of segments interseting with the tile:  0\n",
      "Total number of FSP-FPP relations in the tile: 0\n",
      "Processing tile:  43\n",
      "Tile extent (minX, maxX, minY, maxY) : (-47353.2057939356, -45353.2057939356, 1783762.9445651, 1785762.9445651)\n",
      "Number of segments interseting with the tile:  1\n",
      "Total number of FSP-FPP relations in the tile: 0\n",
      "Processing tile:  43\n",
      "Tile extent (minX, maxX, minY, maxY) : (-47353.2057939356, -45353.2057939356, 1785762.9445651, 1787762.9445651)\n",
      "Number of segments interseting with the tile:  3\n"
     ]
    },
    {
     "name": "stderr",
     "output_type": "stream",
     "text": [
      "E:\\CUAHSI_SI/training/source\\fldpln_library.py:198: FutureWarning: The provided callable <built-in function min> is currently using SeriesGroupBy.min. In a future version of pandas, the provided callable will be used directly. To keep current behavior pass the string \"min\" instead.\n",
      "  fspDf = tdf.groupby(['FspId'], as_index=False).agg(MinDtf = ('Dtf', min),MaxDtf = ('Dtf', max))\n",
      "E:\\CUAHSI_SI/training/source\\fldpln_library.py:198: FutureWarning: The provided callable <built-in function max> is currently using SeriesGroupBy.max. In a future version of pandas, the provided callable will be used directly. To keep current behavior pass the string \"max\" instead.\n",
      "  fspDf = tdf.groupby(['FspId'], as_index=False).agg(MinDtf = ('Dtf', min),MaxDtf = ('Dtf', max))\n"
     ]
    },
    {
     "name": "stdout",
     "output_type": "stream",
     "text": [
      "Total number of FSP-FPP relations in the tile: 0\n",
      "Processing tile:  43\n",
      "Tile extent (minX, maxX, minY, maxY) : (-47353.2057939356, -45353.2057939356, 1787762.9445651, 1789762.9445651)\n",
      "Number of segments interseting with the tile:  3\n",
      "Total number of FSP-FPP relations in the tile: 0\n",
      "Processing tile:  43\n",
      "Tile extent (minX, maxX, minY, maxY) : (-47353.2057939356, -45353.2057939356, 1789762.9445651, 1791762.9445651)\n",
      "Number of segments interseting with the tile:  3\n",
      "Total number of FSP-FPP relations in the tile: 0\n",
      "Processing tile:  43\n",
      "Tile extent (minX, maxX, minY, maxY) : (-47353.2057939356, -45353.2057939356, 1791762.9445651, 1793762.9445651)\n",
      "Number of segments interseting with the tile:  3\n",
      "Total number of FSP-FPP relations in the tile: 0\n",
      "Processing tile:  43\n",
      "Tile extent (minX, maxX, minY, maxY) : (-47353.2057939356, -45353.2057939356, 1793762.9445651, 1795762.9445651)\n",
      "Number of segments interseting with the tile:  3\n",
      "Total number of FSP-FPP relations in the tile: 71468\n",
      "Saving FSP-FPP relations in a file...\n",
      "Number of unique FSPs in the tile: 6\n",
      "Tile FSP extent (fspMinX,fspMaxX,fspMinY,fspMaxY):  (-50783.2057939356, -47973.2057939356, 1792812.9445651, 1794262.9445651)\n",
      "Tile FPP extent (fppMinX,fppMaxX,fppMinY,fppMaxY):  (-47353.2057939356, -45353.2057939356, 1794012.9445651, 1795762.9445651)\n",
      "Processing tile:  44\n",
      "Tile extent (minX, maxX, minY, maxY) : (-47353.2057939356, -45353.2057939356, 1795762.9445651, 1797762.9445651)\n",
      "Number of segments interseting with the tile:  3\n"
     ]
    },
    {
     "name": "stderr",
     "output_type": "stream",
     "text": [
      "E:\\CUAHSI_SI/training/source\\fldpln_library.py:198: FutureWarning: The provided callable <built-in function min> is currently using SeriesGroupBy.min. In a future version of pandas, the provided callable will be used directly. To keep current behavior pass the string \"min\" instead.\n",
      "  fspDf = tdf.groupby(['FspId'], as_index=False).agg(MinDtf = ('Dtf', min),MaxDtf = ('Dtf', max))\n",
      "E:\\CUAHSI_SI/training/source\\fldpln_library.py:198: FutureWarning: The provided callable <built-in function max> is currently using SeriesGroupBy.max. In a future version of pandas, the provided callable will be used directly. To keep current behavior pass the string \"max\" instead.\n",
      "  fspDf = tdf.groupby(['FspId'], as_index=False).agg(MinDtf = ('Dtf', min),MaxDtf = ('Dtf', max))\n"
     ]
    },
    {
     "name": "stdout",
     "output_type": "stream",
     "text": [
      "Total number of FSP-FPP relations in the tile: 10142\n",
      "Saving FSP-FPP relations in a file...\n",
      "Number of unique FSPs in the tile: 4\n",
      "Tile FSP extent (fspMinX,fspMaxX,fspMinY,fspMaxY):  (-50663.2057939356, -47973.2057939356, 1792812.9445651, 1794262.9445651)\n",
      "Tile FPP extent (fppMinX,fppMaxX,fppMinY,fppMaxY):  (-46623.2057939356, -45353.2057939356, 1795762.9445651, 1796822.9445651)\n",
      "Processing tile:  45\n",
      "Tile extent (minX, maxX, minY, maxY) : (-47353.2057939356, -45353.2057939356, 1797762.9445651, 1799762.9445651)\n",
      "Number of segments interseting with the tile:  0\n",
      "Total number of FSP-FPP relations in the tile: 0\n",
      "Processing tile:  45\n",
      "Tile extent (minX, maxX, minY, maxY) : (-47353.2057939356, -45353.2057939356, 1799762.9445651, 1801762.9445651)\n",
      "Number of segments interseting with the tile:  0\n",
      "Total number of FSP-FPP relations in the tile: 0\n",
      "Processing tile:  45\n",
      "Tile extent (minX, maxX, minY, maxY) : (-47353.2057939356, -45353.2057939356, 1801762.9445651, 1803762.9445651)\n",
      "Number of segments interseting with the tile:  0\n",
      "Total number of FSP-FPP relations in the tile: 0\n",
      "Processing tile:  45\n",
      "Tile extent (minX, maxX, minY, maxY) : (-45353.2057939356, -43353.2057939356, 1783762.9445651, 1785762.9445651)\n",
      "Number of segments interseting with the tile:  1\n",
      "Total number of FSP-FPP relations in the tile: 0\n",
      "Processing tile:  45\n",
      "Tile extent (minX, maxX, minY, maxY) : (-45353.2057939356, -43353.2057939356, 1785762.9445651, 1787762.9445651)\n",
      "Number of segments interseting with the tile:  3\n"
     ]
    },
    {
     "name": "stderr",
     "output_type": "stream",
     "text": [
      "E:\\CUAHSI_SI/training/source\\fldpln_library.py:198: FutureWarning: The provided callable <built-in function min> is currently using SeriesGroupBy.min. In a future version of pandas, the provided callable will be used directly. To keep current behavior pass the string \"min\" instead.\n",
      "  fspDf = tdf.groupby(['FspId'], as_index=False).agg(MinDtf = ('Dtf', min),MaxDtf = ('Dtf', max))\n",
      "E:\\CUAHSI_SI/training/source\\fldpln_library.py:198: FutureWarning: The provided callable <built-in function max> is currently using SeriesGroupBy.max. In a future version of pandas, the provided callable will be used directly. To keep current behavior pass the string \"max\" instead.\n",
      "  fspDf = tdf.groupby(['FspId'], as_index=False).agg(MinDtf = ('Dtf', min),MaxDtf = ('Dtf', max))\n"
     ]
    },
    {
     "name": "stdout",
     "output_type": "stream",
     "text": [
      "Total number of FSP-FPP relations in the tile: 0\n",
      "Processing tile:  45\n",
      "Tile extent (minX, maxX, minY, maxY) : (-45353.2057939356, -43353.2057939356, 1787762.9445651, 1789762.9445651)\n",
      "Number of segments interseting with the tile:  3\n",
      "Total number of FSP-FPP relations in the tile: 0\n",
      "Processing tile:  45\n",
      "Tile extent (minX, maxX, minY, maxY) : (-45353.2057939356, -43353.2057939356, 1789762.9445651, 1791762.9445651)\n",
      "Number of segments interseting with the tile:  3\n",
      "Total number of FSP-FPP relations in the tile: 0\n",
      "Processing tile:  45\n",
      "Tile extent (minX, maxX, minY, maxY) : (-45353.2057939356, -43353.2057939356, 1791762.9445651, 1793762.9445651)\n",
      "Number of segments interseting with the tile:  3\n",
      "Total number of FSP-FPP relations in the tile: 6932\n",
      "Saving FSP-FPP relations in a file...\n"
     ]
    },
    {
     "name": "stderr",
     "output_type": "stream",
     "text": [
      "E:\\CUAHSI_SI/training/source\\fldpln_library.py:198: FutureWarning: The provided callable <built-in function min> is currently using SeriesGroupBy.min. In a future version of pandas, the provided callable will be used directly. To keep current behavior pass the string \"min\" instead.\n",
      "  fspDf = tdf.groupby(['FspId'], as_index=False).agg(MinDtf = ('Dtf', min),MaxDtf = ('Dtf', max))\n",
      "E:\\CUAHSI_SI/training/source\\fldpln_library.py:198: FutureWarning: The provided callable <built-in function max> is currently using SeriesGroupBy.max. In a future version of pandas, the provided callable will be used directly. To keep current behavior pass the string \"max\" instead.\n",
      "  fspDf = tdf.groupby(['FspId'], as_index=False).agg(MinDtf = ('Dtf', min),MaxDtf = ('Dtf', max))\n"
     ]
    },
    {
     "name": "stdout",
     "output_type": "stream",
     "text": [
      "Number of unique FSPs in the tile: 3\n",
      "Tile FSP extent (fspMinX,fspMaxX,fspMinY,fspMaxY):  (-50663.2057939356, -47973.2057939356, 1792812.9445651, 1793932.9445651)\n",
      "Tile FPP extent (fppMinX,fppMaxX,fppMinY,fppMaxY):  (-44373.2057939356, -43353.2057939356, 1793132.9445651, 1793762.9445651)\n",
      "Processing tile:  46\n",
      "Tile extent (minX, maxX, minY, maxY) : (-45353.2057939356, -43353.2057939356, 1793762.9445651, 1795762.9445651)\n",
      "Number of segments interseting with the tile:  3\n",
      "Total number of FSP-FPP relations in the tile: 111486\n",
      "Saving FSP-FPP relations in a file...\n",
      "Number of unique FSPs in the tile: 3\n",
      "Tile FSP extent (fspMinX,fspMaxX,fspMinY,fspMaxY):  (-50663.2057939356, -47973.2057939356, 1792812.9445651, 1793932.9445651)\n",
      "Tile FPP extent (fppMinX,fppMaxX,fppMinY,fppMaxY):  (-45353.2057939356, -43353.2057939356, 1793762.9445651, 1795762.9445651)\n",
      "Processing tile:  47\n",
      "Tile extent (minX, maxX, minY, maxY) : (-45353.2057939356, -43353.2057939356, 1795762.9445651, 1797762.9445651)\n",
      "Number of segments interseting with the tile:  3\n"
     ]
    },
    {
     "name": "stderr",
     "output_type": "stream",
     "text": [
      "E:\\CUAHSI_SI/training/source\\fldpln_library.py:198: FutureWarning: The provided callable <built-in function min> is currently using SeriesGroupBy.min. In a future version of pandas, the provided callable will be used directly. To keep current behavior pass the string \"min\" instead.\n",
      "  fspDf = tdf.groupby(['FspId'], as_index=False).agg(MinDtf = ('Dtf', min),MaxDtf = ('Dtf', max))\n",
      "E:\\CUAHSI_SI/training/source\\fldpln_library.py:198: FutureWarning: The provided callable <built-in function max> is currently using SeriesGroupBy.max. In a future version of pandas, the provided callable will be used directly. To keep current behavior pass the string \"max\" instead.\n",
      "  fspDf = tdf.groupby(['FspId'], as_index=False).agg(MinDtf = ('Dtf', min),MaxDtf = ('Dtf', max))\n"
     ]
    },
    {
     "name": "stdout",
     "output_type": "stream",
     "text": [
      "Total number of FSP-FPP relations in the tile: 54722\n",
      "Saving FSP-FPP relations in a file...\n",
      "Number of unique FSPs in the tile: 3\n",
      "Tile FSP extent (fspMinX,fspMaxX,fspMinY,fspMaxY):  (-50663.2057939356, -47973.2057939356, 1792812.9445651, 1793932.9445651)\n",
      "Tile FPP extent (fppMinX,fppMaxX,fppMinY,fppMaxY):  (-45353.2057939356, -43353.2057939356, 1795762.9445651, 1797402.9445651)\n",
      "Processing tile:  48\n",
      "Tile extent (minX, maxX, minY, maxY) : (-45353.2057939356, -43353.2057939356, 1797762.9445651, 1799762.9445651)\n",
      "Number of segments interseting with the tile:  0\n",
      "Total number of FSP-FPP relations in the tile: 0\n",
      "Processing tile:  48\n",
      "Tile extent (minX, maxX, minY, maxY) : (-45353.2057939356, -43353.2057939356, 1799762.9445651, 1801762.9445651)\n",
      "Number of segments interseting with the tile:  0\n",
      "Total number of FSP-FPP relations in the tile: 0\n",
      "Processing tile:  48\n",
      "Tile extent (minX, maxX, minY, maxY) : (-45353.2057939356, -43353.2057939356, 1801762.9445651, 1803762.9445651)\n",
      "Number of segments interseting with the tile:  0\n",
      "Total number of FSP-FPP relations in the tile: 0\n",
      "Processing tile:  48\n",
      "Tile extent (minX, maxX, minY, maxY) : (-43353.2057939356, -41353.2057939356, 1783762.9445651, 1785762.9445651)\n",
      "Number of segments interseting with the tile:  1\n",
      "Total number of FSP-FPP relations in the tile: 0\n",
      "Processing tile:  48\n",
      "Tile extent (minX, maxX, minY, maxY) : (-43353.2057939356, -41353.2057939356, 1785762.9445651, 1787762.9445651)\n",
      "Number of segments interseting with the tile:  3\n"
     ]
    },
    {
     "name": "stderr",
     "output_type": "stream",
     "text": [
      "E:\\CUAHSI_SI/training/source\\fldpln_library.py:198: FutureWarning: The provided callable <built-in function min> is currently using SeriesGroupBy.min. In a future version of pandas, the provided callable will be used directly. To keep current behavior pass the string \"min\" instead.\n",
      "  fspDf = tdf.groupby(['FspId'], as_index=False).agg(MinDtf = ('Dtf', min),MaxDtf = ('Dtf', max))\n",
      "E:\\CUAHSI_SI/training/source\\fldpln_library.py:198: FutureWarning: The provided callable <built-in function max> is currently using SeriesGroupBy.max. In a future version of pandas, the provided callable will be used directly. To keep current behavior pass the string \"max\" instead.\n",
      "  fspDf = tdf.groupby(['FspId'], as_index=False).agg(MinDtf = ('Dtf', min),MaxDtf = ('Dtf', max))\n"
     ]
    },
    {
     "name": "stdout",
     "output_type": "stream",
     "text": [
      "Total number of FSP-FPP relations in the tile: 0\n",
      "Processing tile:  48\n",
      "Tile extent (minX, maxX, minY, maxY) : (-43353.2057939356, -41353.2057939356, 1787762.9445651, 1789762.9445651)\n",
      "Number of segments interseting with the tile:  3\n",
      "Total number of FSP-FPP relations in the tile: 0\n",
      "Processing tile:  48\n",
      "Tile extent (minX, maxX, minY, maxY) : (-43353.2057939356, -41353.2057939356, 1789762.9445651, 1791762.9445651)\n",
      "Number of segments interseting with the tile:  3\n",
      "Total number of FSP-FPP relations in the tile: 0\n",
      "Processing tile:  48\n",
      "Tile extent (minX, maxX, minY, maxY) : (-43353.2057939356, -41353.2057939356, 1791762.9445651, 1793762.9445651)\n",
      "Number of segments interseting with the tile:  3\n",
      "Total number of FSP-FPP relations in the tile: 34241\n",
      "Saving FSP-FPP relations in a file...\n"
     ]
    },
    {
     "name": "stderr",
     "output_type": "stream",
     "text": [
      "E:\\CUAHSI_SI/training/source\\fldpln_library.py:198: FutureWarning: The provided callable <built-in function min> is currently using SeriesGroupBy.min. In a future version of pandas, the provided callable will be used directly. To keep current behavior pass the string \"min\" instead.\n",
      "  fspDf = tdf.groupby(['FspId'], as_index=False).agg(MinDtf = ('Dtf', min),MaxDtf = ('Dtf', max))\n",
      "E:\\CUAHSI_SI/training/source\\fldpln_library.py:198: FutureWarning: The provided callable <built-in function max> is currently using SeriesGroupBy.max. In a future version of pandas, the provided callable will be used directly. To keep current behavior pass the string \"max\" instead.\n",
      "  fspDf = tdf.groupby(['FspId'], as_index=False).agg(MinDtf = ('Dtf', min),MaxDtf = ('Dtf', max))\n"
     ]
    },
    {
     "name": "stdout",
     "output_type": "stream",
     "text": [
      "Number of unique FSPs in the tile: 3\n",
      "Tile FSP extent (fspMinX,fspMaxX,fspMinY,fspMaxY):  (-50663.2057939356, -47973.2057939356, 1792812.9445651, 1793932.9445651)\n",
      "Tile FPP extent (fppMinX,fppMaxX,fppMinY,fppMaxY):  (-43353.2057939356, -41353.2057939356, 1792072.9445651, 1793762.9445651)\n",
      "Processing tile:  49\n",
      "Tile extent (minX, maxX, minY, maxY) : (-43353.2057939356, -41353.2057939356, 1793762.9445651, 1795762.9445651)\n",
      "Number of segments interseting with the tile:  3\n",
      "Total number of FSP-FPP relations in the tile: 119864\n",
      "Saving FSP-FPP relations in a file...\n",
      "Number of unique FSPs in the tile: 3\n",
      "Tile FSP extent (fspMinX,fspMaxX,fspMinY,fspMaxY):  (-50663.2057939356, -47973.2057939356, 1792812.9445651, 1793932.9445651)\n",
      "Tile FPP extent (fppMinX,fppMaxX,fppMinY,fppMaxY):  (-43353.2057939356, -41353.2057939356, 1793762.9445651, 1795762.9445651)\n",
      "Processing tile:  50\n",
      "Tile extent (minX, maxX, minY, maxY) : (-43353.2057939356, -41353.2057939356, 1795762.9445651, 1797762.9445651)\n",
      "Number of segments interseting with the tile:  3\n"
     ]
    },
    {
     "name": "stderr",
     "output_type": "stream",
     "text": [
      "E:\\CUAHSI_SI/training/source\\fldpln_library.py:198: FutureWarning: The provided callable <built-in function min> is currently using SeriesGroupBy.min. In a future version of pandas, the provided callable will be used directly. To keep current behavior pass the string \"min\" instead.\n",
      "  fspDf = tdf.groupby(['FspId'], as_index=False).agg(MinDtf = ('Dtf', min),MaxDtf = ('Dtf', max))\n",
      "E:\\CUAHSI_SI/training/source\\fldpln_library.py:198: FutureWarning: The provided callable <built-in function max> is currently using SeriesGroupBy.max. In a future version of pandas, the provided callable will be used directly. To keep current behavior pass the string \"max\" instead.\n",
      "  fspDf = tdf.groupby(['FspId'], as_index=False).agg(MinDtf = ('Dtf', min),MaxDtf = ('Dtf', max))\n"
     ]
    },
    {
     "name": "stdout",
     "output_type": "stream",
     "text": [
      "Total number of FSP-FPP relations in the tile: 90628\n",
      "Saving FSP-FPP relations in a file...\n",
      "Number of unique FSPs in the tile: 3\n",
      "Tile FSP extent (fspMinX,fspMaxX,fspMinY,fspMaxY):  (-50663.2057939356, -47973.2057939356, 1792812.9445651, 1793932.9445651)\n",
      "Tile FPP extent (fppMinX,fppMaxX,fppMinY,fppMaxY):  (-43353.2057939356, -41353.2057939356, 1795762.9445651, 1797652.9445651)\n",
      "Processing tile:  51\n",
      "Tile extent (minX, maxX, minY, maxY) : (-43353.2057939356, -41353.2057939356, 1797762.9445651, 1799762.9445651)\n",
      "Number of segments interseting with the tile:  0\n",
      "Total number of FSP-FPP relations in the tile: 0\n",
      "Processing tile:  51\n",
      "Tile extent (minX, maxX, minY, maxY) : (-43353.2057939356, -41353.2057939356, 1799762.9445651, 1801762.9445651)\n",
      "Number of segments interseting with the tile:  0\n",
      "Total number of FSP-FPP relations in the tile: 0\n",
      "Processing tile:  51\n",
      "Tile extent (minX, maxX, minY, maxY) : (-43353.2057939356, -41353.2057939356, 1801762.9445651, 1803762.9445651)\n",
      "Number of segments interseting with the tile:  0\n",
      "Total number of FSP-FPP relations in the tile: 0\n",
      "Processing tile:  51\n",
      "Tile extent (minX, maxX, minY, maxY) : (-41353.2057939356, -39353.2057939356, 1783762.9445651, 1785762.9445651)\n",
      "Number of segments interseting with the tile:  1\n",
      "Total number of FSP-FPP relations in the tile: 0\n",
      "Processing tile:  51\n",
      "Tile extent (minX, maxX, minY, maxY) : (-41353.2057939356, -39353.2057939356, 1785762.9445651, 1787762.9445651)\n",
      "Number of segments interseting with the tile:  3\n"
     ]
    },
    {
     "name": "stderr",
     "output_type": "stream",
     "text": [
      "E:\\CUAHSI_SI/training/source\\fldpln_library.py:198: FutureWarning: The provided callable <built-in function min> is currently using SeriesGroupBy.min. In a future version of pandas, the provided callable will be used directly. To keep current behavior pass the string \"min\" instead.\n",
      "  fspDf = tdf.groupby(['FspId'], as_index=False).agg(MinDtf = ('Dtf', min),MaxDtf = ('Dtf', max))\n",
      "E:\\CUAHSI_SI/training/source\\fldpln_library.py:198: FutureWarning: The provided callable <built-in function max> is currently using SeriesGroupBy.max. In a future version of pandas, the provided callable will be used directly. To keep current behavior pass the string \"max\" instead.\n",
      "  fspDf = tdf.groupby(['FspId'], as_index=False).agg(MinDtf = ('Dtf', min),MaxDtf = ('Dtf', max))\n"
     ]
    },
    {
     "name": "stdout",
     "output_type": "stream",
     "text": [
      "Total number of FSP-FPP relations in the tile: 0\n",
      "Processing tile:  51\n",
      "Tile extent (minX, maxX, minY, maxY) : (-41353.2057939356, -39353.2057939356, 1787762.9445651, 1789762.9445651)\n",
      "Number of segments interseting with the tile:  3\n",
      "Total number of FSP-FPP relations in the tile: 0\n",
      "Processing tile:  51\n",
      "Tile extent (minX, maxX, minY, maxY) : (-41353.2057939356, -39353.2057939356, 1789762.9445651, 1791762.9445651)\n",
      "Number of segments interseting with the tile:  3\n",
      "Total number of FSP-FPP relations in the tile: 0\n",
      "Processing tile:  51\n",
      "Tile extent (minX, maxX, minY, maxY) : (-41353.2057939356, -39353.2057939356, 1791762.9445651, 1793762.9445651)\n",
      "Number of segments interseting with the tile:  3\n",
      "Total number of FSP-FPP relations in the tile: 46639\n",
      "Saving FSP-FPP relations in a file...\n"
     ]
    },
    {
     "name": "stderr",
     "output_type": "stream",
     "text": [
      "E:\\CUAHSI_SI/training/source\\fldpln_library.py:198: FutureWarning: The provided callable <built-in function min> is currently using SeriesGroupBy.min. In a future version of pandas, the provided callable will be used directly. To keep current behavior pass the string \"min\" instead.\n",
      "  fspDf = tdf.groupby(['FspId'], as_index=False).agg(MinDtf = ('Dtf', min),MaxDtf = ('Dtf', max))\n",
      "E:\\CUAHSI_SI/training/source\\fldpln_library.py:198: FutureWarning: The provided callable <built-in function max> is currently using SeriesGroupBy.max. In a future version of pandas, the provided callable will be used directly. To keep current behavior pass the string \"max\" instead.\n",
      "  fspDf = tdf.groupby(['FspId'], as_index=False).agg(MinDtf = ('Dtf', min),MaxDtf = ('Dtf', max))\n"
     ]
    },
    {
     "name": "stdout",
     "output_type": "stream",
     "text": [
      "Number of unique FSPs in the tile: 3\n",
      "Tile FSP extent (fspMinX,fspMaxX,fspMinY,fspMaxY):  (-50663.2057939356, -47973.2057939356, 1792812.9445651, 1793932.9445651)\n",
      "Tile FPP extent (fppMinX,fppMaxX,fppMinY,fppMaxY):  (-41353.2057939356, -39543.2057939356, 1791932.9445651, 1793762.9445651)\n",
      "Processing tile:  52\n",
      "Tile extent (minX, maxX, minY, maxY) : (-41353.2057939356, -39353.2057939356, 1793762.9445651, 1795762.9445651)\n",
      "Number of segments interseting with the tile:  3\n",
      "Total number of FSP-FPP relations in the tile: 78767\n",
      "Saving FSP-FPP relations in a file...\n",
      "Number of unique FSPs in the tile: 3\n",
      "Tile FSP extent (fspMinX,fspMaxX,fspMinY,fspMaxY):  (-50663.2057939356, -47973.2057939356, 1792812.9445651, 1793932.9445651)\n",
      "Tile FPP extent (fppMinX,fppMaxX,fppMinY,fppMaxY):  (-41353.2057939356, -39783.2057939356, 1793762.9445651, 1795762.9445651)\n",
      "Processing tile:  53\n",
      "Tile extent (minX, maxX, minY, maxY) : (-41353.2057939356, -39353.2057939356, 1795762.9445651, 1797762.9445651)\n",
      "Number of segments interseting with the tile:  3\n"
     ]
    },
    {
     "name": "stderr",
     "output_type": "stream",
     "text": [
      "E:\\CUAHSI_SI/training/source\\fldpln_library.py:198: FutureWarning: The provided callable <built-in function min> is currently using SeriesGroupBy.min. In a future version of pandas, the provided callable will be used directly. To keep current behavior pass the string \"min\" instead.\n",
      "  fspDf = tdf.groupby(['FspId'], as_index=False).agg(MinDtf = ('Dtf', min),MaxDtf = ('Dtf', max))\n",
      "E:\\CUAHSI_SI/training/source\\fldpln_library.py:198: FutureWarning: The provided callable <built-in function max> is currently using SeriesGroupBy.max. In a future version of pandas, the provided callable will be used directly. To keep current behavior pass the string \"max\" instead.\n",
      "  fspDf = tdf.groupby(['FspId'], as_index=False).agg(MinDtf = ('Dtf', min),MaxDtf = ('Dtf', max))\n"
     ]
    },
    {
     "name": "stdout",
     "output_type": "stream",
     "text": [
      "Total number of FSP-FPP relations in the tile: 35470\n",
      "Saving FSP-FPP relations in a file...\n",
      "Number of unique FSPs in the tile: 3\n",
      "Tile FSP extent (fspMinX,fspMaxX,fspMinY,fspMaxY):  (-50663.2057939356, -47973.2057939356, 1792812.9445651, 1793932.9445651)\n",
      "Tile FPP extent (fppMinX,fppMaxX,fppMinY,fppMaxY):  (-41353.2057939356, -40233.2057939356, 1795762.9445651, 1797262.9445651)\n",
      "Processing tile:  54\n",
      "Tile extent (minX, maxX, minY, maxY) : (-41353.2057939356, -39353.2057939356, 1797762.9445651, 1799762.9445651)\n",
      "Number of segments interseting with the tile:  0\n",
      "Total number of FSP-FPP relations in the tile: 0\n",
      "Processing tile:  54\n",
      "Tile extent (minX, maxX, minY, maxY) : (-41353.2057939356, -39353.2057939356, 1799762.9445651, 1801762.9445651)\n",
      "Number of segments interseting with the tile:  0\n",
      "Total number of FSP-FPP relations in the tile: 0\n",
      "Processing tile:  54\n",
      "Tile extent (minX, maxX, minY, maxY) : (-41353.2057939356, -39353.2057939356, 1801762.9445651, 1803762.9445651)\n",
      "Number of segments interseting with the tile:  0\n",
      "Total number of FSP-FPP relations in the tile: 0\n",
      "Save fsp-tile index as a CSV file ...\n",
      "Save tile index as a CSV file ...\n"
     ]
    },
    {
     "name": "stderr",
     "output_type": "stream",
     "text": [
      "E:\\CUAHSI_SI/training/source\\fldpln_library.py:198: FutureWarning: The provided callable <built-in function min> is currently using SeriesGroupBy.min. In a future version of pandas, the provided callable will be used directly. To keep current behavior pass the string \"min\" instead.\n",
      "  fspDf = tdf.groupby(['FspId'], as_index=False).agg(MinDtf = ('Dtf', min),MaxDtf = ('Dtf', max))\n",
      "E:\\CUAHSI_SI/training/source\\fldpln_library.py:198: FutureWarning: The provided callable <built-in function max> is currently using SeriesGroupBy.max. In a future version of pandas, the provided callable will be used directly. To keep current behavior pass the string \"max\" instead.\n",
      "  fspDf = tdf.groupby(['FspId'], as_index=False).agg(MinDtf = ('Dtf', min),MaxDtf = ('Dtf', max))\n"
     ]
    }
   ],
   "source": [
    "# Segment-based library\n",
    "segLibFolder = r'E:\\CUAHSI_SI\\training\\examples\\wildcat_10m_3dep'\n",
    "\n",
    "# tiled library folder\n",
    "tiledLibFolder = r'E:\\CUAHSI_SI\\training\\examples\\wildcat_10m_3dep\\tiled_snz_library' \n",
    "\n",
    "# define tile size (number of cells) and format\n",
    "cellSize = 10\n",
    "tileSize = 200 # number of cells\n",
    "tileFileFormat = 'snappy' # 'snappy' or 'mat'\n",
    "\n",
    "# libraries to be tiled. \n",
    "# Note that the tiled libraries will have the same name as the segment-based libraries except they are located under the segFolder!\n",
    "libNames = ['lib_py'] # libs for Wildcat Creek\n",
    "\n",
    "# tile libraries\n",
    "for libName in libNames: \n",
    "    print(f'Tile library: {libName} ...')\n",
    "    TileLibrary(os.path.join(segLibFolder,libName), cellSize, os.path.join(tiledLibFolder,libName),tileSize,tileFileFormat) "
   ]
  },
  {
   "cell_type": "markdown",
   "metadata": {},
   "source": [
    "## Calculate FSP and Segment Downstream Distance\n",
    "\n",
    "Here we calculate downstream distance for the both FSPs and segments for mapping. It involves the following main tasks:\n",
    "* Clean up segments \n",
    "    * It removes segments from the segment table if they are not in the FSP table. \n",
    "    * If a removed segment is the downstream segment of another segment in the segment table, the upstream segment ID is set to 0 (i.e., watershed outlet). \n",
    "    * Those removed segments are usually close to or in waterbodies. By removing those segments, a library may have several separate watersheds/outlets! For example, neosho has 3 separate watersheds (segment 13, 104, 186 as the outlet segments). \n",
    "* Calculate FSP and segment downstream distance (i.e., distance from outlet) using in interpolating FSP depth of water from gauges\n",
    "\n",
    "At the end, this step updates the FSP and segment info CSV files with additional columns. "
   ]
  },
  {
   "cell_type": "code",
   "execution_count": 20,
   "metadata": {},
   "outputs": [],
   "source": [
    "from fldpln_library import *\n",
    "from fldpln import *"
   ]
  },
  {
   "cell_type": "code",
   "execution_count": 21,
   "metadata": {},
   "outputs": [
    {
     "name": "stdout",
     "output_type": "stream",
     "text": [
      "Calculate FSP and segment downstream distance: lib_py ...\n"
     ]
    }
   ],
   "source": [
    "# tiled library folder\n",
    "tiledLibFolder = r'E:\\CUAHSI_SI\\training\\examples\\wildcat_10m_3dep\\tiled_snz_library' \n",
    "\n",
    "# libraries to be tiled. \n",
    "# Note that the tiled libraries will have the same name as the segment-based libraries except they are located under the tiledLibFolder!\n",
    "libNames = ['lib_py'] # libs with different segments and fldmx in Wildcat Creek\n",
    "\n",
    "# Create FSP and segment info files and library meta file (i.e., cell size and spatial reference)\n",
    "for libName in libNames:\n",
    "    print(f'Calculate FSP and segment downstream distance: {libName} ...')\n",
    "    CalculateFspSegmentDownstreamDistance(tiledLibFolder,libName)"
   ]
  },
  {
   "cell_type": "markdown",
   "metadata": {},
   "source": [
    "## Assign Stream Order to FSPs and Segments Manually\n",
    "\n",
    "Stream orders are used while interpolating the depth of flow (DOF) at FSPs where low order streams are handled before high order streams. Currently this is performed in GIS manually by first create the segment shapefiles from the FSP and segment info CSV files. "
   ]
  },
  {
   "cell_type": "markdown",
   "metadata": {},
   "source": [
    "### Generate Segment Shapefile\n",
    "\n",
    "Create a shapefile for manually assigning stream orders to segments in a tiled library. Note that the shapefile gets its CRS from the library metadata file and has all the attributes in the FSP and segment info CSV file."
   ]
  },
  {
   "cell_type": "code",
   "execution_count": 22,
   "metadata": {},
   "outputs": [
    {
     "name": "stdout",
     "output_type": "stream",
     "text": [
      "Generate segment shapefile for libraries ...\n"
     ]
    }
   ],
   "source": [
    "# tiled library folder to generate segment shapefile\n",
    "tiledLibFolder= r'E:\\CUAHSI_SI\\training\\examples\\wildcat_10m_3dep\\tiled_snz_library\\lib_py'\n",
    "\n",
    "# FSP and segment info CSV files\n",
    "segInfoFile = os.path.join(tiledLibFolder,segInfoFileName)\n",
    "fspInfoFile = os.path.join(tiledLibFolder,fspInfoFileName)\n",
    "\n",
    "# Read lib CRS from metadata file\n",
    "metaDataFile = os.path.join(tiledLibFolder,metaDataFileName)\n",
    "with open(metaDataFile,'r') as jf:\n",
    "    md = json.load(jf)\n",
    "srText = md['SpatialReference']\n",
    "libCrs = CRS.from_wkt(srText)\n",
    "\n",
    "# segment shapefile folder\n",
    "# shpFolder = r'D:\\xingong\\Wildcat\\stream_order'\n",
    "shpFolder = tiledLibFolder\n",
    "shpName = \"segments1.shp\"\n",
    "outShpFile =  os.path.join(shpFolder,shpName)\n",
    "\n",
    "# generate segment shapefile \n",
    "print(f'Generate segment shapefile for libraries ...')\n",
    "# GenerateSegmentShapefiles(tiledLibFolder,libNames,shpFolder,shpName)\n",
    "GenerateSegmentShapefilesFromFspSegmentInfoFiles(segInfoFile, fspInfoFile, libCrs, outShpFile)"
   ]
  },
  {
   "cell_type": "markdown",
   "metadata": {
    "jp-MarkdownHeadingCollapsed": true
   },
   "source": [
    "### Assign Stream Orders to Segment Shapefile in GIS\n",
    "\n",
    "Here we assign stream order to shapefile manually in GIS. We need to create a field, say 'StrOrd', in the shapefile and then select segments and assign stream order value to the segmentd.\n",
    "\n",
    "The general rules for assigning stream order are:\n",
    "* A stream (or reach) consists of several connected segments, which may meet with other streams at confluences\n",
    "* Main streams have low orders than tributary streams\n",
    "* Order must be unique to each stream in a library. No two streams can have the same order even if the streams are in different sub-watersheds in the library\n",
    "\n",
    "The above requirements are necessary to make sure the interpolation on DOF can be carried out correctly.\n"
   ]
  },
  {
   "cell_type": "markdown",
   "metadata": {},
   "source": [
    "### Get Stream Order to FSPs and Segments from Segment Shapefile\n",
    "\n",
    "This step gets stream orders from the segment shapefile and add them to the FSP and segment info files. \n",
    "\n",
    "It also creates a new text file, stream_order_info.csv, which stores the connectivity among stream orders with columns: [‘StrOrd’, ‘DsStrOrd’, ‘JunctionFspX’, ‘JunctionFspY’]. This information is used in DOF interpolation."
   ]
  },
  {
   "cell_type": "code",
   "execution_count": 23,
   "metadata": {},
   "outputs": [
    {
     "name": "stdout",
     "output_type": "stream",
     "text": [
      "Get stream order and generate stream order network info for : E:\\CUAHSI_SI\\training\\examples\\wildcat_10m_3dep\\tiled_snz_library\\lib_py ...\n"
     ]
    },
    {
     "name": "stderr",
     "output_type": "stream",
     "text": [
      "E:\\CUAHSI_SI/training/source\\fldpln_library.py:622: FutureWarning: The behavior of DataFrame concatenation with empty or all-NA entries is deprecated. In a future version, this will no longer exclude empty or all-NA columns when determining the result dtypes. To retain the old behavior, exclude the relevant entries before the concat operation.\n",
      "  strOrdDf = pd.concat([strOrdDf, temp],ignore_index=True)\n"
     ]
    },
    {
     "data": {
      "text/plain": [
       "(      FspId          FspX          FspY  SegId  FilledElev        DsDist  \\\n",
       " 0         1 -61658.205794  1.800128e+06      1  342.556946  31350.024510   \n",
       " 1         2 -61648.205794  1.800118e+06      1  342.512115  31335.882374   \n",
       " 2         3 -61648.205794  1.800108e+06      1  342.512115  31325.882374   \n",
       " 3         4 -61638.205794  1.800098e+06      1  342.512115  31311.740239   \n",
       " 4         5 -61628.205794  1.800088e+06      1  342.512115  31297.598103   \n",
       " ...     ...           ...           ...    ...         ...           ...   \n",
       " 2653   2654 -48018.205794  1.792858e+06     16  302.513397     56.568542   \n",
       " 2654   2655 -48008.205794  1.792848e+06     16  302.507172     42.426407   \n",
       " 2655   2656 -47998.205794  1.792838e+06     16  302.501190     28.284271   \n",
       " 2656   2657 -47988.205794  1.792828e+06     16  302.495056     14.142136   \n",
       " 2657   2658 -47978.205794  1.792818e+06     16  302.488861      0.000000   \n",
       " \n",
       "       StrOrd  \n",
       " 0        1.0  \n",
       " 1        1.0  \n",
       " 2        1.0  \n",
       " 3        1.0  \n",
       " 4        1.0  \n",
       " ...      ...  \n",
       " 2653     1.0  \n",
       " 2654     1.0  \n",
       " 2655     1.0  \n",
       " 2656     1.0  \n",
       " 2657     1.0  \n",
       " \n",
       " [2658 rows x 7 columns],\n",
       "     SegId  CellCount  DsSegId    StFac    EdFac       Length        DsDist  \\\n",
       " 0       1         19        2  1474411  1475572   233.847763  31116.176747   \n",
       " 1       2        130        3  1637732  1641273  1509.533188  29592.501423   \n",
       " 2       3        199        4  1652040  1666443  2365.218613  27217.282810   \n",
       " 3       4        265        5  1838599  1895997  3170.193360  24037.089450   \n",
       " 4       5        102        6  2027020  2034823  1192.253967  22830.693347   \n",
       " 5       6         67        7  2115634  2121725   792.548340  22024.002872   \n",
       " 6       7        121        8  2168272  2177010  1436.101731  20573.759005   \n",
       " 7       8        139        9  2192614  2195390  1645.096680  18914.520190   \n",
       " 8       9        285       10  2206187  2245519  3357.766953  15542.611101   \n",
       " 9      10        211       11  2254599  2264266  2402.375901  13126.093065   \n",
       " 10     11         73       12  2275256  2276469   823.553391  12288.397539   \n",
       " 11     12        305       13  2357454  2393773  3574.335495   8704.062043   \n",
       " 12     13        283       14  2423908  2443192  3230.071427   5459.848481   \n",
       " 13     14        135       15  2456200  2472319  1580.243866   3865.462479   \n",
       " 14     15        259       16  2502799  2517796  3068.772004    786.690476   \n",
       " 15     16         65        0  2539699  2540817   776.690476      0.000000   \n",
       " \n",
       "     StrOrd  \n",
       " 0      1.0  \n",
       " 1      1.0  \n",
       " 2      1.0  \n",
       " 3      1.0  \n",
       " 4      1.0  \n",
       " 5      1.0  \n",
       " 6      1.0  \n",
       " 7      1.0  \n",
       " 8      1.0  \n",
       " 9      1.0  \n",
       " 10     1.0  \n",
       " 11     1.0  \n",
       " 12     1.0  \n",
       " 13     1.0  \n",
       " 14     1.0  \n",
       " 15     1.0  ,\n",
       "    StrOrd DsStrOrd JunctionFspX JunctionFspY\n",
       " 0     1.0        0            0            0)"
      ]
     },
     "execution_count": 23,
     "metadata": {},
     "output_type": "execute_result"
    }
   ],
   "source": [
    "# tiled library folder to add stream order\n",
    "tiledLib= r'E:\\CUAHSI_SI\\training\\examples\\wildcat_10m_3dep\\tiled_snz_library\\lib_py'\n",
    "\n",
    "# FSP and segment info CSV files\n",
    "segInfoFile = os.path.join(tiledLib,segInfoFileName)\n",
    "fspInfoFile = os.path.join(tiledLib,fspInfoFileName)\n",
    "\n",
    "# segment shapefile which has the stream order\n",
    "shpFolder = r'E:\\CUAHSI_SI\\training\\examples\\wildcat_10m_3dep\\tiled_snz_library\\lib_py'\n",
    "shpName = \"segments1.shp\"\n",
    "shpOrdColName = 'str_ord'\n",
    "shpFile =  os.path.join(shpFolder,shpName)\n",
    "\n",
    "print(f'Get stream order and generate stream order network info for : {tiledLib} ...')\n",
    "GetStreamOrdersForFspsSegments(tiledLib,shpFile,shpOrdColName)"
   ]
  },
  {
   "cell_type": "markdown",
   "metadata": {},
   "source": [
    "## Assign Stream Order to FSPs and Segments Automatically\n",
    "\n",
    "* This is currently been implemented by Junho @ UA\n",
    "* Stream order should be decided by the length and flow accumulation\n",
    "* The level path approach used in NWC may be used here to automate stream order assignment!"
   ]
  },
  {
   "cell_type": "code",
   "execution_count": null,
   "metadata": {},
   "outputs": [],
   "source": [
    "# Code to automatically assign stream order to segments based on stream length or flow accumulation"
   ]
  },
  {
   "cell_type": "markdown",
   "metadata": {},
   "source": [
    "### Generate Segment Shapefile\n",
    "\n",
    "Here we generate segment shapefile to check automatic stream order assignment."
   ]
  },
  {
   "cell_type": "markdown",
   "metadata": {},
   "source": [
    "## Distribute Tiled Library\n",
    "\n",
    "Now we can make tiled libraries available for flood inundation mapping. This involves:\n",
    "* Zip all the files for each tiled library as a single zip file. The code below can be used to automate this step\n",
    "* Update scripts/package and notebooks\n",
    "* Update example libraries and gauge files\n",
    "\n",
    "All the files can be distributed through KU FTP site. A better option is to distribute libraries at KU server but update the package and examples on GitHub. "
   ]
  },
  {
   "cell_type": "code",
   "execution_count": null,
   "metadata": {},
   "outputs": [],
   "source": [
    "# library folder\n",
    "libFolder = r'D:\\xingong\\fldpln_3dep_vg\\tiled10km_snz_library'\n",
    "# ftp folder\n",
    "ftpFolder =  r'D:\\inetpub\\wwwroot\\download\\fldpln\\libraries\\verdigris_10m'\n",
    "\n",
    "# libraries to zip\n",
    "libNames = ['verdigris']\n",
    "\n",
    "# zip libraries\n",
    "for libName in libNames:\n",
    "    print(f'Zipping library: {libName} ...')\n",
    "    shutil.make_archive(os.path.join(ftpFolder,libName), 'zip', os.path.join(libFolder,libName))"
   ]
  },
  {
   "cell_type": "markdown",
   "metadata": {},
   "source": []
  }
 ],
 "metadata": {
  "kernelspec": {
   "display_name": "Python 3 (ipykernel)",
   "language": "python",
   "name": "python3"
  },
  "language_info": {
   "codemirror_mode": {
    "name": "ipython",
    "version": 3
   },
   "file_extension": ".py",
   "mimetype": "text/x-python",
   "name": "python",
   "nbconvert_exporter": "python",
   "pygments_lexer": "ipython3",
   "version": "3.11.9"
  }
 },
 "nbformat": 4,
 "nbformat_minor": 4
}
