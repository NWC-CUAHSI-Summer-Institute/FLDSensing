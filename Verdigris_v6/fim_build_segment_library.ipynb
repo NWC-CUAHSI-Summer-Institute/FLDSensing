{
 "cells": [
  {
   "cell_type": "markdown",
   "metadata": {},
   "source": [
    "# Build Segment Library\n",
    "\n",
    "With hydro-conditioned DEM, we will identify streams, divide them into segments and create a library for each segment."
   ]
  },
  {
   "cell_type": "markdown",
   "metadata": {},
   "source": [
    "## Import python packages"
   ]
  },
  {
   "cell_type": "code",
   "execution_count": 13,
   "metadata": {},
   "outputs": [],
   "source": [
    "import os\n",
    "\n",
    "# # flnpln library\n",
    "# from fldpln_header import *\n",
    "# from fldpln_library import *\n",
    "\n",
    "import fldpln_py\n",
    "# Import the matlab module only after you have imported MATLAB Compiler SDK generated Python modules.\n",
    "import matlab"
   ]
  },
  {
   "cell_type": "markdown",
   "metadata": {},
   "source": [
    "## Initialize the FLDPLN Python Library\n",
    "\n",
    "Before we can use the FLDPLN model, we must first initialize it. This will activate the MATLAB Runtime and will take a littlle bit of time."
   ]
  },
  {
   "cell_type": "code",
   "execution_count": 14,
   "metadata": {},
   "outputs": [],
   "source": [
    "try:\n",
    "    my_fldpln_py = fldpln_py.initialize()\n",
    "except Exception as e:\n",
    "    print('Error initializing fldpln_py package\\\\n:{}'.format(e))\n",
    "    exit(1)"
   ]
  },
  {
   "cell_type": "markdown",
   "metadata": {},
   "source": [
    "## Generate Segments\n",
    "\n",
    "The first step to create a FLDPLN library is to identify stream networks and create stream segments from a hydro-conditioned digital elevation model (DEM). The stream networks/pixels are first identified using a flow accumulation threshold ('strthr'). The stream networks are first divided into reaches (stream links in ArcGIS term), which are stream segments between headwater and confluence pixels or between two consecutive confluence pixels. Note that pixels flow out of the DEM are treated as confluence pixels in this process. Those natural reaches/segments are further divided based on flow accumulation jumps greater than or equal to 'facthr'. Then the segments are bisected until all segments are no longer than 'seglen'.\n",
    "\n",
    "The default values for the 3 parameters are: 70 sq. miles, 25 sq. miles, and 2 miles for the libraries in KS. Note that Kansas FLDPLN libraries stream networks are more coarse grained than the National Water Model (NWM) reaches. This is because the stream networks are generated just to use available USGS gauges. If the NWM discharge is used for the flood inundation mapping, the stream networks need to be densified.\n",
    "\n",
    "The FSP and segment information are also saved as two CSV files for generating segment shapefile for selecting a subset of segments for build library."
   ]
  },
  {
   "cell_type": "code",
   "execution_count": 18,
   "metadata": {},
   "outputs": [],
   "source": [
    "try:\n",
    "    fdrfIn = \"E:/CUAHSI_SI/VerdigrisRv/projects/verdigris_10m/bil/fdr.bil\"\n",
    "    facfIn = \"E:/CUAHSI_SI/VerdigrisRv/projects/verdigris_10m/bil/fac.bil\"\n",
    "    strfacIn = matlab.double([70], size=(1, 1))\n",
    "    segfacIn = matlab.double([25], size=(1, 1))\n",
    "    seglenIn = matlab.double([2], size=(1, 1))\n",
    "    segdirIn = \"E:/CUAHSI_SI/VerdigrisRv/projects/verdigris_10m/segs_py\"\n",
    "    my_fldpln_py.create_segments(fdrfIn, facfIn, strfacIn, segfacIn, seglenIn, segdirIn, nargout=0)\n",
    "\n",
    "    # write FSP and segment info CSV files\n",
    "    bildirIn = \"E:/CUAHSI_SI/VerdigrisRv/projects/verdigris_10m/bil\"\n",
    "    segdirIn = \"E:/CUAHSI_SI/VerdigrisRv/projects/verdigris_10m/segs_py\"\n",
    "    seg_listIn = matlab.double([], size=(0, 0)) # empty seg_list will use all the segment\n",
    "    # outdirIn = \"E:/fldpln/sites/wildcat_10m_3dep/segs\"\n",
    "    my_fldpln_py.write_fsp_segment_info_files(bildirIn, segdirIn, seg_listIn, segdirIn, nargout=0)\n",
    "    \n",
    "except Exception as e:\n",
    "    print('Error occurred during program execution\\\\n:{}'.format(e))"
   ]
  },
  {
   "cell_type": "markdown",
   "metadata": {
    "jp-MarkdownHeadingCollapsed": true
   },
   "source": [
    "## Generate Segment Shapefile \n",
    "\n",
    "Shapefiles can be created using the FSP and segment info CSV file. The shapefile can then be used in a GIS software to examine and select a sub set of segments to create their libraries. Note that the shapefile gets its CRS from segment BIL raster's .prj file and has all the attributes in the FSP and segment info CSV file."
   ]
  },
  {
   "cell_type": "markdown",
   "metadata": {},
   "source": [
    "Let's first import necessary modules"
   ]
  },
  {
   "cell_type": "code",
   "execution_count": 8,
   "metadata": {},
   "outputs": [
    {
     "ename": "ModuleNotFoundError",
     "evalue": "No module named 'fldpln_header'",
     "output_type": "error",
     "traceback": [
      "\u001b[1;31m---------------------------------------------------------------------------\u001b[0m",
      "\u001b[1;31mModuleNotFoundError\u001b[0m                       Traceback (most recent call last)",
      "Cell \u001b[1;32mIn[8], line 2\u001b[0m\n\u001b[0;32m      1\u001b[0m \u001b[38;5;66;03m# flnpln library\u001b[39;00m\n\u001b[1;32m----> 2\u001b[0m \u001b[38;5;28;01mfrom\u001b[39;00m \u001b[38;5;21;01mfldpln_header\u001b[39;00m \u001b[38;5;28;01mimport\u001b[39;00m \u001b[38;5;241m*\u001b[39m\n\u001b[0;32m      3\u001b[0m \u001b[38;5;28;01mfrom\u001b[39;00m \u001b[38;5;21;01mfldpln_library\u001b[39;00m \u001b[38;5;28;01mimport\u001b[39;00m \u001b[38;5;241m*\u001b[39m\n",
      "\u001b[1;31mModuleNotFoundError\u001b[0m: No module named 'fldpln_header'"
     ]
    }
   ],
   "source": [
    "# flnpln library\n",
    "from fldpln_header import *\n",
    "from fldpln_library import *"
   ]
  },
  {
   "cell_type": "code",
   "execution_count": 9,
   "metadata": {},
   "outputs": [
    {
     "ename": "NameError",
     "evalue": "name 'segInfoFileName' is not defined",
     "output_type": "error",
     "traceback": [
      "\u001b[1;31m---------------------------------------------------------------------------\u001b[0m",
      "\u001b[1;31mNameError\u001b[0m                                 Traceback (most recent call last)",
      "Cell \u001b[1;32mIn[9], line 5\u001b[0m\n\u001b[0;32m      2\u001b[0m segFolder\u001b[38;5;241m=\u001b[39m \u001b[38;5;124mr\u001b[39m\u001b[38;5;124m'\u001b[39m\u001b[38;5;124mE:/fldpln/sites/wildcat_10m_3dep/segs_py\u001b[39m\u001b[38;5;124m'\u001b[39m\n\u001b[0;32m      4\u001b[0m \u001b[38;5;66;03m# FSP and segment info CSV files\u001b[39;00m\n\u001b[1;32m----> 5\u001b[0m segInfoFile \u001b[38;5;241m=\u001b[39m os\u001b[38;5;241m.\u001b[39mpath\u001b[38;5;241m.\u001b[39mjoin(segFolder,\u001b[43msegInfoFileName\u001b[49m)\n\u001b[0;32m      6\u001b[0m fspInfoFile \u001b[38;5;241m=\u001b[39m os\u001b[38;5;241m.\u001b[39mpath\u001b[38;5;241m.\u001b[39mjoin(segFolder,fspInfoFileName)\n\u001b[0;32m      8\u001b[0m \u001b[38;5;66;03m# shapefile name\u001b[39;00m\n",
      "\u001b[1;31mNameError\u001b[0m: name 'segInfoFileName' is not defined"
     ]
    }
   ],
   "source": [
    "# segment BIL folder\n",
    "segFolder= r'E:/fldpln/sites/wildcat_10m_3dep/segs_py'\n",
    "\n",
    "# FSP and segment info CSV files\n",
    "segInfoFile = os.path.join(segFolder,segInfoFileName)\n",
    "fspInfoFile = os.path.join(segFolder,fspInfoFileName)\n",
    "\n",
    "# shapefile name\n",
    "shpName = \"segments.shp\"\n",
    "outShpFile =  os.path.join(segFolder,shpName)\n",
    "\n",
    "# Read CRS from .prj file\n",
    "# read in spatial reference for the library\n",
    "srFile = os.path.join(segFolder,'str_segid.prj')\n",
    "with open(srFile, 'r') as srf:\n",
    "    srText = srf.read()\n",
    "libCrs = CRS.from_wkt(srText)\n",
    "\n",
    "# generate segment shapefile \n",
    "print(f'Generate segment shapefile for libraries ...')\n",
    "GenerateSegmentShapefilesFromFspSegmentInfoFiles(segInfoFile, fspInfoFile, libCrs, outShpFile)"
   ]
  },
  {
   "cell_type": "markdown",
   "metadata": {},
   "source": [
    "Segment shapefile can also be created using the ArcGIS Pro's Stream to Features tool. Note that the Raster to Polyline tool doesn't work properly in some cases. In the figure below, the left stream polyline is generated by the Raster to Polyline tool, and the right stream polyline is generated by the Stream to Feature tool. The left polyline is erroneous. Also note that the Stream to Features tool connects upstream segments at the downstream confluence pixel.\n",
    "\n",
    "![](./stream2feature.PNG)"
   ]
  },
  {
   "cell_type": "markdown",
   "metadata": {},
   "source": [
    "## Examine and Select Segments\n",
    "\n",
    "Using the shapefiles in a GIS, we can take a close look on the segments. We may delete some segments in large waterbodies (e.g., lakes) and just select a subset of segment to build their library. In ArcGIS Pro, we can simply export the selected segments as a CSV file. This file can be used as one of the inputs to build segment library. Make sure that the first column is the segment ID."
   ]
  },
  {
   "cell_type": "markdown",
   "metadata": {},
   "source": [
    "## Create Segment Library"
   ]
  },
  {
   "cell_type": "markdown",
   "metadata": {},
   "source": [
    "With the segments identified, we can create the library for each of them or a subset of selected segments. **Note that this is the most time consuming step in building FLDPLN libraries, especially the max stage modelded is high.**"
   ]
  },
  {
   "cell_type": "markdown",
   "metadata": {},
   "source": [
    "### Create a library for selected segments\n",
    "\n",
    "With the segment shapefiles, we can select the subset of segments for the Wildcat Creek (sgement IDs from 1 to 16) to create a library. The selected segments can be exported as CSV file (wildcat_creek_segments.csv) in GIS. The first column in the file is assumed as segment IDs. Note that the CSV has a header row.\n",
    "\n",
    "All the selected segments have the same max. flood stage as specified by mxht. We can also add a second column to the CSV file to specify different max. flood stages for different segment."
   ]
  },
  {
   "cell_type": "code",
   "execution_count": 10,
   "metadata": {},
   "outputs": [],
   "source": [
    "try:\n",
    "    bildirIn = \"E:/CUAHSI_SI/training/examples/wildcat_10m_3dep/bil\"\n",
    "    segdirIn = \"E:/CUAHSI_SI/training/examples/wildcat_10m_3dep/segs_py\"\n",
    "    segfileIn = \"E:/CUAHSI_SI/training/examples/wildcat_10m_3dep/segs_py/segment_clip.csv\" #Important to generate this .csv\n",
    "    fldmnIn = matlab.double([0.01], size=(1, 1))\n",
    "    fldmxIn = matlab.double([12], size=(1, 1)) #THIS IS THE MOST IMPORTANT PARAMETER FOR DEFINING FLOOD ELEVATION CONDITIONS\n",
    "    dhIn = matlab.double([1], size=(1, 1))\n",
    "    mxhtIn = matlab.double([0], size=(1, 1)) \n",
    "    libdirIn = \"E:/CUAHSI_SI/training/examples/wildcat_10m_3dep/seglib_py\"\n",
    "    mtypeIn = \"ram\"\n",
    "    paraIn = {\"type\": \"parfeval\"}\n",
    "    my_fldpln_py.create_segment_library_v6(bildirIn, segdirIn, segfileIn, fldmnIn, fldmxIn, dhIn, mxhtIn, libdirIn, mtypeIn, paraIn, nargout=0)\n",
    "except Exception as e:\n",
    "    print('Error occurred during program execution\\\\n:{}'.format(e))"
   ]
  },
  {
   "cell_type": "markdown",
   "metadata": {
    "jp-MarkdownHeadingCollapsed": true
   },
   "source": [
    "### Create a library for all the segments\n",
    "\n",
    "We can set the segment file (segfileIn) as empty (i.e., \"\") and the library will be created using the maximum stage for all the segments."
   ]
  },
  {
   "cell_type": "code",
   "execution_count": null,
   "metadata": {},
   "outputs": [],
   "source": [
    "try:\n",
    "    bildirIn = \"E:/fldpln/sites/wildcat_10m_3dep/bil\"\n",
    "    segdirIn = \"E:/fldpln/sites/wildcat_10m_3dep/segs_py\"\n",
    "    segfileIn = \"\"\n",
    "    fldmnIn = matlab.double([0.01], size=(1, 1))\n",
    "    fldmxIn = matlab.double([15], size=(1, 1))\n",
    "    dhIn = matlab.double([1], size=(1, 1))\n",
    "    mxhtIn = matlab.double([0], size=(1, 1))\n",
    "    libdirIn = \"E:/fldpln/sites/wildcat_10m_3dep/seglib_all_py\"\n",
    "    mtypeIn = \"ram\"\n",
    "    paraIn = {\"type\": \"parfeval\"}\n",
    "    my_fldpln_py.create_segment_library_v6(bildirIn, segdirIn, segfileIn, fldmnIn, fldmxIn, dhIn, mxhtIn, libdirIn, mtypeIn, paraIn, nargout=0)\n",
    "except Exception as e:\n",
    "    print('Error occurred during program execution\\\\n:{}'.format(e))"
   ]
  },
  {
   "cell_type": "markdown",
   "metadata": {},
   "source": [
    "### Work with Existing Library\n",
    "\n",
    "If segment libraies already exist and if the specified fldmx is lower than the existing library’s max. stage, the model simply generates the new library with existing information and DOES NOT re-run the model. \n",
    "\n",
    "If the specified fldmx is higher than the existing library’s max. stage, the model continues from the existing library without starting from the scratch.\n",
    "\n",
    "Note that the model creates the new segment libraries  under the SAME folder where the existing libraries reside."
   ]
  },
  {
   "cell_type": "code",
   "execution_count": null,
   "metadata": {},
   "outputs": [],
   "source": [
    "try:\n",
    "    bildirIn = \"E:/fldpln/sites/wildcat_10m_3dep/bil\"\n",
    "    segdirIn = \"E:/fldpln/sites/wildcat_10m_3dep/segs_py\"\n",
    "    segfileIn = \"E:/fldpln/sites/wildcat_10m_3dep/segs_py/sub_segs_fldmxs_changed.xlsx\" # some segments have higher fldmx and others have lower fldmx than the existing libraries\n",
    "    fldmnIn = matlab.double([0.01], size=(1, 1))\n",
    "    fldmxIn = matlab.double([15], size=(1, 1))\n",
    "    dhIn = matlab.double([1], size=(1, 1))\n",
    "    mxhtIn = matlab.double([0], size=(1, 1))\n",
    "    libdirIn = \"E:/fldpln/sites/wildcat_10m/seglib_test_py\"\n",
    "    mtypeIn = \"ram\"\n",
    "    paraIn = {\"type\": \"parfeval\"}\n",
    "    my_fldpln_py.create_segment_library_v6(bildirIn, segdirIn, segfileIn, fldmnIn, fldmxIn, dhIn, mxhtIn, libdirIn, mtypeIn, paraIn, nargout=0)\n",
    "except Exception as e:\n",
    "    print('Error occurred during program execution\\\\n:{}'.format(e))"
   ]
  },
  {
   "cell_type": "markdown",
   "metadata": {},
   "source": [
    "## Format Segment Library for Tiling"
   ]
  },
  {
   "cell_type": "code",
   "execution_count": 11,
   "metadata": {},
   "outputs": [],
   "source": [
    "try:\n",
    "    bildirIn = \"E:/CUAHSI_SI/training/examples/wildcat_10m_3dep/bil\"\n",
    "    segdirIn = \"E:/CUAHSI_SI/training/examples/wildcat_10m_3dep/segs_py\"\n",
    "    libdirIn = \"E:/CUAHSI_SI/training/examples/wildcat_10m_3dep/seglib_py\"\n",
    "    diroutIn = \"E:/CUAHSI_SI/training/examples/wildcat_10m_3dep/lib_py\"\n",
    "    my_fldpln_py.format_segment_library(bildirIn, segdirIn, libdirIn, diroutIn, nargout=0)\n",
    "except Exception as e:\n",
    "    print('Error occurred during program execution\\\\n:{}'.format(e))"
   ]
  },
  {
   "cell_type": "markdown",
   "metadata": {},
   "source": [
    "## Terminate the FLDPLN library"
   ]
  },
  {
   "cell_type": "code",
   "execution_count": 12,
   "metadata": {},
   "outputs": [],
   "source": [
    "my_fldpln_py.terminate()"
   ]
  },
  {
   "cell_type": "markdown",
   "metadata": {},
   "source": [
    "## Issues and Questions\n",
    "\n",
    "* Messages printed out (disp() or fprintf()) to the stdout in the FLDPLN Python package CANNOT be printed in this notebook. Running python scripts (such as wildcat_segments.py, wildcat_library.py and wildcat_format_library.py) works just fine.\n"
   ]
  }
 ],
 "metadata": {
  "kernelspec": {
   "display_name": "Python 3 (ipykernel)",
   "language": "python",
   "name": "python3"
  },
  "language_info": {
   "codemirror_mode": {
    "name": "ipython",
    "version": 3
   },
   "file_extension": ".py",
   "mimetype": "text/x-python",
   "name": "python",
   "nbconvert_exporter": "python",
   "pygments_lexer": "ipython3",
   "version": "3.11.9"
  }
 },
 "nbformat": 4,
 "nbformat_minor": 4
}
